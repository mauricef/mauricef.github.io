{
 "cells": [
  {
   "cell_type": "code",
   "execution_count": 1,
   "metadata": {
    "executionInfo": {
     "elapsed": 868,
     "status": "ok",
     "timestamp": 1620144335509,
     "user": {
      "displayName": "Maurice Flanagan",
      "photoUrl": "https://lh3.googleusercontent.com/a-/AOh14GhUYR5sX5WWCWY-jDX-9czeSseqicdattEKSFLKPA=s64",
      "userId": "01067774167747843791"
     },
     "user_tz": 240
    },
    "id": "JxJQVG9EMVj7"
   },
   "outputs": [],
   "source": [
    "from __future__ import annotations\n",
    "\n",
    "from typing import NamedTuple, Sequence, Callable\n",
    "import jax\n",
    "from jax.tree_util import tree_map, tree_multimap\n",
    "from jax import lax\n",
    "import jax.numpy as np\n",
    "import jax.random as random\n",
    "import seaborn as sns"
   ]
  },
  {
   "cell_type": "code",
   "execution_count": 2,
   "metadata": {
    "executionInfo": {
     "elapsed": 357,
     "status": "ok",
     "timestamp": 1620144335510,
     "user": {
      "displayName": "Maurice Flanagan",
      "photoUrl": "https://lh3.googleusercontent.com/a-/AOh14GhUYR5sX5WWCWY-jDX-9czeSseqicdattEKSFLKPA=s64",
      "userId": "01067774167747843791"
     },
     "user_tz": 240
    },
    "id": "Wdec4Yssg6AP"
   },
   "outputs": [],
   "source": [
    "class Hand(NamedTuple):\n",
    "  total: int = 0\n",
    "  is_soft: bool = False\n",
    "\n",
    "class TurnStep(NamedTuple):\n",
    "  hand: Hand\n",
    "  hit: bool\n",
    "  is_game_over: bool\n",
    "  new_hand: Hand\n",
    "\n",
    "class Turn(NamedTuple):\n",
    "  initial_cards: Sequence[int]\n",
    "  initial_hand: Hand\n",
    "  steps: Sequence[TurnStep]\n",
    "  final_index: int\n",
    "  final_hand: Hand\n",
    "\n",
    "class EpisodeStep(NamedTuple):\n",
    "  state: Tuple[int]\n",
    "  action: Tuple[int]\n",
    "\n",
    "class Episode(NamedTuple):\n",
    "  final_step_index: int\n",
    "  trajectory: Sequence[EpisodeStep]\n",
    "  reward: float"
   ]
  },
  {
   "cell_type": "code",
   "execution_count": 3,
   "metadata": {
    "executionInfo": {
     "elapsed": 595,
     "status": "ok",
     "timestamp": 1620144687362,
     "user": {
      "displayName": "Maurice Flanagan",
      "photoUrl": "https://lh3.googleusercontent.com/a-/AOh14GhUYR5sX5WWCWY-jDX-9czeSseqicdattEKSFLKPA=s64",
      "userId": "01067774167747843791"
     },
     "user_tz": 240
    },
    "id": "vwuokVRjvCI2"
   },
   "outputs": [],
   "source": [
    "def one_hot(length, index):\n",
    "  encoded = np.eye(length)[index]\n",
    "  return np.array(encoded, np.int32)\n",
    "  \n",
    "def tree_slice(index, tree):\n",
    "  return tree_map(lambda x: x[index], tree)\n",
    "  \n",
    "def deal_card(rng: int):\n",
    "  return random.choice(rng, np.array([1, 2, 3, 4, 5, 6, 7, 8, 9, 10, 10, 10, 10]))\n",
    "\n",
    "def deal_cards(rng: int, n):\n",
    "  return list(map(deal_card, random.split(rng, n)))\n",
    "\n",
    "def standard_dealer_policy(rng, i, hand: Hand) -> bool:\n",
    "  return hand.total < 17\n",
    "\n",
    "def add_card_to_hand(hand: Hand, card: int) -> Hand:\n",
    "  total = hand.total\n",
    "  total += card\n",
    "  is_ace = card == 1\n",
    "  convert_to_soft = is_ace & ~hand.is_soft & (total < 11)\n",
    "  convert_to_hard = hand.is_soft & (total > 21)\n",
    "  total += np.where(convert_to_soft, 10, 0)\n",
    "  total -= np.where(convert_to_hard, 10, 0)\n",
    "  is_soft = hand.is_soft\n",
    "  is_soft |= convert_to_soft\n",
    "  is_soft &= (~convert_to_hard)\n",
    "  return Hand(total, np.array(is_soft, dtype=np.bool_))\n",
    "\n",
    "def hand_from_cards(cards: Sequence[int]) -> Hand:\n",
    "  hand = Hand()\n",
    "  for card in cards:\n",
    "    hand = add_card_to_hand(hand, card)\n",
    "  return hand\n",
    "\n",
    "def play_turn_step(policy, state, rng):\n",
    "  i, active, hand = state\n",
    "  rng, r = random.split(rng)\n",
    "  hit = active & policy(rng, i, hand)\n",
    "  rng, r = random.split(rng)\n",
    "  card = np.where(hit, deal_card(r), 0)\n",
    "  new_hand = add_card_to_hand(hand, card)\n",
    "  is_game_over = ~hit | (new_hand.total > 21)\n",
    "  next_active = active & hit & ~is_game_over\n",
    "  return (i + 1, next_active, new_hand), TurnStep(hand, hit, is_game_over, new_hand)\n",
    "\n",
    "def play_turn(rng, policy, steps_per_turn: int) -> Turn:\n",
    "  rng, r = random.split(rng)\n",
    "  initial_cards = deal_cards(r, 2)\n",
    "  initial_hand = hand_from_cards(initial_cards)\n",
    "  rng, r = random.split(rng)\n",
    "  initial_state = (0, True, initial_hand)\n",
    "  rngs = np.array(random.split(r, steps_per_turn))\n",
    "  _play_turn_step = jax.partial(play_turn_step, policy)\n",
    "  _, steps = lax.scan(_play_turn_step, initial_state, rngs)\n",
    "  final_index = np.argmax(steps.is_game_over)\n",
    "  final_hand = tree_slice(final_index, steps).new_hand\n",
    "  return Turn(\n",
    "      initial_cards=initial_cards,\n",
    "      initial_hand=initial_hand,\n",
    "      steps=steps,\n",
    "      final_index=final_index,\n",
    "      final_hand=final_hand)\n",
    "\n",
    "def game_result(dealer_total, player_total):\n",
    "  dealer_busts = dealer_total > 21\n",
    "  player_busts = player_total > 21\n",
    "  dealer_wins = ((dealer_total > player_total) & ~dealer_busts) | player_busts\n",
    "  player_wins = ((player_total > dealer_total) & ~player_busts) | (dealer_busts & ~player_busts)\n",
    "  return np.where(player_wins, 1, np.where(dealer_wins, -1, 0))\n",
    "\n",
    "def state_to_index(dealer_shows, player_hand):\n",
    "  return (\n",
    "    np.array(player_hand.is_soft, np.int32),\n",
    "    player_hand.total - 4,\n",
    "    dealer_shows - 1)\n",
    "  \n",
    "def turn_step_to_episode_step(dealer_shows, turn_step):\n",
    "  return EpisodeStep(\n",
    "      state=state_to_index(dealer_shows, turn_step.hand),\n",
    "      action=(np.array(turn_step.hit, np.int32),))\n",
    "  \n",
    "def generate_episode(rng, PI, steps_per_turn):\n",
    "  rng, r = random.split(rng)\n",
    "  dealer_turn = play_turn(r, standard_dealer_policy, steps_per_turn)\n",
    "  dealer_shows = dealer_turn.initial_cards[0]\n",
    "\n",
    "  def player_policy(rng, t, hand):\n",
    "    exploring_action = random.choice(rng, np.array([False, True]))\n",
    "    state = state_to_index(dealer_shows, hand)\n",
    "    policy_action = np.array(PI[state], dtype=np.bool_)\n",
    "    is_exploring_start = t == 0\n",
    "    return np.where(is_exploring_start, exploring_action, policy_action)\n",
    "\n",
    "  rng, r = random.split(rng)\n",
    "  player_turn = play_turn(r, player_policy, steps_per_turn)\n",
    "  final_step_index = player_turn.final_index\n",
    "  dealer_shows = dealer_turn.initial_cards[0]\n",
    "  dealer_shows = np.repeat(dealer_shows, steps_per_turn)\n",
    "  trajectory = turn_step_to_episode_step(\n",
    "      dealer_shows=dealer_shows,\n",
    "      turn_step=player_turn.steps)\n",
    "  \n",
    "  result = game_result(dealer_turn.final_hand.total, player_turn.final_hand.total)\n",
    "  return Episode(\n",
    "    final_step_index=final_step_index, \n",
    "    trajectory=trajectory,\n",
    "    reward=np.array(result, dtype=np.float32))\n",
    "\n",
    "def process_step(state, reward, step):\n",
    "    Q, C, PI = state\n",
    "    S = step.state\n",
    "    SA = step.state + step.action\n",
    "    C = jax.ops.index_add(C, SA, 1)\n",
    "    Q = jax.ops.index_add(Q, SA, (reward - Q[SA]) / C[SA])\n",
    "    PI = jax.ops.index_update(PI, S, np.argmax(Q[S]))\n",
    "    return Q, C, PI\n",
    "\n",
    "def process_episode(model_state, episode, steps_per_episode):\n",
    "  def scan(state, step):\n",
    "    (t, model_state) = state\n",
    "    skip = t > episode.final_step_index\n",
    "    new_model_state = process_step(model_state, episode.reward, step)\n",
    "    model_state = tree_multimap(lambda x, y: np.where(skip, x, y), model_state, new_model_state)\n",
    "    return (t+1, model_state), None\n",
    "\n",
    "  steps = episode.trajectory\n",
    "  (_, model_state), _ = lax.scan(scan, (0, model_state), steps)\n",
    "  return model_state\n",
    "\n",
    "@jax.partial(jax.jit, static_argnums=(2, 3))\n",
    "def learn(rng, state, episodes, steps_per_episode):\n",
    "  def scan(state, rng):\n",
    "    Q, C, PI = state\n",
    "    rng, r = random.split(rng)\n",
    "    episode = generate_episode(r, PI, steps_per_episode)\n",
    "    Q, C, PI = process_episode((Q, C, PI), episode, steps_per_episode)\n",
    "    return (Q, C, PI), None\n",
    "  rngs = np.array(random.split(rng, episodes))\n",
    "  state, _ = lax.scan(scan, state, rngs)\n",
    "  return state"
   ]
  },
  {
   "cell_type": "code",
   "execution_count": 4,
   "metadata": {
    "executionInfo": {
     "elapsed": 121077,
     "status": "ok",
     "timestamp": 1620144979225,
     "user": {
      "displayName": "Maurice Flanagan",
      "photoUrl": "https://lh3.googleusercontent.com/a-/AOh14GhUYR5sX5WWCWY-jDX-9czeSseqicdattEKSFLKPA=s64",
      "userId": "01067774167747843791"
     },
     "user_tz": 240
    },
    "id": "T9WDUZohq6qU"
   },
   "outputs": [
    {
     "name": "stderr",
     "output_type": "stream",
     "text": [
      "WARNING:absl:No GPU/TPU found, falling back to CPU. (Set TF_CPP_MIN_LOG_LEVEL=0 and rerun for more info.)\n"
     ]
    }
   ],
   "source": [
    "EPISODES = 5_000_000\n",
    "STEPS_PER_EPISODE = 10\n",
    "HAND_SOFT = 2\n",
    "HAND_TOTAL = 18\n",
    "DEALER_SHOWS_COUNT = 10\n",
    "STATE_SHAPE = (HAND_SOFT, HAND_TOTAL, DEALER_SHOWS_COUNT)\n",
    "ACTION_COUNT = 2\n",
    "ACTION_SHAPE = (ACTION_COUNT,)\n",
    "Q = np.zeros(STATE_SHAPE + ACTION_SHAPE)\n",
    "C = np.zeros_like(Q, dtype=np.int32)\n",
    "PI = np.zeros(STATE_SHAPE)\n",
    "rng = random.PRNGKey(42)\n",
    "Q, C, PI = learn(rng, (Q, C, PI), EPISODES, STEPS_PER_EPISODE)\n",
    "_ = PI.block_until_ready()"
   ]
  },
  {
   "cell_type": "code",
   "execution_count": 5,
   "metadata": {
    "colab": {
     "base_uri": "https://localhost:8080/",
     "height": 295
    },
    "executionInfo": {
     "elapsed": 120871,
     "status": "ok",
     "timestamp": 1620144979376,
     "user": {
      "displayName": "Maurice Flanagan",
      "photoUrl": "https://lh3.googleusercontent.com/a-/AOh14GhUYR5sX5WWCWY-jDX-9czeSseqicdattEKSFLKPA=s64",
      "userId": "01067774167747843791"
     },
     "user_tz": 240
    },
    "id": "ApDos3UZg1BO",
    "outputId": "f14fcb34-8d95-41cc-f195-7fa28956f62d"
   },
   "outputs": [
    {
     "data": {
      "image/png": "[encoded data removed]",
      "text/plain": [
       "<Figure size 432x288 with 1 Axes>"
      ]
     },
     "metadata": {
      "needs_background": "light"
     },
     "output_type": "display_data"
    }
   ],
   "source": [
    "ax = sns.heatmap(PI[1, 8:], linewidths=.5, cbar=False)\n",
    "ax.set(\n",
    "    title='Soft Hands',\n",
    "    xlabel='Dealer Showing', \n",
    "    ylabel='Player sum', \n",
    "    xticklabels=list(range(1, 11)),\n",
    "    yticklabels=list(range(12, 22)))\n",
    "ax.invert_yaxis()"
   ]
  },
  {
   "cell_type": "code",
   "execution_count": 6,
   "metadata": {
    "colab": {
     "base_uri": "https://localhost:8080/",
     "height": 295
    },
    "executionInfo": {
     "elapsed": 121170,
     "status": "ok",
     "timestamp": 1620144979872,
     "user": {
      "displayName": "Maurice Flanagan",
      "photoUrl": "https://lh3.googleusercontent.com/a-/AOh14GhUYR5sX5WWCWY-jDX-9czeSseqicdattEKSFLKPA=s64",
      "userId": "01067774167747843791"
     },
     "user_tz": 240
    },
    "id": "Zm07v7OcgqrT",
    "outputId": "28cef71f-f73a-49e3-8728-981d7e207280"
   },
   "outputs": [
    {
     "data": {
      "image/png": "[encoded data removed]",
      "text/plain": [
       "<Figure size 432x288 with 1 Axes>"
      ]
     },
     "metadata": {
      "needs_background": "light"
     },
     "output_type": "display_data"
    }
   ],
   "source": [
    "ax = sns.heatmap(PI[0, 7:-1], linewidths=.5, cbar=False)\n",
    "ax.set(\n",
    "    title='Hard Hands',\n",
    "    xlabel='Dealer Showing', \n",
    "    ylabel='Player sum', \n",
    "    xticklabels=list(range(1, 11)),\n",
    "    yticklabels=list(range(11, 21)))\n",
    "ax.invert_yaxis()"
   ]
  }
 ],
 "metadata": {
  "colab": {
   "authorship_tag": "ABX9TyPziaMH0cl/7eA/LT4f+HrP",
   "collapsed_sections": [],
   "name": "Ch 5 Black Jack.ipynb",
   "provenance": []
  },
  "kernelspec": {
   "display_name": "Python 3",
   "language": "python",
   "name": "python3"
  },
  "language_info": {
   "codemirror_mode": {
    "name": "ipython",
    "version": 3
   },
   "file_extension": ".py",
   "mimetype": "text/x-python",
   "name": "python",
   "nbconvert_exporter": "python",
   "pygments_lexer": "ipython3",
   "version": "3.9.5"
  }
 },
 "nbformat": 4,
 "nbformat_minor": 4
}
