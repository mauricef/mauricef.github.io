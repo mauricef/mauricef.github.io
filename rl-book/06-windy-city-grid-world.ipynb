{
 "cells": [
  {
   "cell_type": "code",
   "execution_count": 1,
   "metadata": {
    "executionInfo": {
     "elapsed": 1312,
     "status": "ok",
     "timestamp": 1620235436439,
     "user": {
      "displayName": "Maurice Flanagan",
      "photoUrl": "https://lh3.googleusercontent.com/a-/AOh14GhUYR5sX5WWCWY-jDX-9czeSseqicdattEKSFLKPA=s64",
      "userId": "01067774167747843791"
     },
     "user_tz": 240
    },
    "id": "6nwhoUmi7ryE"
   },
   "outputs": [],
   "source": [
    "import jax\n",
    "import jax.lax as lax\n",
    "from jax.tree_util import tree_multimap\n",
    "import jax.numpy as np\n",
    "import jax.random as random\n",
    "import seaborn as sns\n",
    "from typing import NamedTuple"
   ]
  },
  {
   "cell_type": "code",
   "execution_count": 2,
   "metadata": {
    "executionInfo": {
     "elapsed": 440,
     "status": "ok",
     "timestamp": 1620236069259,
     "user": {
      "displayName": "Maurice Flanagan",
      "photoUrl": "https://lh3.googleusercontent.com/a-/AOh14GhUYR5sX5WWCWY-jDX-9czeSseqicdattEKSFLKPA=s64",
      "userId": "01067774167747843791"
     },
     "user_tz": 240
    },
    "id": "s-R2oVVN8GVn"
   },
   "outputs": [
    {
     "name": "stderr",
     "output_type": "stream",
     "text": [
      "WARNING:absl:No GPU/TPU found, falling back to CPU. (Set TF_CPP_MIN_LOG_LEVEL=0 and rerun for more info.)\n"
     ]
    }
   ],
   "source": [
    "grid_shape = (7, 10)\n",
    "upwind = np.array([0, 0, 0, 1, 1, 1, 2, 2, 1, 0])\n",
    "start = np.array([3, 0])\n",
    "goal = np.array([3, 7])\n",
    "\n",
    "max_position = np.array([grid_shape[0] - 1, grid_shape[1] - 1])\n",
    "actions = np.array([\n",
    "  [-1, 0], # up\n",
    "  [1, 0], # down\n",
    "  [0, -1], # left \n",
    "  [0, 1], # right\n",
    "])\n",
    "action_count = len(actions)\n",
    "action_shape = (4,)\n",
    "\n",
    "def wind_at_position(position):\n",
    "  return np.array([-upwind[position[1]], 0])\n",
    "\n",
    "def move(position, action):\n",
    "  position += wind_at_position(position)\n",
    "  position += actions[action]\n",
    "  position = np.clip(position, np.array([0, 0]), max_position)\n",
    "  return position\n",
    "\n",
    "def is_terminal_state(S):\n",
    "  return (S[0] == goal[0]) & (S[1] == goal[1])\n",
    "  \n",
    "def policy(rng, Q, S, epsilon):\n",
    "  Amax = np.argmax(Q[tuple(S)])\n",
    "  p = np.repeat(epsilon / action_count, action_count)\n",
    "  p = jax.ops.index_add(p, Amax, (1 - epsilon))\n",
    "  A = random.choice(rng, np.arange(action_count), p=p)\n",
    "  return A\n",
    "  \n",
    "@jax.jit\n",
    "def run_episode(rng, Q, epsilon, alpha):\n",
    "\n",
    "  def cond(state):\n",
    "    Q, S, A, i, rng = state\n",
    "    return ~is_terminal_state(S)\n",
    "\n",
    "  def body(state):\n",
    "    Q, S, A, i, rng = state\n",
    "    Sp = move(S, A)\n",
    "    R = np.where(is_terminal_state(Sp), 0, -1)\n",
    "    rng, r = random.split(rng)\n",
    "    Ap = policy(r, Q, Sp, epsilon)\n",
    "    SA = tuple(S) + (A,)\n",
    "    SAp = tuple(Sp) + (Ap,)\n",
    "    Q = jax.ops.index_add(Q, SA, alpha * (R + Q[SAp] - Q[SA]))\n",
    "    S = Sp\n",
    "    A = Ap\n",
    "    i += 1\n",
    "    return Q, S, A, i, rng\n",
    "\n",
    "  S = start\n",
    "  rng, r = random.split(rng)\n",
    "  A = policy(r, Q, S, epsilon)\n",
    "  rng, r = random.split(rng)\n",
    "  initial_state = (Q, S, A, 0, r)\n",
    "  Q, S, A, i, rng = lax.while_loop(cond, body, initial_state)\n",
    "  return Q, i"
   ]
  },
  {
   "cell_type": "code",
   "execution_count": 3,
   "metadata": {
    "executionInfo": {
     "elapsed": 2158,
     "status": "ok",
     "timestamp": 1620236299315,
     "user": {
      "displayName": "Maurice Flanagan",
      "photoUrl": "https://lh3.googleusercontent.com/a-/AOh14GhUYR5sX5WWCWY-jDX-9czeSseqicdattEKSFLKPA=s64",
      "userId": "01067774167747843791"
     },
     "user_tz": 240
    },
    "id": "-gkdHj-uAuHL"
   },
   "outputs": [],
   "source": [
    "rng = random.PRNGKey(42)\n",
    "episodes = 1000\n",
    "Q = np.zeros(grid_shape + action_shape)\n",
    "epsilon = .1\n",
    "alpha = .5\n",
    "\n",
    "def scan(state, _):\n",
    "  Q, rng = state\n",
    "  rng, r = random.split(rng)\n",
    "  Q, steps = run_episode(r, Q, epsilon=epsilon, alpha=alpha)\n",
    "  return (Q, rng), (Q, steps)\n",
    "\n",
    "rng, r = random.split(rng)\n",
    "(Q, rng), (Qs, steps) = lax.scan(scan, (Q, r), xs=None, length=episodes)"
   ]
  },
  {
   "cell_type": "code",
   "execution_count": 4,
   "metadata": {
    "colab": {
     "base_uri": "https://localhost:8080/"
    },
    "executionInfo": {
     "elapsed": 262,
     "status": "ok",
     "timestamp": 1620236300424,
     "user": {
      "displayName": "Maurice Flanagan",
      "photoUrl": "https://lh3.googleusercontent.com/a-/AOh14GhUYR5sX5WWCWY-jDX-9czeSseqicdattEKSFLKPA=s64",
      "userId": "01067774167747843791"
     },
     "user_tz": 240
    },
    "id": "_pJfFizFAqKZ",
    "outputId": "3f7bdd79-bf7d-4e57-df82-643588b1225d"
   },
   "outputs": [
    {
     "data": {
      "text/plain": [
       "DeviceArray([[3, 0, 3, 3, 3, 3, 3, 3, 3, 1],\n",
       "             [2, 3, 0, 3, 0, 3, 3, 0, 0, 1],\n",
       "             [3, 3, 3, 0, 3, 3, 3, 3, 3, 1],\n",
       "             [3, 3, 3, 3, 3, 3, 1, 0, 3, 1],\n",
       "             [3, 3, 3, 3, 3, 3, 0, 1, 2, 2],\n",
       "             [1, 3, 3, 3, 3, 0, 0, 1, 2, 0],\n",
       "             [3, 3, 3, 3, 0, 0, 0, 0, 0, 3]], dtype=int32)"
      ]
     },
     "execution_count": 4,
     "metadata": {},
     "output_type": "execute_result"
    }
   ],
   "source": [
    "np.argmax(Q, axis=-1)"
   ]
  },
  {
   "cell_type": "code",
   "execution_count": 5,
   "metadata": {
    "colab": {
     "base_uri": "https://localhost:8080/"
    },
    "executionInfo": {
     "elapsed": 314,
     "status": "ok",
     "timestamp": 1620236301440,
     "user": {
      "displayName": "Maurice Flanagan",
      "photoUrl": "https://lh3.googleusercontent.com/a-/AOh14GhUYR5sX5WWCWY-jDX-9czeSseqicdattEKSFLKPA=s64",
      "userId": "01067774167747843791"
     },
     "user_tz": 240
    },
    "id": "CpejXtDqg1vg",
    "outputId": "bfcc7489-48cc-4ad4-9c08-93fd793a9fe6"
   },
   "outputs": [
    {
     "data": {
      "text/plain": [
       "DeviceArray(24551, dtype=int32)"
      ]
     },
     "execution_count": 5,
     "metadata": {},
     "output_type": "execute_result"
    }
   ],
   "source": [
    "np.sum(steps)"
   ]
  },
  {
   "cell_type": "code",
   "execution_count": 6,
   "metadata": {
    "colab": {
     "base_uri": "https://localhost:8080/"
    },
    "executionInfo": {
     "elapsed": 243,
     "status": "ok",
     "timestamp": 1620236302542,
     "user": {
      "displayName": "Maurice Flanagan",
      "photoUrl": "https://lh3.googleusercontent.com/a-/AOh14GhUYR5sX5WWCWY-jDX-9czeSseqicdattEKSFLKPA=s64",
      "userId": "01067774167747843791"
     },
     "user_tz": 240
    },
    "id": "povQ5S0NmjHj",
    "outputId": "ca1b5409-e3af-458a-f040-56752a087253"
   },
   "outputs": [
    {
     "data": {
      "text/plain": [
       "DeviceArray(15, dtype=int32)"
      ]
     },
     "execution_count": 6,
     "metadata": {},
     "output_type": "execute_result"
    }
   ],
   "source": [
    "np.min(steps)"
   ]
  },
  {
   "cell_type": "code",
   "execution_count": 7,
   "metadata": {
    "colab": {
     "base_uri": "https://localhost:8080/"
    },
    "executionInfo": {
     "elapsed": 244,
     "status": "ok",
     "timestamp": 1620236304040,
     "user": {
      "displayName": "Maurice Flanagan",
      "photoUrl": "https://lh3.googleusercontent.com/a-/AOh14GhUYR5sX5WWCWY-jDX-9czeSseqicdattEKSFLKPA=s64",
      "userId": "01067774167747843791"
     },
     "user_tz": 240
    },
    "id": "BKD0ao7omQNm",
    "outputId": "d90c95f3-dc50-4295-d857-95262f31890c"
   },
   "outputs": [
    {
     "data": {
      "text/plain": [
       "DeviceArray(17.8, dtype=float32)"
      ]
     },
     "execution_count": 7,
     "metadata": {},
     "output_type": "execute_result"
    }
   ],
   "source": [
    "np.average(steps[-10:])"
   ]
  }
 ],
 "metadata": {
  "colab": {
   "authorship_tag": "ABX9TyPvLBjP/MNef2kKqsffZ/d/",
   "collapsed_sections": [],
   "name": "Ch 6 Windy Grid World.ipynb",
   "provenance": []
  },
  "kernelspec": {
   "display_name": "Python 3",
   "language": "python",
   "name": "python3"
  },
  "language_info": {
   "codemirror_mode": {
    "name": "ipython",
    "version": 3
   },
   "file_extension": ".py",
   "mimetype": "text/x-python",
   "name": "python",
   "nbconvert_exporter": "python",
   "pygments_lexer": "ipython3",
   "version": "3.9.5"
  }
 },
 "nbformat": 4,
 "nbformat_minor": 4
}
