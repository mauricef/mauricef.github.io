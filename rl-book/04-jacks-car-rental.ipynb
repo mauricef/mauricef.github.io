{
 "cells": [
  {
   "cell_type": "markdown",
   "metadata": {
    "id": "zyjxUg00RiGo"
   },
   "source": [
    "# Jax Car Rental\n",
    "From Example 4.2 in [Sutton & Barto](http://incompleteideas.net/book/the-book.html)"
   ]
  },
  {
   "cell_type": "code",
   "execution_count": 1,
   "metadata": {
    "executionInfo": {
     "elapsed": 2046,
     "status": "ok",
     "timestamp": 1619451400135,
     "user": {
      "displayName": "Maurice Flanagan",
      "photoUrl": "https://lh3.googleusercontent.com/a-/AOh14GhUYR5sX5WWCWY-jDX-9czeSseqicdattEKSFLKPA=s64",
      "userId": "01067774167747843791"
     },
     "user_tz": 240
    },
    "id": "XxiplRajRtHt"
   },
   "outputs": [],
   "source": [
    "from jax import jit, vmap, partial, make_jaxpr\n",
    "import jax.numpy as np\n",
    "from jax.scipy.stats import poisson"
   ]
  },
  {
   "cell_type": "code",
   "execution_count": 2,
   "metadata": {
    "executionInfo": {
     "elapsed": 1531,
     "status": "ok",
     "timestamp": 1619451400136,
     "user": {
      "displayName": "Maurice Flanagan",
      "photoUrl": "https://lh3.googleusercontent.com/a-/AOh14GhUYR5sX5WWCWY-jDX-9czeSseqicdattEKSFLKPA=s64",
      "userId": "01067774167747843791"
     },
     "user_tz": 240
    },
    "id": "UyDhwEq347Dx"
   },
   "outputs": [],
   "source": [
    "def cartesian(*arrays):\n",
    "  arrays = np.meshgrid(*arrays, indexing='ij')\n",
    "  arrays = [a.ravel() for a in arrays]\n",
    "  return arrays"
   ]
  },
  {
   "cell_type": "code",
   "execution_count": 3,
   "metadata": {
    "executionInfo": {
     "elapsed": 265,
     "status": "ok",
     "timestamp": 1619451400996,
     "user": {
      "displayName": "Maurice Flanagan",
      "photoUrl": "https://lh3.googleusercontent.com/a-/AOh14GhUYR5sX5WWCWY-jDX-9czeSseqicdattEKSFLKPA=s64",
      "userId": "01067774167747843791"
     },
     "user_tz": 240
    },
    "id": "4C6jWFLvzfi2"
   },
   "outputs": [],
   "source": [
    "max_transfers = 5\n",
    "max_cars = 20\n",
    "max_rental_returns = 11\n",
    "rental_reward = 10\n",
    "transfer_reward = -2\n",
    "l1_rental_rate = 3\n",
    "l1_return_rate = 3\n",
    "l2_rental_rate = 4\n",
    "l2_return_rate = 2\n",
    "discount_rate = .9"
   ]
  },
  {
   "cell_type": "code",
   "execution_count": 4,
   "metadata": {
    "executionInfo": {
     "elapsed": 383,
     "status": "ok",
     "timestamp": 1619451401567,
     "user": {
      "displayName": "Maurice Flanagan",
      "photoUrl": "https://lh3.googleusercontent.com/a-/AOh14GhUYR5sX5WWCWY-jDX-9czeSseqicdattEKSFLKPA=s64",
      "userId": "01067774167747843791"
     },
     "user_tz": 240
    },
    "id": "44_vKj-heUIX"
   },
   "outputs": [],
   "source": [
    "def rent_and_return(count, rentals, returns):\n",
    "  rentals = np.minimum(count, rentals)\n",
    "  count -= rentals\n",
    "  count += returns\n",
    "  count = np.minimum(count, max_cars)\n",
    "  return count, rentals"
   ]
  },
  {
   "cell_type": "code",
   "execution_count": 5,
   "metadata": {
    "executionInfo": {
     "elapsed": 244,
     "status": "ok",
     "timestamp": 1619451401904,
     "user": {
      "displayName": "Maurice Flanagan",
      "photoUrl": "https://lh3.googleusercontent.com/a-/AOh14GhUYR5sX5WWCWY-jDX-9czeSseqicdattEKSFLKPA=s64",
      "userId": "01067774167747843791"
     },
     "user_tz": 240
    },
    "id": "SRhKqiQkH1v8"
   },
   "outputs": [],
   "source": [
    "def simulate(\n",
    "    transfer,\n",
    "    l1_count,\n",
    "    l2_count,\n",
    "    l1_rentals,\n",
    "    l1_returns,\n",
    "    l2_rentals,\n",
    "    l2_returns):\n",
    "\n",
    "  clipped_transfer = np.clip(transfer, -l2_count, l1_count)\n",
    "  l1_count -= clipped_transfer\n",
    "  l2_count += clipped_transfer\n",
    "  l1_count = np.minimum(l1_count, max_cars)\n",
    "  l2_count = np.minimum(l2_count, max_cars)\n",
    "  \n",
    "  probabilities = poisson.pmf(\n",
    "      np.array([l1_rentals, l1_returns, l2_rentals, l2_returns]),\n",
    "      np.array([l1_rental_rate, l1_return_rate, l2_rental_rate, l2_return_rate]),\n",
    "  )\n",
    "  probability = np.product(probabilities)\n",
    "\n",
    "  l1_count, l1_rentals = rent_and_return(l1_count, l1_rentals, l1_returns)\n",
    "  l2_count, l2_rentals = rent_and_return(l2_count, l2_rentals, l2_returns)\n",
    "  rentals = l1_rentals + l2_rentals\n",
    "\n",
    "  reward = np.abs(transfer) * transfer_reward + rentals * rental_reward\n",
    "\n",
    "  return (probability, reward, l1_count, l2_count)"
   ]
  },
  {
   "cell_type": "code",
   "execution_count": 6,
   "metadata": {
    "executionInfo": {
     "elapsed": 260,
     "status": "ok",
     "timestamp": 1619451402871,
     "user": {
      "displayName": "Maurice Flanagan",
      "photoUrl": "https://lh3.googleusercontent.com/a-/AOh14GhUYR5sX5WWCWY-jDX-9czeSseqicdattEKSFLKPA=s64",
      "userId": "01067774167747843791"
     },
     "user_tz": 240
    },
    "id": "pUpW2b3yJRji"
   },
   "outputs": [],
   "source": [
    "state_count = (max_cars + 1) ** 2\n",
    "\n",
    "def state_to_cars(state):\n",
    "  return np.divmod(state, (max_cars + 1))\n",
    "\n",
    "def cars_to_state(l1_count, l2_count):\n",
    "  return l1_count * (max_cars + 1) + l2_count"
   ]
  },
  {
   "cell_type": "code",
   "execution_count": 7,
   "metadata": {
    "executionInfo": {
     "elapsed": 253,
     "status": "ok",
     "timestamp": 1619451403820,
     "user": {
      "displayName": "Maurice Flanagan",
      "photoUrl": "https://lh3.googleusercontent.com/a-/AOh14GhUYR5sX5WWCWY-jDX-9czeSseqicdattEKSFLKPA=s64",
      "userId": "01067774167747843791"
     },
     "user_tz": 240
    },
    "id": "KGak1oWwJvXL"
   },
   "outputs": [],
   "source": [
    "action_count = max_transfers * 2 + 1\n",
    "\n",
    "def action_to_transfer(action):\n",
    "  return action - max_transfers\n",
    "\n",
    "def transfer_to_action(transfer):\n",
    "  return transfer + max_transfers"
   ]
  },
  {
   "cell_type": "code",
   "execution_count": 8,
   "metadata": {
    "executionInfo": {
     "elapsed": 258,
     "status": "ok",
     "timestamp": 1619451404572,
     "user": {
      "displayName": "Maurice Flanagan",
      "photoUrl": "https://lh3.googleusercontent.com/a-/AOh14GhUYR5sX5WWCWY-jDX-9czeSseqicdattEKSFLKPA=s64",
      "userId": "01067774167747843791"
     },
     "user_tz": 240
    },
    "id": "u5xDh-jPH_Yb"
   },
   "outputs": [],
   "source": [
    "def transition(state, action):\n",
    "  l1_count, l2_count = state_to_cars(state)\n",
    "  transfer = action_to_transfer(action)\n",
    "  rental_return_args = cartesian(\n",
    "    np.arange(max_rental_returns + 1),\n",
    "    np.arange(max_rental_returns + 1),\n",
    "    np.arange(max_rental_returns + 1),\n",
    "    np.arange(max_rental_returns + 1))\n",
    "  batch_simulate = vmap(simulate, in_axes=(None, None, None, 0, 0, 0, 0))\n",
    "  probabilities, rewards, next_l1_counts, next_l2_counts = batch_simulate(\n",
    "      transfer,\n",
    "      l1_count,\n",
    "      l2_count,\n",
    "      *rental_return_args)\n",
    "  next_states = cars_to_state(next_l1_counts, next_l2_counts)\n",
    "  return probabilities, rewards, next_states"
   ]
  },
  {
   "cell_type": "code",
   "execution_count": 9,
   "metadata": {
    "executionInfo": {
     "elapsed": 262,
     "status": "ok",
     "timestamp": 1619451416543,
     "user": {
      "displayName": "Maurice Flanagan",
      "photoUrl": "https://lh3.googleusercontent.com/a-/AOh14GhUYR5sX5WWCWY-jDX-9czeSseqicdattEKSFLKPA=s64",
      "userId": "01067774167747843791"
     },
     "user_tz": 240
    },
    "id": "0fqId68jTZDN"
   },
   "outputs": [],
   "source": [
    "def expected_value(state, action, values):\n",
    "  probablities, rewards, next_states = transition(state, action)\n",
    "  return np.sum(probablities * (rewards + discount_rate * values[next_states]))"
   ]
  },
  {
   "cell_type": "code",
   "execution_count": 10,
   "metadata": {
    "executionInfo": {
     "elapsed": 411,
     "status": "ok",
     "timestamp": 1619451417076,
     "user": {
      "displayName": "Maurice Flanagan",
      "photoUrl": "https://lh3.googleusercontent.com/a-/AOh14GhUYR5sX5WWCWY-jDX-9czeSseqicdattEKSFLKPA=s64",
      "userId": "01067774167747843791"
     },
     "user_tz": 240
    },
    "id": "eXLLsAriYZzV"
   },
   "outputs": [],
   "source": [
    "@jit\n",
    "def evaluate_policy(values, policy):\n",
    "  batch_expected_value = vmap(expected_value, in_axes=(0, 0, None))\n",
    "  states = np.arange(state_count)\n",
    "  return batch_expected_value(states, policy, values)"
   ]
  },
  {
   "cell_type": "code",
   "execution_count": 11,
   "metadata": {
    "executionInfo": {
     "elapsed": 287,
     "status": "ok",
     "timestamp": 1619451417486,
     "user": {
      "displayName": "Maurice Flanagan",
      "photoUrl": "https://lh3.googleusercontent.com/a-/AOh14GhUYR5sX5WWCWY-jDX-9czeSseqicdattEKSFLKPA=s64",
      "userId": "01067774167747843791"
     },
     "user_tz": 240
    },
    "id": "35WrFynTZ4Mm"
   },
   "outputs": [],
   "source": [
    "@jit\n",
    "def improve_policy(values, policy):\n",
    "  @vmap\n",
    "  def next_policy(state):\n",
    "    batch_expected_value = vmap(expected_value, in_axes=(None, 0, None))\n",
    "    actions = np.arange(action_count)\n",
    "    return np.argmax(batch_expected_value(state, actions, values))\n",
    "  states = np.arange(state_count)\n",
    "  return next_policy(states)"
   ]
  },
  {
   "cell_type": "code",
   "execution_count": 18,
   "metadata": {
    "colab": {
     "base_uri": "https://localhost:8080/"
    },
    "executionInfo": {
     "elapsed": 2862,
     "status": "ok",
     "timestamp": 1619451632604,
     "user": {
      "displayName": "Maurice Flanagan",
      "photoUrl": "https://lh3.googleusercontent.com/a-/AOh14GhUYR5sX5WWCWY-jDX-9czeSseqicdattEKSFLKPA=s64",
      "userId": "01067774167747843791"
     },
     "user_tz": 240
    },
    "id": "EWSVoD01aoYp",
    "outputId": "7a3891d3-e37a-4f8a-d252-0221e9644cc1"
   },
   "outputs": [],
   "source": [
    "values = np.zeros(state_count)\n",
    "policy = np.zeros(state_count, dtype=np.int32)\n",
    "delta_policy_threshold = 0\n",
    "delta_values_threshold = 1e-3\n",
    "delta_policy = np.inf\n",
    "while delta_policy > delta_policy_threshold:\n",
    "    delta_values = np.inf\n",
    "    while delta_values > delta_values_threshold:\n",
    "        new_values = evaluate_policy(values, policy)\n",
    "        delta_values = np.max(np.abs(values - new_values))\n",
    "        values = new_values\n",
    "    new_policy = improve_policy(values, policy)\n",
    "    delta_policy = np.sum(policy != new_policy)\n",
    "    policy = new_policy"
   ]
  },
  {
   "cell_type": "code",
   "execution_count": 19,
   "metadata": {
    "executionInfo": {
     "elapsed": 359,
     "status": "ok",
     "timestamp": 1619451633856,
     "user": {
      "displayName": "Maurice Flanagan",
      "photoUrl": "https://lh3.googleusercontent.com/a-/AOh14GhUYR5sX5WWCWY-jDX-9czeSseqicdattEKSFLKPA=s64",
      "userId": "01067774167747843791"
     },
     "user_tz": 240
    },
    "id": "dFN5ab5L1ozO"
   },
   "outputs": [],
   "source": [
    "import seaborn as sns"
   ]
  },
  {
   "cell_type": "code",
   "execution_count": 21,
   "metadata": {
    "colab": {
     "base_uri": "https://localhost:8080/",
     "height": 283
    },
    "executionInfo": {
     "elapsed": 648,
     "status": "ok",
     "timestamp": 1619451635192,
     "user": {
      "displayName": "Maurice Flanagan",
      "photoUrl": "https://lh3.googleusercontent.com/a-/AOh14GhUYR5sX5WWCWY-jDX-9czeSseqicdattEKSFLKPA=s64",
      "userId": "01067774167747843791"
     },
     "user_tz": 240
    },
    "id": "KUV5woicsnY3",
    "outputId": "27f5b1a7-a88c-431a-84e6-65f1d42ebcd0"
   },
   "outputs": [
    {
     "data": {
      "image/png": "[encoded data removed]",
      "text/plain": [
       "<Figure size 432x288 with 2 Axes>"
      ]
     },
     "metadata": {
      "needs_background": "light"
     },
     "output_type": "display_data"
    }
   ],
   "source": [
    "transfers = action_to_transfer(policy.reshape((max_cars + 1, max_cars + 1)))\n",
    "ax = sns.heatmap(transfers)\n",
    "ax.set(xlabel='l2', ylabel='l1')\n",
    "ax.invert_yaxis()"
   ]
  },
  {
   "cell_type": "code",
   "execution_count": 22,
   "metadata": {
    "colab": {
     "base_uri": "https://localhost:8080/",
     "height": 279
    },
    "executionInfo": {
     "elapsed": 585,
     "status": "ok",
     "timestamp": 1619451636365,
     "user": {
      "displayName": "Maurice Flanagan",
      "photoUrl": "https://lh3.googleusercontent.com/a-/AOh14GhUYR5sX5WWCWY-jDX-9czeSseqicdattEKSFLKPA=s64",
      "userId": "01067774167747843791"
     },
     "user_tz": 240
    },
    "id": "hgAtFms_iomu",
    "outputId": "a874fbe2-af05-45b5-bac8-a00c4d2c12b2"
   },
   "outputs": [
    {
     "data": {
      "image/png": "[encoded data removed]",
      "text/plain": [
       "<Figure size 432x288 with 2 Axes>"
      ]
     },
     "metadata": {
      "needs_background": "light"
     },
     "output_type": "display_data"
    }
   ],
   "source": [
    "ax = sns.heatmap(values.reshape((max_cars + 1, max_cars + 1)))\n",
    "ax.set(xlabel='l2', ylabel='l1')\n",
    "ax.invert_yaxis()"
   ]
  }
 ],
 "metadata": {
  "accelerator": "GPU",
  "colab": {
   "authorship_tag": "ABX9TyPllCvXfC2nBT+t0X9I68i1",
   "collapsed_sections": [],
   "name": "Ch 4 Jack's Car Rental.ipynb",
   "provenance": []
  },
  "kernelspec": {
   "display_name": "Python 3",
   "language": "python",
   "name": "python3"
  },
  "language_info": {
   "codemirror_mode": {
    "name": "ipython",
    "version": 3
   },
   "file_extension": ".py",
   "mimetype": "text/x-python",
   "name": "python",
   "nbconvert_exporter": "python",
   "pygments_lexer": "ipython3",
   "version": "3.9.5"
  }
 },
 "nbformat": 4,
 "nbformat_minor": 4
}
