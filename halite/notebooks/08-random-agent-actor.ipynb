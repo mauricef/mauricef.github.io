{
 "cells": [
  {
   "cell_type": "code",
   "execution_count": null,
   "id": "d8798461-7acd-45ef-a962-87f43c032ce1",
   "metadata": {
    "colab": {
     "base_uri": "https://localhost:8080/"
    },
    "id": "d8798461-7acd-45ef-a962-87f43c032ce1",
    "outputId": "83933458-be02-4f48-98cd-dc8309aa7588",
    "tags": []
   },
   "outputs": [],
   "source": [
    "%pip install git+https://github.com/mauricef/halite-iv-jax.git@9e04bec18a5b45deb3e1828b277115365318b914 \\\n",
    "    seaborn \\\n",
    "    dm-haiku \\\n",
    "    optax \\\n",
    "    kaggle-environments"
   ]
  },
  {
   "cell_type": "code",
   "execution_count": 1,
   "id": "a3f2c6ed-8cfc-45bd-8b19-5d5e3ea85db2",
   "metadata": {},
   "outputs": [],
   "source": [
    "%load_ext autoreload\n",
    "%autoreload 2"
   ]
  },
  {
   "cell_type": "markdown",
   "id": "014b3a47-2afc-46ba-8296-5fd0eb569ef2",
   "metadata": {
    "id": "014b3a47-2afc-46ba-8296-5fd0eb569ef2",
    "tags": []
   },
   "source": [
    "# Random Agent Actor\n",
    "Predict actions of random agent."
   ]
  },
  {
   "cell_type": "code",
   "execution_count": 1,
   "id": "bb263216-cfef-4285-a88a-2f25d743cf04",
   "metadata": {
    "colab": {
     "base_uri": "https://localhost:8080/"
    },
    "id": "bb263216-cfef-4285-a88a-2f25d743cf04",
    "outputId": "905d56b4-6bd0-4446-cf73-12224bd9863e"
   },
   "outputs": [
    {
     "name": "stderr",
     "output_type": "stream",
     "text": [
      "WARNING:absl:No GPU/TPU found, falling back to CPU. (Set TF_CPP_MIN_LOG_LEVEL=0 and rerun for more info.)\n"
     ]
    },
    {
     "name": "stdout",
     "output_type": "stream",
     "text": [
      "Loading environment football failed: No module named 'gfootball'\n"
     ]
    }
   ],
   "source": [
    "import copy\n",
    "from collections import namedtuple\n",
    "import haiku as hk\n",
    "from jax import random, jit, partial, vmap, value_and_grad, grad, lax, ops, nn\n",
    "import jax.numpy as np\n",
    "import jax.nn as nn\n",
    "from jax.tree_util import tree_map\n",
    "import matplotlib.pyplot as plt\n",
    "import optax\n",
    "import pandas as pd\n",
    "import seaborn as sns\n",
    "\n",
    "from halite_jax import State, Cell, Episode, Trajectory\n",
    "from halite_jax import tree_index, tree_batch\n",
    "from halite_jax import net_present_value\n",
    "from halite_jax import generate_episode\n",
    "from halite_jax import Action\n",
    "from halite_jax import make_config\n",
    "from halite_jax import render_episode, render_state\n",
    "from halite_jax import vmap_random\n",
    "rng = random.PRNGKey(42)"
   ]
  },
  {
   "cell_type": "code",
   "execution_count": 2,
   "id": "849baaaf-0933-41b5-accc-884b5cc50748",
   "metadata": {
    "colab": {
     "base_uri": "https://localhost:8080/",
     "height": 721
    },
    "id": "849baaaf-0933-41b5-accc-884b5cc50748",
    "outputId": "d5c85af2-d8fd-47a9-be8a-b724915e1f10"
   },
   "outputs": [],
   "source": [
    "episode_steps = 50\n",
    "board_size = 5\n",
    "board_shape = (board_size, board_size)\n",
    "cell_count = board_size ** 2\n",
    "configuration = make_config(size=board_size, episodeSteps=episode_steps, regenRate=0., maxCellHalite=1., collectRate=1.)\n",
    "owner = np.repeat(np.array([0, -1], int), np.array([1, 0]), total_repeat_length=cell_count).reshape(board_shape)\n",
    "ship = np.repeat(np.array([1, 0], bool), np.array([1, 0]), total_repeat_length=cell_count).reshape(board_shape)\n",
    "initial_state = State(\n",
    "    halite=np.zeros((1,)),\n",
    "    step=np.array(0.),\n",
    "    cells=Cell(\n",
    "        owner=owner,\n",
    "        halite=np.ones(board_shape),\n",
    "        shipyard=np.zeros(board_shape, bool),\n",
    "        ship=ship,\n",
    "        cargo=np.zeros(board_shape)\n",
    "    )\n",
    ")"
   ]
  },
  {
   "cell_type": "code",
   "execution_count": 3,
   "id": "9b73a124-292b-498c-8db4-bb9a1da40073",
   "metadata": {
    "id": "9b73a124-292b-498c-8db4-bb9a1da40073"
   },
   "outputs": [],
   "source": [
    "def random_move_agent(state, rng, player):\n",
    "    return Action(\n",
    "        ship=random.randint(rng, minval=0, maxval=5, shape=state.cells.ship.shape),\n",
    "        shipyard=np.zeros_like(state.cells.shipyard))\n",
    "\n",
    "agents = [random_move_agent]\n",
    "generate_episode_for_scenario = jit(partial(generate_episode, configuration, agents, initial_state))"
   ]
  },
  {
   "cell_type": "code",
   "execution_count": 4,
   "id": "c597dc8c-d130-46e4-ae16-47c3eb91a74b",
   "metadata": {
    "id": "c597dc8c-d130-46e4-ae16-47c3eb91a74b"
   },
   "outputs": [],
   "source": [
    "discount_rate = 1.\n",
    "\n",
    "@jit\n",
    "def generate_trajectory(rng):\n",
    "    rng, r = random.split(rng)\n",
    "    states, actions = generate_episode_for_scenario(r)\n",
    "    cargo = np.sum(states.cells.cargo, (1, 2))\n",
    "    rewards = np.diff(cargo)\n",
    "    values = net_present_value(discount_rate, rewards)\n",
    "    states = tree_index(states, ops.index[:-1])\n",
    "    return Trajectory(Episode(states, actions), rewards, values)"
   ]
  },
  {
   "cell_type": "code",
   "execution_count": 5,
   "id": "e6181d61-2c8d-47c5-8d9f-58721bb41375",
   "metadata": {
    "id": "e6181d61-2c8d-47c5-8d9f-58721bb41375"
   },
   "outputs": [],
   "source": [
    "batch_generate_trajectory = vmap_random(generate_trajectory)"
   ]
  },
  {
   "cell_type": "code",
   "execution_count": 6,
   "id": "0f731c8d-1507-4e3c-8fcc-a022d765a722",
   "metadata": {
    "id": "0f731c8d-1507-4e3c-8fcc-a022d765a722"
   },
   "outputs": [],
   "source": [
    "training_episode_count = 4096\n",
    "training_episode_per_batch = 64\n",
    "training_data_num_batches = training_episode_count // training_episode_per_batch\n",
    "\n",
    "rng, r = random.split(rng)\n",
    "training_data = batch_generate_trajectory(r, batch_size=training_episode_count)\n",
    "training_data = tree_map(np.concatenate, training_data) # flatten the episodes\n",
    "training_data_batches = tree_batch(training_data, training_data_num_batches)"
   ]
  },
  {
   "cell_type": "code",
   "execution_count": 7,
   "id": "1ca9e9dd-e761-452d-9624-88edf45fd22d",
   "metadata": {},
   "outputs": [],
   "source": [
    "ship_action = pd.Categorical(\n",
    "    np.array(np.sum(training_data.action.ship, (1, 2)), int),\n",
    "    categories=np.arange(6))\n",
    "shipyard_action = pd.Categorical(\n",
    "    np.array(np.sum(training_data.action.shipyard, (1, 2)), int),\n",
    "    categories=np.arange(2))\n",
    "df = pd.DataFrame(data=dict(\n",
    "    ship_action=ship_action,\n",
    "    shipyard_action=shipyard_action\n",
    "))"
   ]
  },
  {
   "cell_type": "code",
   "execution_count": 8,
   "id": "50c364c6-7ffc-4b1f-a4c8-058a754b0c03",
   "metadata": {},
   "outputs": [
    {
     "data": {
      "image/png": "[encoded data removed]",
      "text/plain": [
       "<Figure size 432x288 with 1 Axes>"
      ]
     },
     "metadata": {
      "needs_background": "light"
     },
     "output_type": "display_data"
    }
   ],
   "source": [
    "_ = sns.countplot(x='ship_action', data=df)"
   ]
  },
  {
   "cell_type": "code",
   "execution_count": 9,
   "id": "85a6a0a9-b39c-4ebb-97f6-089f25ada6dc",
   "metadata": {},
   "outputs": [
    {
     "data": {
      "image/png": "[encoded data removed]",
      "text/plain": [
       "<Figure size 432x288 with 1 Axes>"
      ]
     },
     "metadata": {
      "needs_background": "light"
     },
     "output_type": "display_data"
    }
   ],
   "source": [
    "_ = sns.countplot(x='shipyard_action', data=df)"
   ]
  },
  {
   "cell_type": "code",
   "execution_count": 10,
   "id": "c95ea384-e4f1-444b-9d03-ccd7df35e413",
   "metadata": {},
   "outputs": [
    {
     "data": {
      "text/plain": [
       "DeviceArray([[ True, False, False, False, False],\n",
       "             [False, False, False, False, False],\n",
       "             [False, False, False, False, False],\n",
       "             [False, False, False, False, False],\n",
       "             [False, False, False, False, False]], dtype=bool)"
      ]
     },
     "execution_count": 10,
     "metadata": {},
     "output_type": "execute_result"
    }
   ],
   "source": [
    "initial_state.cells.ship"
   ]
  },
  {
   "cell_type": "code",
   "execution_count": 17,
   "id": "dfd0dff6-520d-4c68-b375-51993a39c177",
   "metadata": {},
   "outputs": [],
   "source": [
    "@hk.without_apply_rng\n",
    "@hk.transform\n",
    "def model(state):\n",
    "    has_ship = np.array(state.cells.ship & (state.cells.owner == 0), float).ravel()\n",
    "    has_ship = np.expand_dims(has_ship, axis=1)\n",
    "    ship_linear = hk.Linear(output_size=6, name='ship')\n",
    "    ship_action = vmap(ship_linear)(has_ship)\n",
    "    ship_action = np.reshape(ship_action, board_shape + (6,))\n",
    "\n",
    "    has_shipyard = np.array(state.cells.shipyard & (state.cells.owner == 0), float).ravel()\n",
    "    has_shipyard = np.expand_dims(has_shipyard, axis=1)\n",
    "    shipyard_linear = hk.Linear(output_size=2, name='shipyard')\n",
    "    shipyard_action = vmap(shipyard_linear)(has_ship)\n",
    "    shipyard_action = np.reshape(shipyard_action, board_shape + (2,))\n",
    "    return Action(ship=ship_action, shipyard=shipyard_action)"
   ]
  },
  {
   "cell_type": "code",
   "execution_count": 18,
   "id": "2742a09c-1ea1-4fd8-ba2e-fd98015e00ef",
   "metadata": {},
   "outputs": [],
   "source": [
    "def step_loss(model, model_state, trajectory_step):\n",
    "    ship_action, shipyard_action = trajectory_step.episode.action\n",
    "    ship_action_one_hot = nn.one_hot(ship_action, 6)\n",
    "    shipyard_action_one_hot = nn.one_hot(shipyard_action, 2)\n",
    "    ship_action_logits, shipyard_action_logits = model.apply(model_state, trajectory_step.state)\n",
    "    ship_loss = optax.softmax_cross_entropy(ship_action_logits, ship_action_one_hot)\n",
    "    shipyard_loss = optax.softmax_cross_entropy(shipyard_action_logits, shipyard_action_one_hot)\n",
    "    loss = ship_loss + shipyard_loss\n",
    "    loss = np.mean(loss)\n",
    "    return loss\n",
    "\n",
    "def trajectory_loss(model, model_state, batch):\n",
    "    loss = vmap(partial(step_loss, model, model_state))(batch)\n",
    "    return np.mean(loss)"
   ]
  },
  {
   "cell_type": "code",
   "execution_count": 19,
   "id": "8d8328d0-9ebd-4c3a-b5fa-9c0a0cddc28e",
   "metadata": {
    "id": "8d8328d0-9ebd-4c3a-b5fa-9c0a0cddc28e"
   },
   "outputs": [],
   "source": [
    "num_batches = training_data_num_batches\n",
    "num_epochs = 10\n",
    "optimizer = optax.adam(learning_rate=1e-2)\n",
    "\n",
    "def train(rng, model, loss_fn):    \n",
    "    def train_batch(carry, i):\n",
    "        model_state, opt_state = carry\n",
    "        batch = tree_index(training_data_batches, i)\n",
    "        loss_value, loss_grads = value_and_grad(partial(loss_fn, model, batch=batch))(model_state)\n",
    "        model_updates, opt_state = optimizer.update(loss_grads, opt_state)\n",
    "        model_state = optax.apply_updates(model_state, model_updates)\n",
    "        return (model_state, opt_state), loss_value\n",
    "\n",
    "    def train_epoch(carry, i):    \n",
    "        rng, model_state, opt_state = carry\n",
    "        batch_order = np.arange(num_batches)\n",
    "        rng, r = random.split(rng)\n",
    "        batch_order = random.permutation(r, batch_order)\n",
    "        (model_state, opt_state), loss_value = lax.scan(train_batch, init=(model_state, opt_state), xs=batch_order)\n",
    "        return (rng, model_state, opt_state), loss_value\n",
    "\n",
    "    def train_model(rng, model_state, opt_state):\n",
    "        return lax.scan(train_epoch, init=(rng, model_state, opt_state), xs=np.arange(num_epochs))\n",
    "    \n",
    "    rng, r = random.split(rng)\n",
    "    model_state = model.init(r, initial_state)\n",
    "    opt_state = optimizer.init(model_state)\n",
    "    (_, model_state, opt_state), loss_values = train_model(rng, model_state, opt_state)\n",
    "    loss_values = np.concatenate(loss_values)\n",
    "    return model_state, opt_state, loss_values"
   ]
  },
  {
   "cell_type": "code",
   "execution_count": 20,
   "id": "623c95f0-5af1-4693-8645-9e7bb52b71a7",
   "metadata": {
    "id": "623c95f0-5af1-4693-8645-9e7bb52b71a7"
   },
   "outputs": [],
   "source": [
    "def predict_values(model, model_state):\n",
    "    return vmap(partial(model.apply, model_state))(training_data.state)"
   ]
  },
  {
   "cell_type": "code",
   "execution_count": 21,
   "id": "27eb9b4d-67a6-4e97-91a2-4192b3893769",
   "metadata": {},
   "outputs": [],
   "source": [
    "@jit\n",
    "def run(rng):\n",
    "    rng, r = random.split(rng)\n",
    "    model_state, opt_state, loss_values = train(r, model, trajectory_loss)\n",
    "    predicted_values = vmap(partial(model.apply, model_state))(training_data.state)\n",
    "    return loss_values, predicted_values, model_state"
   ]
  },
  {
   "cell_type": "code",
   "execution_count": 22,
   "id": "f18e629a-8c5f-4d02-b01f-33135e739149",
   "metadata": {
    "id": "f18e629a-8c5f-4d02-b01f-33135e739149"
   },
   "outputs": [],
   "source": [
    "rng, r = random.split(rng)\n",
    "loss_values, predicted_values, model_state = run(r)"
   ]
  },
  {
   "cell_type": "code",
   "execution_count": 23,
   "id": "76e53951-8773-483e-b69a-6c36f8b8b5c4",
   "metadata": {
    "colab": {
     "base_uri": "https://localhost:8080/",
     "height": 483
    },
    "id": "76e53951-8773-483e-b69a-6c36f8b8b5c4",
    "outputId": "b4477a06-e92e-4a25-c48b-99535b7b3580"
   },
   "outputs": [
    {
     "data": {
      "image/png": "[encoded data removed]",
      "text/plain": [
       "<Figure size 432x288 with 1 Axes>"
      ]
     },
     "metadata": {
      "needs_background": "light"
     },
     "output_type": "display_data"
    }
   ],
   "source": [
    "plt.plot(loss_values)\n",
    "plt.show()"
   ]
  },
  {
   "cell_type": "code",
   "execution_count": 89,
   "id": "0f9bda45-9be4-4823-9c72-c6dc8210c323",
   "metadata": {},
   "outputs": [
    {
     "data": {
      "text/plain": [
       "FlatMapping({\n",
       "  'ship': FlatMapping({\n",
       "            'b': DeviceArray([ 2.4714348, -2.4791684, -2.4563723, -2.4800298, -2.4634068,\n",
       "                              -2.478133 ], dtype=float32),\n",
       "            'w': DeviceArray([[-2.9345407,  1.9074314,  1.9099535,  1.9097953,  1.861668 ,\n",
       "                               -3.243357 ]], dtype=float32),\n",
       "          }),\n",
       "  'shipyard': FlatMapping({\n",
       "                'b': DeviceArray([ 2.1119792, -2.1119792], dtype=float32),\n",
       "                'w': DeviceArray([[ 1.779213 , -0.9446107]], dtype=float32),\n",
       "              }),\n",
       "})"
      ]
     },
     "execution_count": 89,
     "metadata": {},
     "output_type": "execute_result"
    }
   ],
   "source": [
    "model_state"
   ]
  },
  {
   "cell_type": "markdown",
   "id": "141b9526-cc64-42c8-a2c2-09577badd5cf",
   "metadata": {},
   "source": [
    "## Model Evaluation\n",
    "The model correctly predicts zero for ship action when there is no ship and evenly between mine/move when there is a ship. Always predicts zero for shipyard."
   ]
  },
  {
   "cell_type": "code",
   "execution_count": 92,
   "id": "50fd626d-4b8a-4f9f-ae0f-719223dbe771",
   "metadata": {},
   "outputs": [],
   "source": [
    "ship_action = np.ravel(training_data.action.ship)\n",
    "shipyard_action = np.ravel(training_data.action.shipyard)"
   ]
  },
  {
   "cell_type": "code",
   "execution_count": 93,
   "id": "6df9b604-9e84-42bd-b747-68adf52c933d",
   "metadata": {},
   "outputs": [],
   "source": [
    "has_ship = np.array(training_data.state.cells.ship & (training_data.state.cells.owner == 0), bool).ravel()\n",
    "predicted_ship_action = np.reshape(predicted_values.ship, (-1, 6))\n",
    "predicted_ship_action_with_ship = predicted_ship_action[has_ship]\n",
    "predicted_ship_action_with_ship = nn.softmax(np.mean(predicted_ship_action_with_ship, axis=0))\n",
    "predicted_ship_action_without_ship = predicted_ship_action[~has_ship]\n",
    "predicted_ship_action_without_ship = nn.softmax(np.mean(predicted_ship_action_without_ship, axis=0))"
   ]
  },
  {
   "cell_type": "code",
   "execution_count": 94,
   "id": "543b29ce-0f11-40f8-bfa2-296dd6ed361d",
   "metadata": {},
   "outputs": [
    {
     "data": {
      "text/plain": [
       "<BarContainer object of 6 artists>"
      ]
     },
     "execution_count": 94,
     "metadata": {},
     "output_type": "execute_result"
    },
    {
     "data": {
      "image/png": "[encoded data removed]",
      "text/plain": [
       "<Figure size 432x288 with 1 Axes>"
      ]
     },
     "metadata": {
      "needs_background": "light"
     },
     "output_type": "display_data"
    }
   ],
   "source": [
    "plt.bar(x=np.arange(6), height=predicted_ship_action_with_ship)"
   ]
  },
  {
   "cell_type": "code",
   "execution_count": 95,
   "id": "7938605e-32dc-4c85-b2e0-0c45c4bac7ed",
   "metadata": {},
   "outputs": [
    {
     "data": {
      "text/plain": [
       "<BarContainer object of 6 artists>"
      ]
     },
     "execution_count": 95,
     "metadata": {},
     "output_type": "execute_result"
    },
    {
     "data": {
      "image/png": "[encoded data removed]",
      "text/plain": [
       "<Figure size 432x288 with 1 Axes>"
      ]
     },
     "metadata": {
      "needs_background": "light"
     },
     "output_type": "display_data"
    }
   ],
   "source": [
    "plt.bar(x=np.arange(6), height=predicted_ship_action_without_ship)"
   ]
  },
  {
   "cell_type": "code",
   "execution_count": 96,
   "id": "6fab1a6f-63fb-42e2-8438-e5e8b71cf359",
   "metadata": {},
   "outputs": [],
   "source": [
    "has_shipyard = np.array(training_data.state.cells.shipyard & (training_data.state.cells.owner == 0), bool).ravel()\n",
    "predicted_shipyard_action = np.reshape(predicted_values.shipyard, (-1, 2))\n",
    "predicted_shipyard_action_with_shipyard = predicted_shipyard_action[has_shipyard]\n",
    "predicted_shipyard_action_with_shipyard = nn.softmax(np.mean(predicted_shipyard_action_with_shipyard, axis=0))\n",
    "predicted_shipyard_action_without_shipyard = predicted_shipyard_action[~has_shipyard]\n",
    "predicted_shipyard_action_without_shipyard = nn.softmax(np.mean(predicted_shipyard_action_without_shipyard, axis=0))"
   ]
  },
  {
   "cell_type": "code",
   "execution_count": 97,
   "id": "7464525b-f005-4e1b-8c2a-23425f8ce408",
   "metadata": {},
   "outputs": [
    {
     "data": {
      "text/plain": [
       "<BarContainer object of 2 artists>"
      ]
     },
     "execution_count": 97,
     "metadata": {},
     "output_type": "execute_result"
    },
    {
     "data": {
      "image/png": "[encoded data removed]",
      "text/plain": [
       "<Figure size 432x288 with 1 Axes>"
      ]
     },
     "metadata": {
      "needs_background": "light"
     },
     "output_type": "display_data"
    }
   ],
   "source": [
    "plt.bar(x=np.arange(2), height=predicted_shipyard_action_with_shipyard)"
   ]
  },
  {
   "cell_type": "code",
   "execution_count": 98,
   "id": "1868d38d-be06-4486-8f36-87266adb4a28",
   "metadata": {},
   "outputs": [
    {
     "data": {
      "text/plain": [
       "<BarContainer object of 2 artists>"
      ]
     },
     "execution_count": 98,
     "metadata": {},
     "output_type": "execute_result"
    },
    {
     "data": {
      "image/png": "[encoded data removed]",
      "text/plain": [
       "<Figure size 432x288 with 1 Axes>"
      ]
     },
     "metadata": {
      "needs_background": "light"
     },
     "output_type": "display_data"
    }
   ],
   "source": [
    "plt.bar(x=np.arange(2), height=predicted_shipyard_action_without_shipyard)"
   ]
  }
 ],
 "metadata": {
  "colab": {
   "include_colab_link": true,
   "name": "07-random-agent-critic.ipynb",
   "provenance": []
  },
  "kernelspec": {
   "display_name": "Python 3 (ipykernel)",
   "language": "python",
   "name": "python3"
  },
  "language_info": {
   "codemirror_mode": {
    "name": "ipython",
    "version": 3
   },
   "file_extension": ".py",
   "mimetype": "text/x-python",
   "name": "python",
   "nbconvert_exporter": "python",
   "pygments_lexer": "ipython3",
   "version": "3.9.7"
  }
 },
 "nbformat": 4,
 "nbformat_minor": 5
}
