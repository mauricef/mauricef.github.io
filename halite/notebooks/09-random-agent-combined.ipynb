{
 "cells": [
  {
   "cell_type": "code",
   "execution_count": null,
   "id": "d8798461-7acd-45ef-a962-87f43c032ce1",
   "metadata": {
    "colab": {
     "base_uri": "https://localhost:8080/"
    },
    "id": "d8798461-7acd-45ef-a962-87f43c032ce1",
    "outputId": "83933458-be02-4f48-98cd-dc8309aa7588",
    "tags": []
   },
   "outputs": [],
   "source": [
    "%pip install git+https://github.com/mauricef/halite-iv-jax.git@9e04bec18a5b45deb3e1828b277115365318b914 \\\n",
    "    seaborn \\\n",
    "    dm-haiku \\\n",
    "    optax \\\n",
    "    kaggle-environments"
   ]
  },
  {
   "cell_type": "code",
   "execution_count": 1,
   "id": "a3f2c6ed-8cfc-45bd-8b19-5d5e3ea85db2",
   "metadata": {},
   "outputs": [],
   "source": [
    "%load_ext autoreload\n",
    "%autoreload 2"
   ]
  },
  {
   "cell_type": "markdown",
   "id": "014b3a47-2afc-46ba-8296-5fd0eb569ef2",
   "metadata": {
    "id": "014b3a47-2afc-46ba-8296-5fd0eb569ef2",
    "tags": []
   },
   "source": [
    "# Random Agent Actor\n",
    "Predict action and value for random agent, combine functionality of notebook 7 and 8"
   ]
  },
  {
   "cell_type": "code",
   "execution_count": 3,
   "id": "bb263216-cfef-4285-a88a-2f25d743cf04",
   "metadata": {
    "colab": {
     "base_uri": "https://localhost:8080/"
    },
    "id": "bb263216-cfef-4285-a88a-2f25d743cf04",
    "outputId": "905d56b4-6bd0-4446-cf73-12224bd9863e"
   },
   "outputs": [
    {
     "name": "stderr",
     "output_type": "stream",
     "text": [
      "WARNING:absl:No GPU/TPU found, falling back to CPU. (Set TF_CPP_MIN_LOG_LEVEL=0 and rerun for more info.)\n"
     ]
    },
    {
     "name": "stdout",
     "output_type": "stream",
     "text": [
      "Loading environment football failed: No module named 'gfootball'\n"
     ]
    }
   ],
   "source": [
    "import copy\n",
    "from collections import namedtuple\n",
    "import haiku as hk\n",
    "from jax import random, jit, partial, vmap, value_and_grad, grad, lax, ops, nn\n",
    "import jax.numpy as np\n",
    "import jax.nn as nn\n",
    "from jax.tree_util import tree_map\n",
    "import matplotlib.pyplot as plt\n",
    "import optax\n",
    "import pandas as pd\n",
    "import seaborn as sns\n",
    "\n",
    "from halite_jax import State, Cell, Episode, Trajectory\n",
    "from halite_jax import tree_index, tree_batch\n",
    "from halite_jax import net_present_value\n",
    "from halite_jax import generate_episode\n",
    "from halite_jax import Action\n",
    "from halite_jax import make_config\n",
    "from halite_jax import render_episode, render_state\n",
    "from halite_jax import vmap_random\n",
    "rng = random.PRNGKey(42)"
   ]
  },
  {
   "cell_type": "code",
   "execution_count": 4,
   "id": "849baaaf-0933-41b5-accc-884b5cc50748",
   "metadata": {
    "colab": {
     "base_uri": "https://localhost:8080/",
     "height": 721
    },
    "id": "849baaaf-0933-41b5-accc-884b5cc50748",
    "outputId": "d5c85af2-d8fd-47a9-be8a-b724915e1f10"
   },
   "outputs": [],
   "source": [
    "episode_steps = 50\n",
    "board_size = 5\n",
    "board_shape = (board_size, board_size)\n",
    "cell_count = board_size ** 2\n",
    "configuration = make_config(size=board_size, episodeSteps=episode_steps, regenRate=0., maxCellHalite=1., collectRate=1.)\n",
    "owner = np.repeat(np.array([0, -1], int), np.array([1, 0]), total_repeat_length=cell_count).reshape(board_shape)\n",
    "ship = np.repeat(np.array([1, 0], bool), np.array([1, 0]), total_repeat_length=cell_count).reshape(board_shape)\n",
    "initial_state = State(\n",
    "    halite=np.zeros((1,)),\n",
    "    step=np.array(0.),\n",
    "    cells=Cell(\n",
    "        owner=owner,\n",
    "        halite=np.ones(board_shape),\n",
    "        shipyard=np.zeros(board_shape, bool),\n",
    "        ship=ship,\n",
    "        cargo=np.zeros(board_shape)\n",
    "    )\n",
    ")"
   ]
  },
  {
   "cell_type": "code",
   "execution_count": 5,
   "id": "9b73a124-292b-498c-8db4-bb9a1da40073",
   "metadata": {
    "id": "9b73a124-292b-498c-8db4-bb9a1da40073"
   },
   "outputs": [],
   "source": [
    "def random_move_agent(state, rng, player):\n",
    "    return Action(\n",
    "        ship=random.randint(rng, minval=0, maxval=5, shape=state.cells.ship.shape),\n",
    "        shipyard=np.zeros_like(state.cells.shipyard))\n",
    "\n",
    "agents = [random_move_agent]\n",
    "generate_episode_for_scenario = jit(partial(generate_episode, configuration, agents, initial_state))"
   ]
  },
  {
   "cell_type": "code",
   "execution_count": 6,
   "id": "c597dc8c-d130-46e4-ae16-47c3eb91a74b",
   "metadata": {
    "id": "c597dc8c-d130-46e4-ae16-47c3eb91a74b"
   },
   "outputs": [],
   "source": [
    "discount_rate = 1.\n",
    "\n",
    "@jit\n",
    "def generate_trajectory(rng):\n",
    "    rng, r = random.split(rng)\n",
    "    states, actions = generate_episode_for_scenario(r)\n",
    "    cargo = np.sum(states.cells.cargo, (1, 2))\n",
    "    rewards = np.diff(cargo)\n",
    "    values = net_present_value(discount_rate, rewards)\n",
    "    states = tree_index(states, ops.index[:-1])\n",
    "    return Trajectory(Episode(states, actions), rewards, values)"
   ]
  },
  {
   "cell_type": "code",
   "execution_count": 7,
   "id": "e6181d61-2c8d-47c5-8d9f-58721bb41375",
   "metadata": {
    "id": "e6181d61-2c8d-47c5-8d9f-58721bb41375"
   },
   "outputs": [],
   "source": [
    "batch_generate_trajectory = vmap_random(generate_trajectory)"
   ]
  },
  {
   "cell_type": "code",
   "execution_count": 8,
   "id": "0f731c8d-1507-4e3c-8fcc-a022d765a722",
   "metadata": {
    "id": "0f731c8d-1507-4e3c-8fcc-a022d765a722"
   },
   "outputs": [],
   "source": [
    "training_episode_count = 4096\n",
    "training_episode_per_batch = 64\n",
    "training_data_num_batches = training_episode_count // training_episode_per_batch\n",
    "\n",
    "rng, r = random.split(rng)\n",
    "training_data = batch_generate_trajectory(r, batch_size=training_episode_count)\n",
    "training_data = tree_map(np.concatenate, training_data) # flatten the episodes\n",
    "training_data_batches = tree_batch(training_data, training_data_num_batches)"
   ]
  },
  {
   "cell_type": "code",
   "execution_count": 26,
   "id": "dfd0dff6-520d-4c68-b375-51993a39c177",
   "metadata": {},
   "outputs": [],
   "source": [
    "def actor_model(state):\n",
    "    has_ship = np.array(state.cells.ship & (state.cells.owner == 0), float).ravel()\n",
    "    has_ship = np.expand_dims(has_ship, axis=1)\n",
    "    ship_linear = hk.Linear(output_size=6, name='ship')\n",
    "    ship_action = vmap(ship_linear)(has_ship)\n",
    "    ship_action = np.reshape(ship_action, board_shape + (6,))\n",
    "\n",
    "    has_shipyard = np.array(state.cells.shipyard & (state.cells.owner == 0), float).ravel()\n",
    "    has_shipyard = np.expand_dims(has_shipyard, axis=1)\n",
    "    shipyard_linear = hk.Linear(output_size=2, name='shipyard')\n",
    "    shipyard_action = vmap(shipyard_linear)(has_ship)\n",
    "    shipyard_action = np.reshape(shipyard_action, board_shape + (2,))\n",
    "    return Action(ship=ship_action, shipyard=shipyard_action)\n",
    "\n",
    "def actor_loss(y, yp):\n",
    "    ship_action, shipyard_action = y\n",
    "    ship_action_one_hot, shipyard_action_one_hot = nn.one_hot(ship_action, 6), nn.one_hot(shipyard_action, 2)\n",
    "    ship_action_logits, shipyard_action_logits = yp\n",
    "    ship_loss = optax.softmax_cross_entropy(ship_action_logits, ship_action_one_hot)\n",
    "    shipyard_loss = optax.softmax_cross_entropy(shipyard_action_logits, shipyard_action_one_hot)\n",
    "    loss = ship_loss + shipyard_loss\n",
    "    loss = np.mean(loss)\n",
    "    return loss"
   ]
  },
  {
   "cell_type": "code",
   "execution_count": 46,
   "id": "1a50ef8f-936e-4b3a-a7ba-d24e28feb928",
   "metadata": {},
   "outputs": [],
   "source": [
    "def critic_model(state):\n",
    "    x = np.array([\n",
    "        state.step / episode_steps,\n",
    "        np.sum(state.cells.halite) / cell_count\n",
    "    ])\n",
    "    value = hk.Linear(1, name='critic')(x)[0]\n",
    "    return np.exp(value)\n",
    "\n",
    "def critic_loss(y, yp):\n",
    "    return optax.l2_loss(y, yp)"
   ]
  },
  {
   "cell_type": "code",
   "execution_count": 65,
   "id": "02cc2352-82a6-4dc2-843c-b48afeb5e014",
   "metadata": {},
   "outputs": [],
   "source": [
    "@hk.without_apply_rng\n",
    "@hk.transform\n",
    "def actor_critic_model(state):\n",
    "    predicted_action = actor_model(state)\n",
    "    predicted_value = critic_model(state)\n",
    "    return predicted_action, predicted_value\n",
    "\n",
    "def actor_critic_loss(y, yp):\n",
    "    action, value = y.action, y.value\n",
    "    predicted_action, predicted_value = yp\n",
    "    action_loss = actor_loss(action, predicted_action)\n",
    "    value_loss = critic_loss(value, predicted_value)\n",
    "    return action_loss + value_loss"
   ]
  },
  {
   "cell_type": "code",
   "execution_count": 71,
   "id": "8d8328d0-9ebd-4c3a-b5fa-9c0a0cddc28e",
   "metadata": {
    "id": "8d8328d0-9ebd-4c3a-b5fa-9c0a0cddc28e"
   },
   "outputs": [],
   "source": [
    "num_batches = training_data_num_batches\n",
    "num_epochs = 10\n",
    "optimizer = optax.adam(learning_rate=1e-2)\n",
    "\n",
    "def train(rng, model, loss_fn):    \n",
    "    def train_batch(carry, i):\n",
    "        batch = tree_index(training_data_batches, i)\n",
    "\n",
    "        @value_and_grad\n",
    "        def batch_loss_and_grad(model_state):\n",
    "            def step_loss(step):\n",
    "                y = step\n",
    "                yp = model.apply(model_state, step.state)\n",
    "                return loss_fn(y, yp)\n",
    "            loss = vmap(step_loss)(batch)\n",
    "            return np.mean(loss)\n",
    "\n",
    "        model_state, opt_state = carry\n",
    "        loss_value, loss_grads = batch_loss_and_grad(model_state)\n",
    "        model_updates, opt_state = optimizer.update(loss_grads, opt_state)\n",
    "        model_state = optax.apply_updates(model_state, model_updates)\n",
    "        return (model_state, opt_state), loss_value\n",
    "\n",
    "    def train_epoch(carry, i):    \n",
    "        rng, model_state, opt_state = carry\n",
    "        batch_order = np.arange(num_batches)\n",
    "        rng, r = random.split(rng)\n",
    "        batch_order = random.permutation(r, batch_order)\n",
    "        (model_state, opt_state), loss_value = lax.scan(train_batch, init=(model_state, opt_state), xs=batch_order)\n",
    "        return (rng, model_state, opt_state), loss_value\n",
    "\n",
    "    def train_model(rng, model_state, opt_state):\n",
    "        return lax.scan(train_epoch, init=(rng, model_state, opt_state), xs=np.arange(num_epochs))\n",
    "    \n",
    "    rng, r = random.split(rng)\n",
    "    model_state = model.init(r, initial_state)\n",
    "    opt_state = optimizer.init(model_state)\n",
    "    (_, model_state, opt_state), loss_values = train_model(rng, model_state, opt_state)\n",
    "    loss_values = np.concatenate(loss_values)\n",
    "    return model_state, opt_state, loss_values"
   ]
  },
  {
   "cell_type": "code",
   "execution_count": 72,
   "id": "27eb9b4d-67a6-4e97-91a2-4192b3893769",
   "metadata": {},
   "outputs": [],
   "source": [
    "@jit\n",
    "def run(rng):\n",
    "    rng, r = random.split(rng)\n",
    "    model_state, opt_state, loss_values = train(r, actor_critic_model, actor_critic_loss)\n",
    "    predicted_values = vmap(partial(actor_critic_model.apply, model_state))(training_data.state)\n",
    "    return loss_values, predicted_values, model_state"
   ]
  },
  {
   "cell_type": "code",
   "execution_count": 85,
   "id": "f18e629a-8c5f-4d02-b01f-33135e739149",
   "metadata": {
    "id": "f18e629a-8c5f-4d02-b01f-33135e739149"
   },
   "outputs": [],
   "source": [
    "rng, r = random.split(rng)\n",
    "loss_values, yp, model_state = run(r)"
   ]
  },
  {
   "cell_type": "code",
   "execution_count": 86,
   "id": "76e53951-8773-483e-b69a-6c36f8b8b5c4",
   "metadata": {
    "colab": {
     "base_uri": "https://localhost:8080/",
     "height": 483
    },
    "id": "76e53951-8773-483e-b69a-6c36f8b8b5c4",
    "outputId": "b4477a06-e92e-4a25-c48b-99535b7b3580"
   },
   "outputs": [
    {
     "data": {
      "image/png": "[encoded data removed]",
      "text/plain": [
       "<Figure size 432x288 with 1 Axes>"
      ]
     },
     "metadata": {
      "needs_background": "light"
     },
     "output_type": "display_data"
    }
   ],
   "source": [
    "plt.plot(loss_values)\n",
    "plt.show()"
   ]
  },
  {
   "cell_type": "code",
   "execution_count": 87,
   "id": "0f9bda45-9be4-4823-9c72-c6dc8210c323",
   "metadata": {},
   "outputs": [
    {
     "data": {
      "text/plain": [
       "FlatMapping({\n",
       "  'critic': FlatMapping({\n",
       "              'b': DeviceArray([0.9872148], dtype=float32),\n",
       "              'w': DeviceArray([[-1.6963134],\n",
       "                                [ 1.0039585]], dtype=float32),\n",
       "            }),\n",
       "  'ship': FlatMapping({\n",
       "            'b': DeviceArray([ 2.4731107, -2.476599 , -2.4763308, -2.476149 , -2.478225 ,\n",
       "                              -2.4591815], dtype=float32),\n",
       "            'w': DeviceArray([[-2.5424511,  2.362412 ,  2.3862746,  2.385594 ,  2.3514192,\n",
       "                               -1.0081999]], dtype=float32),\n",
       "          }),\n",
       "  'shipyard': FlatMapping({\n",
       "                'b': DeviceArray([ 2.1015704, -2.1015704], dtype=float32),\n",
       "                'w': DeviceArray([[ 0.33997127, -1.0829613 ]], dtype=float32),\n",
       "              }),\n",
       "})"
      ]
     },
     "execution_count": 87,
     "metadata": {},
     "output_type": "execute_result"
    }
   ],
   "source": [
    "model_state"
   ]
  },
  {
   "cell_type": "markdown",
   "id": "141b9526-cc64-42c8-a2c2-09577badd5cf",
   "metadata": {},
   "source": [
    "## Model Evaluation\n",
    "The combined model predictes the same distributions as the individually trained models from NB 7 and 8"
   ]
  },
  {
   "cell_type": "code",
   "execution_count": 88,
   "id": "08e4022c-f664-49e1-9011-5ef265ba7504",
   "metadata": {},
   "outputs": [],
   "source": [
    "predicted_actions, predicted_values = yp"
   ]
  },
  {
   "cell_type": "code",
   "execution_count": 76,
   "id": "50fd626d-4b8a-4f9f-ae0f-719223dbe771",
   "metadata": {},
   "outputs": [],
   "source": [
    "ship_action = np.ravel(training_data.action.ship)\n",
    "shipyard_action = np.ravel(training_data.action.shipyard)"
   ]
  },
  {
   "cell_type": "code",
   "execution_count": 79,
   "id": "6df9b604-9e84-42bd-b747-68adf52c933d",
   "metadata": {},
   "outputs": [],
   "source": [
    "has_ship = np.array(training_data.state.cells.ship & (training_data.state.cells.owner == 0), bool).ravel()\n",
    "predicted_ship_action = np.reshape(predicted_actions.ship, (-1, 6))\n",
    "predicted_ship_action_with_ship = predicted_ship_action[has_ship]\n",
    "predicted_ship_action_with_ship = nn.softmax(np.mean(predicted_ship_action_with_ship, axis=0))\n",
    "predicted_ship_action_without_ship = predicted_ship_action[~has_ship]\n",
    "predicted_ship_action_without_ship = nn.softmax(np.mean(predicted_ship_action_without_ship, axis=0))"
   ]
  },
  {
   "cell_type": "code",
   "execution_count": 80,
   "id": "543b29ce-0f11-40f8-bfa2-296dd6ed361d",
   "metadata": {},
   "outputs": [
    {
     "data": {
      "text/plain": [
       "<BarContainer object of 6 artists>"
      ]
     },
     "execution_count": 80,
     "metadata": {},
     "output_type": "execute_result"
    },
    {
     "data": {
      "image/png": "[encoded data removed]",
      "text/plain": [
       "<Figure size 432x288 with 1 Axes>"
      ]
     },
     "metadata": {
      "needs_background": "light"
     },
     "output_type": "display_data"
    }
   ],
   "source": [
    "plt.bar(x=np.arange(6), height=predicted_ship_action_with_ship)"
   ]
  },
  {
   "cell_type": "code",
   "execution_count": 81,
   "id": "7938605e-32dc-4c85-b2e0-0c45c4bac7ed",
   "metadata": {},
   "outputs": [
    {
     "data": {
      "text/plain": [
       "<BarContainer object of 6 artists>"
      ]
     },
     "execution_count": 81,
     "metadata": {},
     "output_type": "execute_result"
    },
    {
     "data": {
      "image/png": "[encoded data removed]",
      "text/plain": [
       "<Figure size 432x288 with 1 Axes>"
      ]
     },
     "metadata": {
      "needs_background": "light"
     },
     "output_type": "display_data"
    }
   ],
   "source": [
    "plt.bar(x=np.arange(6), height=predicted_ship_action_without_ship)"
   ]
  },
  {
   "cell_type": "code",
   "execution_count": 82,
   "id": "6fab1a6f-63fb-42e2-8438-e5e8b71cf359",
   "metadata": {},
   "outputs": [],
   "source": [
    "has_shipyard = np.array(training_data.state.cells.shipyard & (training_data.state.cells.owner == 0), bool).ravel()\n",
    "predicted_shipyard_action = np.reshape(predicted_actions.shipyard, (-1, 2))\n",
    "predicted_shipyard_action_with_shipyard = predicted_shipyard_action[has_shipyard]\n",
    "predicted_shipyard_action_with_shipyard = nn.softmax(np.mean(predicted_shipyard_action_with_shipyard, axis=0))\n",
    "predicted_shipyard_action_without_shipyard = predicted_shipyard_action[~has_shipyard]\n",
    "predicted_shipyard_action_without_shipyard = nn.softmax(np.mean(predicted_shipyard_action_without_shipyard, axis=0))"
   ]
  },
  {
   "cell_type": "code",
   "execution_count": 83,
   "id": "7464525b-f005-4e1b-8c2a-23425f8ce408",
   "metadata": {},
   "outputs": [
    {
     "data": {
      "text/plain": [
       "<BarContainer object of 2 artists>"
      ]
     },
     "execution_count": 83,
     "metadata": {},
     "output_type": "execute_result"
    },
    {
     "data": {
      "image/png": "[encoded data removed]",
      "text/plain": [
       "<Figure size 432x288 with 1 Axes>"
      ]
     },
     "metadata": {
      "needs_background": "light"
     },
     "output_type": "display_data"
    }
   ],
   "source": [
    "plt.bar(x=np.arange(2), height=predicted_shipyard_action_with_shipyard)"
   ]
  },
  {
   "cell_type": "code",
   "execution_count": 84,
   "id": "1868d38d-be06-4486-8f36-87266adb4a28",
   "metadata": {},
   "outputs": [
    {
     "data": {
      "text/plain": [
       "<BarContainer object of 2 artists>"
      ]
     },
     "execution_count": 84,
     "metadata": {},
     "output_type": "execute_result"
    },
    {
     "data": {
      "image/png": "[encoded data removed]",
      "text/plain": [
       "<Figure size 432x288 with 1 Axes>"
      ]
     },
     "metadata": {
      "needs_background": "light"
     },
     "output_type": "display_data"
    }
   ],
   "source": [
    "plt.bar(x=np.arange(2), height=predicted_shipyard_action_without_shipyard)"
   ]
  },
  {
   "cell_type": "code",
   "execution_count": 90,
   "id": "846588ef-cb05-4fc6-b59f-518b34f85e3d",
   "metadata": {},
   "outputs": [
    {
     "data": {
      "image/png": "[encoded data removed]",
      "text/plain": [
       "<Figure size 432x288 with 1 Axes>"
      ]
     },
     "metadata": {
      "needs_background": "light"
     },
     "output_type": "display_data"
    }
   ],
   "source": [
    "_ = plt.hist(predicted_values)"
   ]
  }
 ],
 "metadata": {
  "colab": {
   "include_colab_link": true,
   "name": "07-random-agent-critic.ipynb",
   "provenance": []
  },
  "kernelspec": {
   "display_name": "Python 3 (ipykernel)",
   "language": "python",
   "name": "python3"
  },
  "language_info": {
   "codemirror_mode": {
    "name": "ipython",
    "version": 3
   },
   "file_extension": ".py",
   "mimetype": "text/x-python",
   "name": "python",
   "nbconvert_exporter": "python",
   "pygments_lexer": "ipython3",
   "version": "3.9.7"
  }
 },
 "nbformat": 4,
 "nbformat_minor": 5
}
