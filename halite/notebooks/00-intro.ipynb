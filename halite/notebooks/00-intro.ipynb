{
 "cells": [
  {
   "cell_type": "markdown",
   "id": "ff34fc4a-5b6c-46af-8b6b-fc968f232629",
   "metadata": {},
   "source": [
    "# Introduction\n",
    "\n",
    "The goal of this project is to create a competitive [Kaggle Halite](https://www.kaggle.com/c/halite) agent by applying deep reinforcement learning techniques and self-play. The Kaggle Halite competition ended a year ago, without a competative (publicly shared) reinforcement learning based agent. I've worked through several deep RL books and courses and experimented with JAX but I haven't put the pieces together to try to solve a more significant project. Collaboration and contributions welcome!\n",
    "\n",
    "\n",
    "## JAX Implementation\n",
    "I'm using [JAX](https://github.com/google/jax) as the foundation for the project. The [Halite SDK](https://www.kaggle.com/sam/halite-sdk-overview) works well for building heuristic based agents but is likely too slow to train an RL agent using self-play - the The Python Halite SDK takes about 7 seconds to generate an episode with two random agents while the JAX implementationtakes about 25ms when generating episodes in batch on a Colab GPU.\n"
   ]
  }
 ],
 "metadata": {
  "kernelspec": {
   "display_name": "Python 3",
   "language": "python",
   "name": "python3"
  },
  "language_info": {
   "codemirror_mode": {
    "name": "ipython",
    "version": 3
   },
   "file_extension": ".py",
   "mimetype": "text/x-python",
   "name": "python",
   "nbconvert_exporter": "python",
   "pygments_lexer": "ipython3",
   "version": "3.9.6"
  }
 },
 "nbformat": 4,
 "nbformat_minor": 5
}
