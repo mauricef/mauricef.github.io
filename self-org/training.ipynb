{
 "cells": [
  {
   "cell_type": "markdown",
   "metadata": {},
   "source": [
    "# Training"
   ]
  },
  {
   "cell_type": "code",
   "execution_count": 1,
   "metadata": {},
   "outputs": [],
   "source": [
    "import numpy as np\n",
    "import tensorflow as tf\n",
    "from IPython.display import clear_output"
   ]
  },
  {
   "cell_type": "code",
   "execution_count": 2,
   "metadata": {},
   "outputs": [],
   "source": [
    "from shared import CAModel, imshow, zoom, to_rgb, to_rgba, load_emoji, CHANNEL_N, \\\n",
    "    SamplePool, make_circle_masks, generate_pool_figures, visualize_batch, plot_loss, \\\n",
    "    export_model, TRAIN_LOG_PATH"
   ]
  },
  {
   "cell_type": "code",
   "execution_count": 3,
   "metadata": {},
   "outputs": [],
   "source": [
    "TARGET_EMOJI = \"🦎\" #@param {type:\"string\"}\n",
    "POOL_SIZE = 1024\n",
    "BATCH_SIZE = 8\n",
    "\n",
    "DAMAGE_N = 3  # Number of patterns to damage in a batch\n",
    "USE_PATTERN_POOL = 1"
   ]
  },
  {
   "cell_type": "code",
   "execution_count": 4,
   "metadata": {
    "id": "lCbPFbI_zosW"
   },
   "outputs": [
    {
     "name": "stderr",
     "output_type": "stream",
     "text": [
      "2021-09-01 15:59:23.470815: I tensorflow/core/platform/cpu_feature_guard.cc:142] This TensorFlow binary is optimized with oneAPI Deep Neural Network Library (oneDNN) to use the following CPU instructions in performance-critical operations:  AVX2 FMA\n",
      "To enable them in other operations, rebuild TensorFlow with the appropriate compiler flags.\n"
     ]
    },
    {
     "name": "stdout",
     "output_type": "stream",
     "text": [
      "Model: \"sequential\"\n",
      "_________________________________________________________________\n",
      "Layer (type)                 Output Shape              Param #   \n",
      "=================================================================\n",
      "conv2d (Conv2D)              (1, 3, 3, 128)            6272      \n",
      "_________________________________________________________________\n",
      "conv2d_1 (Conv2D)            (1, 3, 3, 16)             2064      \n",
      "=================================================================\n",
      "Total params: 8,336\n",
      "Trainable params: 8,336\n",
      "Non-trainable params: 0\n",
      "_________________________________________________________________\n"
     ]
    },
    {
     "name": "stderr",
     "output_type": "stream",
     "text": [
      "2021-09-01 15:59:23.781219: I tensorflow/compiler/mlir/mlir_graph_optimization_pass.cc:185] None of the MLIR Optimization Passes are enabled (registered 2)\n"
     ]
    }
   ],
   "source": [
    "CAModel().dmodel.summary()"
   ]
  },
  {
   "cell_type": "code",
   "execution_count": 5,
   "metadata": {
    "id": "zKlA50h0jlvl"
   },
   "outputs": [
    {
     "data": {
      "image/png": "[encoded data removed]",
      "text/plain": [
       "<IPython.core.display.Image object>"
      ]
     },
     "metadata": {},
     "output_type": "display_data"
    }
   ],
   "source": [
    "target_img = load_emoji(TARGET_EMOJI)\n",
    "imshow(zoom(to_rgb(target_img), 2), fmt='png')"
   ]
  },
  {
   "cell_type": "code",
   "execution_count": 6,
   "metadata": {
    "id": "ak5rBmbxmHV7"
   },
   "outputs": [],
   "source": [
    "TARGET_PADDING = 16   # Number of pixels used to pad the target image border\n",
    "p = TARGET_PADDING\n",
    "pad_target = tf.pad(target_img, [(p, p), (p, p), (0, 0)])\n",
    "h, w = pad_target.shape[:2]\n",
    "seed = np.zeros([h, w, CHANNEL_N], np.float32)\n",
    "seed[h//2, w//2, 3:] = 1.0\n",
    "\n",
    "def loss_f(x):\n",
    "    return tf.reduce_mean(tf.square(to_rgba(x)-pad_target), [-2, -3, -1])\n",
    "\n",
    "ca = CAModel()\n",
    "\n",
    "loss_log = []\n",
    "\n",
    "lr = 2e-3\n",
    "lr_sched = tf.keras.optimizers.schedules.PiecewiseConstantDecay(\n",
    "    [2000], [lr, lr*0.1])\n",
    "trainer = tf.keras.optimizers.Adam(lr_sched)\n",
    "\n",
    "loss0 = loss_f(seed).numpy()\n",
    "pool = SamplePool(x=np.repeat(seed[None, ...], POOL_SIZE, 0))\n",
    "\n",
    "!mkdir -p {TRAIN_LOG_PATH} && rm -f {TRAIN_LOG_PATH}/*"
   ]
  },
  {
   "cell_type": "code",
   "execution_count": 7,
   "metadata": {
    "id": "QzP_vDchq0d9"
   },
   "outputs": [
    {
     "name": "stdout",
     "output_type": "stream",
     "text": [
      "batch (before/after):\n"
     ]
    },
    {
     "data": {
      "image/jpeg": "[encoded data removed]",
      "text/plain": [
       "<IPython.core.display.Image object>"
      ]
     },
     "metadata": {},
     "output_type": "display_data"
    },
    {
     "data": {
      "image/png": "[encoded data removed]",
      "text/plain": [
       "<Figure size 720x288 with 1 Axes>"
      ]
     },
     "metadata": {
      "needs_background": "light"
     },
     "output_type": "display_data"
    },
    {
     "name": "stdout",
     "output_type": "stream",
     "text": [
      " step: 20, log10(loss): -1.562"
     ]
    },
    {
     "name": "stderr",
     "output_type": "stream",
     "text": [
      "2021-09-01 16:01:07.202241: I tensorflow/core/grappler/devices.cc:75] Number of eligible GPUs (core count >= 8, compute capability >= 0.0): 0 (Note: TensorFlow was not compiled with CUDA or ROCm support)\n",
      "2021-09-01 16:01:07.202342: I tensorflow/core/grappler/clusters/single_machine.cc:357] Starting new session\n",
      "2021-09-01 16:01:07.209560: I tensorflow/core/grappler/optimizers/meta_optimizer.cc:1137] Optimization results for grappler item: graph_to_optimize\n",
      "  function_optimizer: Graph size after: 104 nodes (56), 113 edges (58), time = 3.672ms.\n",
      "  function_optimizer: function_optimizer did nothing. time = 0.208ms.\n",
      "\n"
     ]
    }
   ],
   "source": [
    "# @title Training Loop {vertical-output: true}\n",
    "\n",
    "@tf.function\n",
    "def train_step(x):\n",
    "    iter_n = tf.random.uniform([], 64, 96, tf.int32)\n",
    "    with tf.GradientTape() as g:\n",
    "        for i in tf.range(iter_n):\n",
    "            x = ca(x)\n",
    "        loss = tf.reduce_mean(loss_f(x))\n",
    "    grads = g.gradient(loss, ca.weights)\n",
    "    grads = [g / (tf.norm(g) + 1e-8) for g in grads]\n",
    "    trainer.apply_gradients(zip(grads, ca.weights))\n",
    "    return x, loss\n",
    "\n",
    "\n",
    "#FIGURE_EPOCHS = 10\n",
    "FIGURE_EPOCHS = 1\n",
    "\n",
    "#CHECKPOINT_EPOCHS = 100\n",
    "CHECKPOINT_EPOCHS = 1\n",
    "\n",
    "#STEPS = 8000\n",
    "STEPS = 20\n",
    "\n",
    "for i in range(STEPS):\n",
    "    if USE_PATTERN_POOL:\n",
    "        batch = pool.sample(BATCH_SIZE)\n",
    "        x0 = batch.x\n",
    "        loss_rank = loss_f(x0).numpy().argsort()[::-1]\n",
    "        x0 = x0[loss_rank]\n",
    "        x0[:1] = seed\n",
    "        if DAMAGE_N:\n",
    "            damage = 1.0 - make_circle_masks(DAMAGE_N, h, w).numpy()[..., None]\n",
    "            x0[-DAMAGE_N:] *= damage\n",
    "    else:\n",
    "        x0 = np.repeat(seed[None, ...], BATCH_SIZE, 0)\n",
    "\n",
    "    x, loss = train_step(x0)\n",
    "\n",
    "    if USE_PATTERN_POOL:\n",
    "        batch.x[:] = x\n",
    "        batch.commit()\n",
    "\n",
    "    step_i = len(loss_log)\n",
    "    loss_log.append(loss.numpy())\n",
    "\n",
    "    if step_i % FIGURE_EPOCHS == 0:\n",
    "        generate_pool_figures(pool, step_i)\n",
    "    if step_i % CHECKPOINT_EPOCHS == 0:\n",
    "        clear_output()\n",
    "        visualize_batch(x0, x, step_i)\n",
    "        plot_loss(loss_log)\n",
    "        export_model(ca, f'{TRAIN_LOG_PATH}/%04d' % step_i)\n",
    "\n",
    "    print('\\r step: %d, log10(loss): %.3f' % (len(loss_log), np.log10(loss)), end='')"
   ]
  },
  {
   "cell_type": "code",
   "execution_count": null,
   "metadata": {},
   "outputs": [],
   "source": []
  }
 ],
 "metadata": {
  "accelerator": "GPU",
  "colab": {
   "collapsed_sections": [],
   "name": "Growing Neural Cellular Automata",
   "provenance": [],
   "toc_visible": true
  },
  "kernelspec": {
   "display_name": "Python 3 (ipykernel)",
   "language": "python",
   "name": "python3"
  },
  "language_info": {
   "codemirror_mode": {
    "name": "ipython",
    "version": 3
   },
   "file_extension": ".py",
   "mimetype": "text/x-python",
   "name": "python",
   "nbconvert_exporter": "python",
   "pygments_lexer": "ipython3",
   "version": "3.9.6"
  }
 },
 "nbformat": 4,
 "nbformat_minor": 4
}
