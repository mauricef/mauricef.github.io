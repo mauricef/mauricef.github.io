{
 "cells": [
  {
   "cell_type": "code",
   "execution_count": 23,
   "metadata": {
    "id": "POma99rMIfV4"
   },
   "outputs": [],
   "source": [
    "import base64\n",
    "import numpy as np\n",
    "import json\n",
    "import zipfile\n",
    "\n",
    "from shared import TRAIN_LOG_PATH, DATA_ROOT, CAModel\n",
    "\n",
    "def pack_layer(weight, bias, outputType=np.uint8):\n",
    "    in_ch, out_ch = weight.shape\n",
    "    assert (in_ch%4==0) and (out_ch%4==0) and (bias.shape==(out_ch,))\n",
    "    weight_scale, bias_scale = 1.0, 1.0\n",
    "    if outputType == np.uint8:\n",
    "        weight_scale = 2.0*np.abs(weight).max()\n",
    "        bias_scale = 2.0*np.abs(bias).max()\n",
    "        weight = np.round((weight/weight_scale+0.5)*255)\n",
    "        bias = np.round((bias/bias_scale+0.5)*255)\n",
    "    packed = np.vstack([weight, bias[None,...]])\n",
    "    packed = packed.reshape(in_ch+1, out_ch//4, 4)\n",
    "    packed = outputType(packed)\n",
    "    packed_b64 = base64.b64encode(packed.tobytes()).decode('ascii')\n",
    "    return {'data_b64': packed_b64, 'in_ch': in_ch, 'out_ch': out_ch,\n",
    "            'weight_scale': weight_scale, 'bias_scale': bias_scale,\n",
    "            'type': outputType.__name__}\n",
    "\n",
    "def export_ca_to_webgl_demo(ca, outputType=np.uint8):\n",
    "    # reorder the first layer inputs to meet webgl demo perception layout\n",
    "    chn = ca.channel_n\n",
    "    w1 = ca.weights[0][0, 0].numpy()\n",
    "    w1 = w1.reshape(chn, 3, -1).transpose(1, 0, 2).reshape(3*chn, -1)\n",
    "    layers = [\n",
    "        pack_layer(w1, ca.weights[1].numpy(), outputType),\n",
    "        pack_layer(ca.weights[2][0, 0].numpy(), ca.weights[3].numpy(), outputType)\n",
    "    ]\n",
    "    return json.dumps(layers)\n",
    "\n",
    "step = 3\n",
    "ca = CAModel()\n",
    "ca.load_weights(f'{TRAIN_LOG_PATH}/%04d'%step)\n",
    "with open(f'viewer/webgl.json', 'w') as f:\n",
    "    f.write(export_ca_to_webgl_demo(ca))"
   ]
  }
 ],
 "metadata": {
  "accelerator": "GPU",
  "colab": {
   "collapsed_sections": [],
   "name": "Growing Neural Cellular Automata",
   "provenance": [],
   "toc_visible": true
  },
  "kernelspec": {
   "display_name": "Python 3 (ipykernel)",
   "language": "python",
   "name": "python3"
  },
  "language_info": {
   "codemirror_mode": {
    "name": "ipython",
    "version": 3
   },
   "file_extension": ".py",
   "mimetype": "text/x-python",
   "name": "python",
   "nbconvert_exporter": "python",
   "pygments_lexer": "ipython3",
   "version": "3.9.6"
  }
 },
 "nbformat": 4,
 "nbformat_minor": 4
}
