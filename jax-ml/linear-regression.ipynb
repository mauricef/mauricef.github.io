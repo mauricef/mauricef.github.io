{
  "nbformat": 4,
  "nbformat_minor": 5,
  "metadata": {
    "kernelspec": {
      "display_name": "Python 3",
      "language": "python",
      "name": "python3"
    },
    "language_info": {
      "name": "python",
      "version": ""
    },
    "colab": {
      "name": "linear-regression.ipynb",
      "provenance": []
    }
  },
  "cells": [
    {
      "cell_type": "markdown",
      "metadata": {
        "id": "LknEQdrZdYU3"
      },
      "source": [
        "# Linear Regression"
      ],
      "id": "LknEQdrZdYU3"
    },
    {
      "cell_type": "code",
      "metadata": {
        "id": "BELVgPylddUn",
        "outputId": "b3658c67-9f59-413d-83ce-4c7f7d55f8e4",
        "colab": {
          "base_uri": "https://localhost:8080/"
        }
      },
      "source": [
        "%pip install \\\n",
        "    git+https://github.com/deepmind/dm-haiku@v0.0.4 \\\n",
        "    git+https://github.com/deepmind/optax@v0.0.9"
      ],
      "id": "BELVgPylddUn",
      "execution_count": 1,
      "outputs": [
        {
          "output_type": "stream",
          "text": [
            "Collecting git+https://github.com/deepmind/dm-haiku@v0.0.4\n",
            "  Cloning https://github.com/deepmind/dm-haiku (to revision v0.0.4) to /tmp/pip-req-build-x4u3u_dq\n",
            "  Running command git clone -q https://github.com/deepmind/dm-haiku /tmp/pip-req-build-x4u3u_dq\n",
            "  Running command git checkout -q 005187ca7825c25aedcfd73d828214aee6eebab2\n",
            "Collecting git+https://github.com/deepmind/optax@v0.0.9\n",
            "  Cloning https://github.com/deepmind/optax (to revision v0.0.9) to /tmp/pip-req-build-ir4i313t\n",
            "  Running command git clone -q https://github.com/deepmind/optax /tmp/pip-req-build-ir4i313t\n",
            "  Running command git checkout -q 989b755ca7cf0b42f30612edfb6e90ba53cef7e1\n",
            "Requirement already satisfied: absl-py>=0.7.1 in /usr/local/lib/python3.7/dist-packages (from dm-haiku==0.0.4) (0.12.0)\n",
            "Requirement already satisfied: numpy>=1.18.0 in /usr/local/lib/python3.7/dist-packages (from dm-haiku==0.0.4) (1.19.5)\n",
            "Requirement already satisfied: tabulate>=0.8.9 in /usr/local/lib/python3.7/dist-packages (from dm-haiku==0.0.4) (0.8.9)\n",
            "Requirement already satisfied: typing_extensions in /usr/local/lib/python3.7/dist-packages (from dm-haiku==0.0.4) (3.7.4.3)\n",
            "Collecting chex>=0.0.4\n",
            "  Downloading chex-0.0.8-py3-none-any.whl (57 kB)\n",
            "\u001b[K     |████████████████████████████████| 57 kB 2.5 MB/s \n",
            "\u001b[?25hRequirement already satisfied: jax>=0.1.55 in /usr/local/lib/python3.7/dist-packages (from optax==0.0.9) (0.2.19)\n",
            "Requirement already satisfied: jaxlib>=0.1.37 in /usr/local/lib/python3.7/dist-packages (from optax==0.0.9) (0.1.70+cuda110)\n",
            "Requirement already satisfied: six in /usr/local/lib/python3.7/dist-packages (from absl-py>=0.7.1->dm-haiku==0.0.4) (1.15.0)\n",
            "Requirement already satisfied: toolz>=0.9.0 in /usr/local/lib/python3.7/dist-packages (from chex>=0.0.4->optax==0.0.9) (0.11.1)\n",
            "Requirement already satisfied: dm-tree>=0.1.5 in /usr/local/lib/python3.7/dist-packages (from chex>=0.0.4->optax==0.0.9) (0.1.6)\n",
            "Requirement already satisfied: opt-einsum in /usr/local/lib/python3.7/dist-packages (from jax>=0.1.55->optax==0.0.9) (3.3.0)\n",
            "Requirement already satisfied: scipy in /usr/local/lib/python3.7/dist-packages (from jaxlib>=0.1.37->optax==0.0.9) (1.4.1)\n",
            "Requirement already satisfied: flatbuffers<3.0,>=1.12 in /usr/local/lib/python3.7/dist-packages (from jaxlib>=0.1.37->optax==0.0.9) (1.12)\n",
            "Building wheels for collected packages: dm-haiku, optax\n",
            "  Building wheel for dm-haiku (setup.py) ... \u001b[?25l\u001b[?25hdone\n",
            "  Created wheel for dm-haiku: filename=dm_haiku-0.0.4-py3-none-any.whl size=545777 sha256=247b534580e0276a762cfa5ad9c91e138a77e27b3874d84fb3213687c8d8f100\n",
            "  Stored in directory: /tmp/pip-ephem-wheel-cache-gsyyyarh/wheels/9a/fc/d6/f4cde2521311050e01bec75b8d6d5a0114e82c8fc8ad17aacb\n",
            "  Building wheel for optax (setup.py) ... \u001b[?25l\u001b[?25hdone\n",
            "  Created wheel for optax: filename=optax-0.0.9-py3-none-any.whl size=118993 sha256=7f25a172b03340e66a23b43bd2d47c68cefc2d320ec78325fb87804c722b102d\n",
            "  Stored in directory: /tmp/pip-ephem-wheel-cache-gsyyyarh/wheels/0c/4a/c7/64da6ed722d96e4fbb503889bbee39a3a6fe72643d4e61d115\n",
            "Successfully built dm-haiku optax\n",
            "Installing collected packages: chex, optax, dm-haiku\n",
            "Successfully installed chex-0.0.8 dm-haiku-0.0.4 optax-0.0.9\n"
          ],
          "name": "stdout"
        }
      ]
    },
    {
      "cell_type": "code",
      "metadata": {
        "id": "UwY6vQ36dYU5"
      },
      "source": [
        "import haiku as hk\n",
        "\n",
        "from jax import jit, partial, vmap, grad, value_and_grad\n",
        "import jax.lax as lax\n",
        "import jax.numpy as np\n",
        "from jax import random\n",
        "\n",
        "import optax"
      ],
      "id": "UwY6vQ36dYU5",
      "execution_count": 2,
      "outputs": []
    },
    {
      "cell_type": "code",
      "metadata": {
        "id": "DXV2BDpudYU7"
      },
      "source": [
        "@hk.without_apply_rng\n",
        "@hk.transform\n",
        "def model(x):\n",
        "    linear = hk.Linear(output_size=1)\n",
        "    return linear(x)"
      ],
      "id": "DXV2BDpudYU7",
      "execution_count": 3,
      "outputs": []
    },
    {
      "cell_type": "code",
      "metadata": {
        "id": "P6xBaCS0dYU7",
        "outputId": "9b274ac3-c48a-4a1b-a705-c6c9f47a7a9f",
        "colab": {
          "base_uri": "https://localhost:8080/"
        }
      },
      "source": [
        "rng = random.PRNGKey(42)\n",
        "\n",
        "x_shape = (2,)\n",
        "rng, r = random.split(rng)\n",
        "generating_model_state = model.init(r, np.zeros(x_shape))\n",
        "rng, r = random.split(rng)\n",
        "x = random.normal(r, (1024,) + x_shape)\n",
        "y = vmap(partial(model.apply, generating_model_state))(x)\n",
        "\n",
        "@jit\n",
        "def loss_fn(model_state):\n",
        "    model_predictions = vmap(partial(model.apply, model_state))(x)\n",
        "    loss = np.mean(optax.l2_loss(model_predictions, y))\n",
        "    return loss"
      ],
      "id": "P6xBaCS0dYU7",
      "execution_count": 4,
      "outputs": [
        {
          "output_type": "stream",
          "text": [
            "WARNING:absl:No GPU/TPU found, falling back to CPU. (Set TF_CPP_MIN_LOG_LEVEL=0 and rerun for more info.)\n"
          ],
          "name": "stderr"
        }
      ]
    },
    {
      "cell_type": "code",
      "metadata": {
        "id": "gDSGNidwdYU8"
      },
      "source": [
        "steps = 10\n",
        "start_learning_rate = 1e-1\n",
        "optimizer = optax.adam(start_learning_rate)\n",
        "@jit\n",
        "def train(model_state, optimizer_state):\n",
        "    def train_step(i, train_state):\n",
        "        model_state, optimizer_state = train_state\n",
        "        loss_grads = grad(loss_fn)(model_state)\n",
        "        model_updates, optimizer_state = optimizer.update(loss_grads, optimizer_state)\n",
        "        model_state = optax.apply_updates(model_state, model_updates)\n",
        "        return model_state, optimizer_state\n",
        "\n",
        "    initial_train_state = model_state, optimizer_state\n",
        "    return lax.fori_loop(0, steps, train_step, initial_train_state)"
      ],
      "id": "gDSGNidwdYU8",
      "execution_count": 5,
      "outputs": []
    },
    {
      "cell_type": "code",
      "metadata": {
        "id": "d_V8ok27dYU9"
      },
      "source": [
        "rng, r = random.split(rng)\n",
        "inferred_model_state = model.init(r, np.zeros(x.shape[1:]))\n",
        "optimizer_state = optimizer.init(inferred_model_state)"
      ],
      "id": "d_V8ok27dYU9",
      "execution_count": 6,
      "outputs": []
    },
    {
      "cell_type": "code",
      "metadata": {
        "id": "m8ePcwNVdYU-",
        "outputId": "502d7a95-4414-457c-9909-865d9d14a4bf",
        "colab": {
          "base_uri": "https://localhost:8080/"
        }
      },
      "source": [
        "for i in range(10):\n",
        "    inferred_model_state, optimizer_state = train(inferred_model_state, optimizer_state)\n",
        "    print(loss_fn(inferred_model_state))"
      ],
      "id": "m8ePcwNVdYU-",
      "execution_count": 7,
      "outputs": [
        {
          "output_type": "stream",
          "text": [
            "0.23128243\n",
            "0.0014280316\n",
            "0.039447226\n",
            "0.009026997\n",
            "0.0010691732\n",
            "0.0021785079\n",
            "1.8527819e-05\n",
            "0.00027094266\n",
            "1.5056953e-05\n",
            "3.0225212e-05\n"
          ],
          "name": "stdout"
        }
      ]
    }
  ]
}