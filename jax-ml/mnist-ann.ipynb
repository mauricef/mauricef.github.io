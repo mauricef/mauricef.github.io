{
 "cells": [
  {
   "cell_type": "markdown",
   "id": "7ac5fa4b",
   "metadata": {
    "id": "7ac5fa4b"
   },
   "source": [
    "# MNIST ANN\n",
    "Based on [dm-haiku/mnist.py](https://github.com/deepmind/dm-haiku/blob/main/examples/mnist.py)"
   ]
  },
  {
   "cell_type": "code",
   "execution_count": null,
   "id": "0VkBETRteEwA",
   "metadata": {
    "id": "0VkBETRteEwA"
   },
   "outputs": [],
   "source": [
    "%pip install \\\n",
    "    git+https://github.com/deepmind/dm-haiku@v0.0.4 \\\n",
    "    git+https://github.com/deepmind/optax@v0.0.9"
   ]
  },
  {
   "cell_type": "code",
   "execution_count": 1,
   "id": "523c826b",
   "metadata": {
    "id": "523c826b"
   },
   "outputs": [],
   "source": [
    "import haiku as hk\n",
    "\n",
    "import jax\n",
    "from jax import jit, partial, vmap, grad\n",
    "from jax import random\n",
    "import jax.lax as lax\n",
    "import jax.nn as nn\n",
    "import jax.numpy as np\n",
    "\n",
    "import optax\n",
    "\n",
    "import tensorflow_datasets as tfds"
   ]
  },
  {
   "cell_type": "code",
   "execution_count": 2,
   "id": "4b3cb1b2",
   "metadata": {
    "id": "4b3cb1b2"
   },
   "outputs": [
    {
     "name": "stderr",
     "output_type": "stream",
     "text": [
      "WARNING:absl:No GPU/TPU found, falling back to CPU. (Set TF_CPP_MIN_LOG_LEVEL=0 and rerun for more info.)\n"
     ]
    }
   ],
   "source": [
    "rng = random.PRNGKey(42)"
   ]
  },
  {
   "cell_type": "code",
   "execution_count": 3,
   "id": "70c8ed1e",
   "metadata": {
    "colab": {
     "base_uri": "https://localhost:8080/"
    },
    "id": "70c8ed1e",
    "outputId": "a11dd35b-d89b-49c7-9129-0063115b5bc8"
   },
   "outputs": [
    {
     "data": {
      "text/plain": [
       "DeviceArray([1, 2, 3, 4, 5, 6, 7], dtype=int32)"
      ]
     },
     "execution_count": 3,
     "metadata": {},
     "output_type": "execute_result"
    }
   ],
   "source": [
    "def ravel_tree(tree):\n",
    "    return np.concatenate(list(map(np.ravel, jax.tree_leaves(tree))))\n",
    "ravel_tree((np.array([1, 2, 3]), np.array([[4, 5], [6, 7]])))"
   ]
  },
  {
   "cell_type": "code",
   "execution_count": 4,
   "id": "3c2d9762",
   "metadata": {
    "colab": {
     "base_uri": "https://localhost:8080/",
     "height": 222,
     "referenced_widgets": [
      "5fd538723b444d3483d115cdb7fb1674",
      "4dd1810582804cba9ebc0e3ac0b30c07",
      "b6cd383d7b3e4726b6fe3c7418630e80",
      "315676f34643497cb2a117b66e2858e5",
      "a50bd3760ea64838af9633f9ed7fae74",
      "799a30262dcc4157af445852053ce3a2",
      "fde75ac3374b4a80985ff52fd09fae93",
      "9f366143160348b88b4137b576f68b9b",
      "d1c53389f1bb434bb92cf9705b58f911",
      "a0791b7891974fc0a6cdebfc46aa5394",
      "886ecb6ff19f48d09df47d819eed0b66"
     ]
    },
    "id": "3c2d9762",
    "outputId": "1ae6eb35-0172-4c36-9925-f8b51c345844"
   },
   "outputs": [
    {
     "data": {
      "text/plain": [
       "((128, 28, 28, 1), (128,))"
      ]
     },
     "execution_count": 4,
     "metadata": {},
     "output_type": "execute_result"
    }
   ],
   "source": [
    "def load_dataset(split, *, is_training, batch_size):\n",
    "    ds = tfds.load(\"mnist:3.*.*\", split=split).cache().repeat()\n",
    "    if is_training:\n",
    "        ds = ds.shuffle(10 * batch_size, seed=0)\n",
    "    ds = ds.batch(batch_size)\n",
    "    return iter(tfds.as_numpy(ds))\n",
    "train = load_dataset(\"train\", is_training=True, batch_size=128)\n",
    "train_eval = load_dataset(\"train\", is_training=False, batch_size=1024)\n",
    "test_eval = load_dataset(\"test\", is_training=False, batch_size=1024)\n",
    "batch = next(train)\n",
    "batch['image'].shape, batch['label'].shape"
   ]
  },
  {
   "cell_type": "code",
   "execution_count": 5,
   "id": "431a1a1d",
   "metadata": {
    "colab": {
     "base_uri": "https://localhost:8080/"
    },
    "id": "431a1a1d",
    "outputId": "13d5fcb4-3850-4eee-bfe3-324fc6a29b72"
   },
   "outputs": [
    {
     "name": "stdout",
     "output_type": "stream",
     "text": [
      "+----------------------------+------------------+--------------+---------------+\n",
      "| Module                     | Input            | Output       |   Param count |\n",
      "+============================+==================+==============+===============+\n",
      "| sequential (Sequential)    | f32[128,28,28,1] | f32[128,10]  |       266,610 |\n",
      "+----------------------------+------------------+--------------+---------------+\n",
      "| flatten (Flatten)          | f32[128,28,28,1] | f32[128,784] |             0 |\n",
      "|  └ sequential (Sequential) |                  |              |               |\n",
      "+----------------------------+------------------+--------------+---------------+\n",
      "| linear (Linear)            | f32[128,784]     | f32[128,300] |       235,500 |\n",
      "|  └ sequential (Sequential) |                  |              |               |\n",
      "+----------------------------+------------------+--------------+---------------+\n",
      "| linear_1 (Linear)          | f32[128,300]     | f32[128,100] |        30,100 |\n",
      "|  └ sequential (Sequential) |                  |              |               |\n",
      "+----------------------------+------------------+--------------+---------------+\n",
      "| linear_2 (Linear)          | f32[128,100]     | f32[128,10]  |         1,010 |\n",
      "|  └ sequential (Sequential) |                  |              |               |\n",
      "+----------------------------+------------------+--------------+---------------+\n"
     ]
    }
   ],
   "source": [
    "label_count = 10\n",
    "\n",
    "@hk.without_apply_rng\n",
    "@hk.transform\n",
    "def model(batch):\n",
    "    x = batch[\"image\"].astype(np.float32) / 255.\n",
    "    mlp = hk.Sequential([\n",
    "          hk.Flatten(),\n",
    "          hk.Linear(300), nn.relu,\n",
    "          hk.Linear(100), nn.relu,\n",
    "          hk.Linear(label_count),\n",
    "    ])\n",
    "    return mlp(x)\n",
    "print(hk.experimental.tabulate(model, columns=['module', 'input', 'output', 'params_size'])(batch))"
   ]
  },
  {
   "cell_type": "code",
   "execution_count": 6,
   "id": "9de2bd03",
   "metadata": {
    "colab": {
     "base_uri": "https://localhost:8080/"
    },
    "id": "9de2bd03",
    "outputId": "2c4ff676-ea6c-43f9-a826-e35396127a9a"
   },
   "outputs": [
    {
     "data": {
      "text/plain": [
       "DeviceArray(2.3166852, dtype=float32)"
      ]
     },
     "execution_count": 6,
     "metadata": {},
     "output_type": "execute_result"
    }
   ],
   "source": [
    "def loss(params, batch):\n",
    "    logits = model.apply(params, batch)\n",
    "    labels = nn.one_hot(batch['label'], label_count)\n",
    "    l2_loss = np.sum(optax.l2_loss(ravel_tree(params)))\n",
    "    softmax_xent = optax.softmax_cross_entropy(logits, labels)\n",
    "    softmax_xent = np.mean(softmax_xent)\n",
    "    softmax_xent = softmax_xent + 1e-4 * l2_loss\n",
    "    return softmax_xent\n",
    "rng, r = random.split(rng)\n",
    "weights = average_weights= model.init(r, next(train))\n",
    "loss(weights, batch)"
   ]
  },
  {
   "cell_type": "code",
   "execution_count": 7,
   "id": "6324ca70",
   "metadata": {
    "colab": {
     "base_uri": "https://localhost:8080/"
    },
    "id": "6324ca70",
    "outputId": "15efbaf4-367d-456d-e5db-6d84c36f77a9"
   },
   "outputs": [
    {
     "data": {
      "text/plain": [
       "DeviceArray(0.125, dtype=float32)"
      ]
     },
     "execution_count": 7,
     "metadata": {},
     "output_type": "execute_result"
    }
   ],
   "source": [
    "@jax.jit\n",
    "def accuracy(weights, batch):\n",
    "    predictions = model.apply(weights, batch)\n",
    "    return np.mean(np.argmax(predictions, axis=-1) == batch[\"label\"])\n",
    "accuracy(weights, batch)"
   ]
  },
  {
   "cell_type": "code",
   "execution_count": 8,
   "id": "5e6dbd39",
   "metadata": {
    "id": "5e6dbd39"
   },
   "outputs": [],
   "source": [
    "optimizer = optax.adam(1e-3)\n",
    "optimizer_state = optimizer.init(weights)"
   ]
  },
  {
   "cell_type": "code",
   "execution_count": 9,
   "id": "70c98a68",
   "metadata": {
    "colab": {
     "base_uri": "https://localhost:8080/"
    },
    "id": "70c98a68",
    "outputId": "795cf97e-b2f7-4d64-8d38-c596e1f34530"
   },
   "outputs": [
    {
     "data": {
      "text/plain": [
       "DeviceArray(0.02740273, dtype=float32)"
      ]
     },
     "execution_count": 9,
     "metadata": {},
     "output_type": "execute_result"
    }
   ],
   "source": [
    "@jax.jit\n",
    "def update(weights, optimizer_state, batch):\n",
    "    loss_grads = grad(loss)(weights, batch)\n",
    "    optimizer_updates, optimizer_state = optimizer.update(loss_grads, optimizer_state)\n",
    "    weights = optax.apply_updates(weights, optimizer_updates)\n",
    "    return weights, optimizer_state\n",
    "np.mean(np.abs(ravel_tree(update(weights, optimizer_state, batch)[0])))"
   ]
  },
  {
   "cell_type": "code",
   "execution_count": 10,
   "id": "3a5a69cf",
   "metadata": {
    "colab": {
     "base_uri": "https://localhost:8080/"
    },
    "id": "3a5a69cf",
    "outputId": "753f11bd-429a-4d65-b4be-246e9acd0daf"
   },
   "outputs": [
    {
     "data": {
      "text/plain": [
       "DeviceArray(0.0277532, dtype=float32)"
      ]
     },
     "execution_count": 10,
     "metadata": {},
     "output_type": "execute_result"
    }
   ],
   "source": [
    "@jit\n",
    "def ema_update(weights, average_weights):\n",
    "    return optax.incremental_update(weights, average_weights, step_size=0.001)\n",
    "np.mean(np.abs(ravel_tree(ema_update(weights, average_weights))))"
   ]
  },
  {
   "cell_type": "code",
   "execution_count": 11,
   "id": "cba92704",
   "metadata": {
    "colab": {
     "base_uri": "https://localhost:8080/"
    },
    "id": "cba92704",
    "outputId": "1288d5b7-d163-424e-aa4d-8f8d75c79b36"
   },
   "outputs": [
    {
     "name": "stdout",
     "output_type": "stream",
     "text": [
      "[Step 0] Train / Test accuracy: 0.101 / 0.105.\n",
      "[Step 100] Train / Test accuracy: 0.463 / 0.463.\n",
      "[Step 200] Train / Test accuracy: 0.721 / 0.704.\n",
      "[Step 300] Train / Test accuracy: 0.827 / 0.826.\n",
      "[Step 400] Train / Test accuracy: 0.887 / 0.898.\n",
      "[Step 500] Train / Test accuracy: 0.913 / 0.918.\n",
      "[Step 600] Train / Test accuracy: 0.934 / 0.928.\n",
      "[Step 700] Train / Test accuracy: 0.938 / 0.946.\n",
      "[Step 800] Train / Test accuracy: 0.961 / 0.953.\n",
      "[Step 900] Train / Test accuracy: 0.961 / 0.956.\n",
      "[Step 1000] Train / Test accuracy: 0.966 / 0.951.\n",
      "[Step 1100] Train / Test accuracy: 0.961 / 0.958.\n",
      "[Step 1200] Train / Test accuracy: 0.978 / 0.960.\n",
      "[Step 1300] Train / Test accuracy: 0.970 / 0.960.\n",
      "[Step 1400] Train / Test accuracy: 0.978 / 0.972.\n",
      "[Step 1500] Train / Test accuracy: 0.982 / 0.967.\n",
      "[Step 1600] Train / Test accuracy: 0.975 / 0.970.\n",
      "[Step 1700] Train / Test accuracy: 0.983 / 0.985.\n",
      "[Step 1800] Train / Test accuracy: 0.991 / 0.975.\n",
      "[Step 1900] Train / Test accuracy: 0.987 / 0.979.\n"
     ]
    }
   ],
   "source": [
    "for step in range(2000):\n",
    "    if step % 100 == 0:\n",
    "        train_accuracy = accuracy(average_weights, next(train_eval))\n",
    "        test_accuracy = accuracy(average_weights, next(test_eval))\n",
    "        print(f\"[Step {step}] Train / Test accuracy: {train_accuracy:.3f} / {test_accuracy:.3f}.\")\n",
    "\n",
    "    weights, optimizer_state = update(weights, optimizer_state, next(train))\n",
    "    average_weights = ema_update(weights, average_weights)"
   ]
  }
 ],
 "metadata": {
  "accelerator": "GPU",
  "colab": {
   "name": "mnist-ann.ipynb",
   "provenance": []
  },
  "kernelspec": {
   "display_name": "Python 3 (ipykernel)",
   "language": "python",
   "name": "python3"
  },
  "language_info": {
   "codemirror_mode": {
    "name": "ipython",
    "version": 3
   },
   "file_extension": ".py",
   "mimetype": "text/x-python",
   "name": "python",
   "nbconvert_exporter": "python",
   "pygments_lexer": "ipython3",
   "version": "3.9.5"
  },
  "widgets": {
   "application/vnd.jupyter.widget-state+json": {
    "315676f34643497cb2a117b66e2858e5": {
     "model_module": "@jupyter-widgets/controls",
     "model_module_version": "1.5.0",
     "model_name": "FloatProgressModel",
     "state": {
      "_dom_classes": [],
      "_model_module": "@jupyter-widgets/controls",
      "_model_module_version": "1.5.0",
      "_model_name": "FloatProgressModel",
      "_view_count": null,
      "_view_module": "@jupyter-widgets/controls",
      "_view_module_version": "1.5.0",
      "_view_name": "ProgressView",
      "bar_style": "success",
      "description": "",
      "description_tooltip": null,
      "layout": "IPY_MODEL_d1c53389f1bb434bb92cf9705b58f911",
      "max": 4,
      "min": 0,
      "orientation": "horizontal",
      "style": "IPY_MODEL_9f366143160348b88b4137b576f68b9b",
      "value": 4
     }
    },
    "4dd1810582804cba9ebc0e3ac0b30c07": {
     "model_module": "@jupyter-widgets/base",
     "model_module_version": "1.2.0",
     "model_name": "LayoutModel",
     "state": {
      "_model_module": "@jupyter-widgets/base",
      "_model_module_version": "1.2.0",
      "_model_name": "LayoutModel",
      "_view_count": null,
      "_view_module": "@jupyter-widgets/base",
      "_view_module_version": "1.2.0",
      "_view_name": "LayoutView",
      "align_content": null,
      "align_items": null,
      "align_self": null,
      "border": null,
      "bottom": null,
      "display": null,
      "flex": null,
      "flex_flow": null,
      "grid_area": null,
      "grid_auto_columns": null,
      "grid_auto_flow": null,
      "grid_auto_rows": null,
      "grid_column": null,
      "grid_gap": null,
      "grid_row": null,
      "grid_template_areas": null,
      "grid_template_columns": null,
      "grid_template_rows": null,
      "height": null,
      "justify_content": null,
      "justify_items": null,
      "left": null,
      "margin": null,
      "max_height": null,
      "max_width": null,
      "min_height": null,
      "min_width": null,
      "object_fit": null,
      "object_position": null,
      "order": null,
      "overflow": null,
      "overflow_x": null,
      "overflow_y": null,
      "padding": null,
      "right": null,
      "top": null,
      "visibility": null,
      "width": null
     }
    },
    "5fd538723b444d3483d115cdb7fb1674": {
     "model_module": "@jupyter-widgets/controls",
     "model_module_version": "1.5.0",
     "model_name": "HBoxModel",
     "state": {
      "_dom_classes": [],
      "_model_module": "@jupyter-widgets/controls",
      "_model_module_version": "1.5.0",
      "_model_name": "HBoxModel",
      "_view_count": null,
      "_view_module": "@jupyter-widgets/controls",
      "_view_module_version": "1.5.0",
      "_view_name": "HBoxView",
      "box_style": "",
      "children": [
       "IPY_MODEL_b6cd383d7b3e4726b6fe3c7418630e80",
       "IPY_MODEL_315676f34643497cb2a117b66e2858e5",
       "IPY_MODEL_a50bd3760ea64838af9633f9ed7fae74"
      ],
      "layout": "IPY_MODEL_4dd1810582804cba9ebc0e3ac0b30c07"
     }
    },
    "799a30262dcc4157af445852053ce3a2": {
     "model_module": "@jupyter-widgets/controls",
     "model_module_version": "1.5.0",
     "model_name": "DescriptionStyleModel",
     "state": {
      "_model_module": "@jupyter-widgets/controls",
      "_model_module_version": "1.5.0",
      "_model_name": "DescriptionStyleModel",
      "_view_count": null,
      "_view_module": "@jupyter-widgets/base",
      "_view_module_version": "1.2.0",
      "_view_name": "StyleView",
      "description_width": ""
     }
    },
    "886ecb6ff19f48d09df47d819eed0b66": {
     "model_module": "@jupyter-widgets/base",
     "model_module_version": "1.2.0",
     "model_name": "LayoutModel",
     "state": {
      "_model_module": "@jupyter-widgets/base",
      "_model_module_version": "1.2.0",
      "_model_name": "LayoutModel",
      "_view_count": null,
      "_view_module": "@jupyter-widgets/base",
      "_view_module_version": "1.2.0",
      "_view_name": "LayoutView",
      "align_content": null,
      "align_items": null,
      "align_self": null,
      "border": null,
      "bottom": null,
      "display": null,
      "flex": null,
      "flex_flow": null,
      "grid_area": null,
      "grid_auto_columns": null,
      "grid_auto_flow": null,
      "grid_auto_rows": null,
      "grid_column": null,
      "grid_gap": null,
      "grid_row": null,
      "grid_template_areas": null,
      "grid_template_columns": null,
      "grid_template_rows": null,
      "height": null,
      "justify_content": null,
      "justify_items": null,
      "left": null,
      "margin": null,
      "max_height": null,
      "max_width": null,
      "min_height": null,
      "min_width": null,
      "object_fit": null,
      "object_position": null,
      "order": null,
      "overflow": null,
      "overflow_x": null,
      "overflow_y": null,
      "padding": null,
      "right": null,
      "top": null,
      "visibility": null,
      "width": null
     }
    },
    "9f366143160348b88b4137b576f68b9b": {
     "model_module": "@jupyter-widgets/controls",
     "model_module_version": "1.5.0",
     "model_name": "ProgressStyleModel",
     "state": {
      "_model_module": "@jupyter-widgets/controls",
      "_model_module_version": "1.5.0",
      "_model_name": "ProgressStyleModel",
      "_view_count": null,
      "_view_module": "@jupyter-widgets/base",
      "_view_module_version": "1.2.0",
      "_view_name": "StyleView",
      "bar_color": null,
      "description_width": ""
     }
    },
    "a0791b7891974fc0a6cdebfc46aa5394": {
     "model_module": "@jupyter-widgets/controls",
     "model_module_version": "1.5.0",
     "model_name": "DescriptionStyleModel",
     "state": {
      "_model_module": "@jupyter-widgets/controls",
      "_model_module_version": "1.5.0",
      "_model_name": "DescriptionStyleModel",
      "_view_count": null,
      "_view_module": "@jupyter-widgets/base",
      "_view_module_version": "1.2.0",
      "_view_name": "StyleView",
      "description_width": ""
     }
    },
    "a50bd3760ea64838af9633f9ed7fae74": {
     "model_module": "@jupyter-widgets/controls",
     "model_module_version": "1.5.0",
     "model_name": "HTMLModel",
     "state": {
      "_dom_classes": [],
      "_model_module": "@jupyter-widgets/controls",
      "_model_module_version": "1.5.0",
      "_model_name": "HTMLModel",
      "_view_count": null,
      "_view_module": "@jupyter-widgets/controls",
      "_view_module_version": "1.5.0",
      "_view_name": "HTMLView",
      "description": "",
      "description_tooltip": null,
      "layout": "IPY_MODEL_886ecb6ff19f48d09df47d819eed0b66",
      "placeholder": "​",
      "style": "IPY_MODEL_a0791b7891974fc0a6cdebfc46aa5394",
      "value": " 4/4 [00:01&lt;00:00,  9.62 file/s]"
     }
    },
    "b6cd383d7b3e4726b6fe3c7418630e80": {
     "model_module": "@jupyter-widgets/controls",
     "model_module_version": "1.5.0",
     "model_name": "HTMLModel",
     "state": {
      "_dom_classes": [],
      "_model_module": "@jupyter-widgets/controls",
      "_model_module_version": "1.5.0",
      "_model_name": "HTMLModel",
      "_view_count": null,
      "_view_module": "@jupyter-widgets/controls",
      "_view_module_version": "1.5.0",
      "_view_name": "HTMLView",
      "description": "",
      "description_tooltip": null,
      "layout": "IPY_MODEL_fde75ac3374b4a80985ff52fd09fae93",
      "placeholder": "​",
      "style": "IPY_MODEL_799a30262dcc4157af445852053ce3a2",
      "value": "Dl Completed...: 100%"
     }
    },
    "d1c53389f1bb434bb92cf9705b58f911": {
     "model_module": "@jupyter-widgets/base",
     "model_module_version": "1.2.0",
     "model_name": "LayoutModel",
     "state": {
      "_model_module": "@jupyter-widgets/base",
      "_model_module_version": "1.2.0",
      "_model_name": "LayoutModel",
      "_view_count": null,
      "_view_module": "@jupyter-widgets/base",
      "_view_module_version": "1.2.0",
      "_view_name": "LayoutView",
      "align_content": null,
      "align_items": null,
      "align_self": null,
      "border": null,
      "bottom": null,
      "display": null,
      "flex": null,
      "flex_flow": null,
      "grid_area": null,
      "grid_auto_columns": null,
      "grid_auto_flow": null,
      "grid_auto_rows": null,
      "grid_column": null,
      "grid_gap": null,
      "grid_row": null,
      "grid_template_areas": null,
      "grid_template_columns": null,
      "grid_template_rows": null,
      "height": null,
      "justify_content": null,
      "justify_items": null,
      "left": null,
      "margin": null,
      "max_height": null,
      "max_width": null,
      "min_height": null,
      "min_width": null,
      "object_fit": null,
      "object_position": null,
      "order": null,
      "overflow": null,
      "overflow_x": null,
      "overflow_y": null,
      "padding": null,
      "right": null,
      "top": null,
      "visibility": null,
      "width": null
     }
    },
    "fde75ac3374b4a80985ff52fd09fae93": {
     "model_module": "@jupyter-widgets/base",
     "model_module_version": "1.2.0",
     "model_name": "LayoutModel",
     "state": {
      "_model_module": "@jupyter-widgets/base",
      "_model_module_version": "1.2.0",
      "_model_name": "LayoutModel",
      "_view_count": null,
      "_view_module": "@jupyter-widgets/base",
      "_view_module_version": "1.2.0",
      "_view_name": "LayoutView",
      "align_content": null,
      "align_items": null,
      "align_self": null,
      "border": null,
      "bottom": null,
      "display": null,
      "flex": null,
      "flex_flow": null,
      "grid_area": null,
      "grid_auto_columns": null,
      "grid_auto_flow": null,
      "grid_auto_rows": null,
      "grid_column": null,
      "grid_gap": null,
      "grid_row": null,
      "grid_template_areas": null,
      "grid_template_columns": null,
      "grid_template_rows": null,
      "height": null,
      "justify_content": null,
      "justify_items": null,
      "left": null,
      "margin": null,
      "max_height": null,
      "max_width": null,
      "min_height": null,
      "min_width": null,
      "object_fit": null,
      "object_position": null,
      "order": null,
      "overflow": null,
      "overflow_x": null,
      "overflow_y": null,
      "padding": null,
      "right": null,
      "top": null,
      "visibility": null,
      "width": null
     }
    }
   }
  }
 },
 "nbformat": 4,
 "nbformat_minor": 5
}
