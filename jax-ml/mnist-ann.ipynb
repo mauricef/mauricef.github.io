{
  "cells": [
    {
      "cell_type": "markdown",
      "id": "7ac5fa4b",
      "metadata": {
        "id": "7ac5fa4b"
      },
      "source": [
        "# MNIST ANN\n",
        "Based on [dm-haiku/mnist.py](https://github.com/deepmind/dm-haiku/blob/main/examples/mnist.py)"
      ]
    },
    {
      "cell_type": "code",
      "execution_count": null,
      "id": "0VkBETRteEwA",
      "metadata": {
        "id": "0VkBETRteEwA"
      },
      "outputs": [],
      "source": [
        "%pip install \\\n",
        "    git+https://github.com/deepmind/dm-haiku@v0.0.4 \\\n",
        "    git+https://github.com/deepmind/optax@v0.0.9"
      ]
    },
    {
      "cell_type": "code",
      "execution_count": 3,
      "id": "523c826b",
      "metadata": {
        "id": "523c826b"
      },
      "outputs": [],
      "source": [
        "from functools import partial\n",
        "import haiku as hk\n",
        "\n",
        "import jax\n",
        "from jax import jit, vmap, grad\n",
        "from jax import random\n",
        "import jax.lax as lax\n",
        "import jax.nn as nn\n",
        "import jax.numpy as np\n",
        "\n",
        "import optax\n",
        "\n",
        "import tensorflow_datasets as tfds"
      ]
    },
    {
      "cell_type": "code",
      "execution_count": 4,
      "id": "4b3cb1b2",
      "metadata": {
        "id": "4b3cb1b2"
      },
      "outputs": [],
      "source": [
        "rng = random.PRNGKey(42)"
      ]
    },
    {
      "cell_type": "code",
      "execution_count": 5,
      "id": "70c8ed1e",
      "metadata": {
        "colab": {
          "base_uri": "https://localhost:8080/"
        },
        "id": "70c8ed1e",
        "outputId": "d0ccf816-2a77-4434-a3c5-528ca21eb01a"
      },
      "outputs": [
        {
          "output_type": "execute_result",
          "data": {
            "text/plain": [
              "DeviceArray([1, 2, 3, 4, 5, 6, 7], dtype=int32)"
            ]
          },
          "metadata": {},
          "execution_count": 5
        }
      ],
      "source": [
        "def ravel_tree(tree):\n",
        "    return np.concatenate(list(map(np.ravel, jax.tree_leaves(tree))))\n",
        "ravel_tree((np.array([1, 2, 3]), np.array([[4, 5], [6, 7]])))"
      ]
    },
    {
      "cell_type": "code",
      "execution_count": null,
      "id": "3c2d9762",
      "metadata": {
        "id": "3c2d9762"
      },
      "outputs": [],
      "source": [
        "def load_dataset(split, *, is_training, batch_size):\n",
        "    ds = tfds.load(\"mnist:3.*.*\", split=split).cache().repeat()\n",
        "    if is_training:\n",
        "        ds = ds.shuffle(10 * batch_size, seed=0)\n",
        "    ds = ds.batch(batch_size)\n",
        "    return iter(tfds.as_numpy(ds))\n",
        "train = load_dataset(\"train\", is_training=True, batch_size=128)\n",
        "train_eval = load_dataset(\"train\", is_training=False, batch_size=1024)\n",
        "test_eval = load_dataset(\"test\", is_training=False, batch_size=1024)\n",
        "batch = next(train)\n",
        "batch['image'].shape, batch['label'].shape"
      ]
    },
    {
      "cell_type": "code",
      "execution_count": 7,
      "id": "431a1a1d",
      "metadata": {
        "colab": {
          "base_uri": "https://localhost:8080/"
        },
        "id": "431a1a1d",
        "outputId": "3fb317c2-33bf-4239-a9a1-aa0bae424b69"
      },
      "outputs": [
        {
          "output_type": "stream",
          "name": "stdout",
          "text": [
            "+----------------------------+------------------+--------------+---------------+\n",
            "| Module                     | Input            | Output       |   Param count |\n",
            "+============================+==================+==============+===============+\n",
            "| sequential (Sequential)    | f32[128,28,28,1] | f32[128,10]  |       266,610 |\n",
            "+----------------------------+------------------+--------------+---------------+\n",
            "| flatten (Flatten)          | f32[128,28,28,1] | f32[128,784] |             0 |\n",
            "|  └ sequential (Sequential) |                  |              |               |\n",
            "+----------------------------+------------------+--------------+---------------+\n",
            "| linear (Linear)            | f32[128,784]     | f32[128,300] |       235,500 |\n",
            "|  └ sequential (Sequential) |                  |              |               |\n",
            "+----------------------------+------------------+--------------+---------------+\n",
            "| linear_1 (Linear)          | f32[128,300]     | f32[128,100] |        30,100 |\n",
            "|  └ sequential (Sequential) |                  |              |               |\n",
            "+----------------------------+------------------+--------------+---------------+\n",
            "| linear_2 (Linear)          | f32[128,100]     | f32[128,10]  |         1,010 |\n",
            "|  └ sequential (Sequential) |                  |              |               |\n",
            "+----------------------------+------------------+--------------+---------------+\n"
          ]
        }
      ],
      "source": [
        "label_count = 10\n",
        "\n",
        "@hk.without_apply_rng\n",
        "@hk.transform\n",
        "def model(batch):\n",
        "    x = batch[\"image\"].astype(np.float32) / 255.\n",
        "    mlp = hk.Sequential([\n",
        "          hk.Flatten(),\n",
        "          hk.Linear(300), nn.relu,\n",
        "          hk.Linear(100), nn.relu,\n",
        "          hk.Linear(label_count),\n",
        "    ])\n",
        "    return mlp(x)\n",
        "print(hk.experimental.tabulate(model, columns=['module', 'input', 'output', 'params_size'])(batch))"
      ]
    },
    {
      "cell_type": "code",
      "execution_count": 8,
      "id": "9de2bd03",
      "metadata": {
        "colab": {
          "base_uri": "https://localhost:8080/"
        },
        "id": "9de2bd03",
        "outputId": "701da46b-deb5-4064-f177-c7d0138fd9b0"
      },
      "outputs": [
        {
          "output_type": "execute_result",
          "data": {
            "text/plain": [
              "DeviceArray(2.3166852, dtype=float32)"
            ]
          },
          "metadata": {},
          "execution_count": 8
        }
      ],
      "source": [
        "def loss(params, batch):\n",
        "    logits = model.apply(params, batch)\n",
        "    labels = nn.one_hot(batch['label'], label_count)\n",
        "    l2_loss = np.sum(optax.l2_loss(ravel_tree(params)))\n",
        "    softmax_xent = optax.softmax_cross_entropy(logits, labels)\n",
        "    softmax_xent = np.mean(softmax_xent)\n",
        "    softmax_xent = softmax_xent + 1e-4 * l2_loss\n",
        "    return softmax_xent\n",
        "rng, r = random.split(rng)\n",
        "weights = average_weights= model.init(r, next(train))\n",
        "loss(weights, batch)"
      ]
    },
    {
      "cell_type": "code",
      "execution_count": 9,
      "id": "6324ca70",
      "metadata": {
        "colab": {
          "base_uri": "https://localhost:8080/"
        },
        "id": "6324ca70",
        "outputId": "84d12c76-f9bf-4a61-9333-cd082ee24fbb"
      },
      "outputs": [
        {
          "output_type": "execute_result",
          "data": {
            "text/plain": [
              "DeviceArray(0.125, dtype=float32)"
            ]
          },
          "metadata": {},
          "execution_count": 9
        }
      ],
      "source": [
        "@jax.jit\n",
        "def accuracy(weights, batch):\n",
        "    predictions = model.apply(weights, batch)\n",
        "    return np.mean(np.argmax(predictions, axis=-1) == batch[\"label\"])\n",
        "accuracy(weights, batch)"
      ]
    },
    {
      "cell_type": "code",
      "execution_count": 10,
      "id": "5e6dbd39",
      "metadata": {
        "id": "5e6dbd39"
      },
      "outputs": [],
      "source": [
        "optimizer = optax.adam(1e-3)\n",
        "optimizer_state = optimizer.init(weights)"
      ]
    },
    {
      "cell_type": "code",
      "execution_count": 11,
      "id": "70c98a68",
      "metadata": {
        "colab": {
          "base_uri": "https://localhost:8080/"
        },
        "id": "70c98a68",
        "outputId": "76eb5e7b-9fd5-4f28-c648-375e106c93a7"
      },
      "outputs": [
        {
          "output_type": "execute_result",
          "data": {
            "text/plain": [
              "DeviceArray(0.02740272, dtype=float32)"
            ]
          },
          "metadata": {},
          "execution_count": 11
        }
      ],
      "source": [
        "@jax.jit\n",
        "def update(weights, optimizer_state, batch):\n",
        "    loss_grads = grad(loss)(weights, batch)\n",
        "    optimizer_updates, optimizer_state = optimizer.update(loss_grads, optimizer_state)\n",
        "    weights = optax.apply_updates(weights, optimizer_updates)\n",
        "    return weights, optimizer_state\n",
        "np.mean(np.abs(ravel_tree(update(weights, optimizer_state, batch)[0])))"
      ]
    },
    {
      "cell_type": "code",
      "execution_count": 12,
      "id": "3a5a69cf",
      "metadata": {
        "colab": {
          "base_uri": "https://localhost:8080/"
        },
        "id": "3a5a69cf",
        "outputId": "3c1eb0b2-a9b8-4257-cd52-80976d611f73"
      },
      "outputs": [
        {
          "output_type": "execute_result",
          "data": {
            "text/plain": [
              "DeviceArray(0.0277532, dtype=float32)"
            ]
          },
          "metadata": {},
          "execution_count": 12
        }
      ],
      "source": [
        "@jit\n",
        "def ema_update(weights, average_weights):\n",
        "    return optax.incremental_update(weights, average_weights, step_size=0.001)\n",
        "np.mean(np.abs(ravel_tree(ema_update(weights, average_weights))))"
      ]
    },
    {
      "cell_type": "code",
      "execution_count": 13,
      "id": "cba92704",
      "metadata": {
        "colab": {
          "base_uri": "https://localhost:8080/"
        },
        "id": "cba92704",
        "outputId": "4f60fcca-9648-4094-d864-238192c25ca6"
      },
      "outputs": [
        {
          "output_type": "stream",
          "name": "stdout",
          "text": [
            "[Step 0] Train / Test accuracy: 0.101 / 0.105.\n",
            "[Step 100] Train / Test accuracy: 0.463 / 0.463.\n",
            "[Step 200] Train / Test accuracy: 0.721 / 0.701.\n",
            "[Step 300] Train / Test accuracy: 0.823 / 0.826.\n",
            "[Step 400] Train / Test accuracy: 0.885 / 0.898.\n",
            "[Step 500] Train / Test accuracy: 0.912 / 0.918.\n",
            "[Step 600] Train / Test accuracy: 0.934 / 0.926.\n",
            "[Step 700] Train / Test accuracy: 0.939 / 0.946.\n",
            "[Step 800] Train / Test accuracy: 0.963 / 0.954.\n",
            "[Step 900] Train / Test accuracy: 0.961 / 0.956.\n",
            "[Step 1000] Train / Test accuracy: 0.964 / 0.951.\n",
            "[Step 1100] Train / Test accuracy: 0.961 / 0.957.\n",
            "[Step 1200] Train / Test accuracy: 0.978 / 0.959.\n",
            "[Step 1300] Train / Test accuracy: 0.969 / 0.961.\n",
            "[Step 1400] Train / Test accuracy: 0.977 / 0.971.\n",
            "[Step 1500] Train / Test accuracy: 0.982 / 0.969.\n",
            "[Step 1600] Train / Test accuracy: 0.974 / 0.971.\n",
            "[Step 1700] Train / Test accuracy: 0.982 / 0.983.\n",
            "[Step 1800] Train / Test accuracy: 0.988 / 0.977.\n",
            "[Step 1900] Train / Test accuracy: 0.989 / 0.979.\n"
          ]
        }
      ],
      "source": [
        "for step in range(2000):\n",
        "    if step % 100 == 0:\n",
        "        train_accuracy = accuracy(average_weights, next(train_eval))\n",
        "        test_accuracy = accuracy(average_weights, next(test_eval))\n",
        "        print(f\"[Step {step}] Train / Test accuracy: {train_accuracy:.3f} / {test_accuracy:.3f}.\")\n",
        "\n",
        "    weights, optimizer_state = update(weights, optimizer_state, next(train))\n",
        "    average_weights = ema_update(weights, average_weights)"
      ]
    }
  ],
  "metadata": {
    "accelerator": "GPU",
    "colab": {
      "name": "mnist-ann.ipynb",
      "provenance": []
    },
    "kernelspec": {
      "display_name": "Python 3 (ipykernel)",
      "language": "python",
      "name": "python3"
    },
    "language_info": {
      "codemirror_mode": {
        "name": "ipython",
        "version": 3
      },
      "file_extension": ".py",
      "mimetype": "text/x-python",
      "name": "python",
      "nbconvert_exporter": "python",
      "pygments_lexer": "ipython3",
      "version": "3.9.5"
    }
  },
  "nbformat": 4,
  "nbformat_minor": 5
}