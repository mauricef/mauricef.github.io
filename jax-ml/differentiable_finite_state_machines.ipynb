{
  "nbformat": 4,
  "nbformat_minor": 0,
  "metadata": {
    "colab": {
      "name": "differentiable-finite-state-machines",
      "provenance": [],
      "collapsed_sections": [],
      "authorship_tag": "ABX9TyNRioJGezLrW8dEbkegycnm",
      "include_colab_link": true
    },
    "kernelspec": {
      "name": "python3",
      "display_name": "Python 3"
    },
    "language_info": {
      "name": "python"
    },
    "gpuClass": "standard",
    "accelerator": "GPU"
  },
  "cells": [
    {
      "cell_type": "markdown",
      "metadata": {
        "id": "view-in-github",
        "colab_type": "text"
      },
      "source": [
        "<a href=\"https://colab.research.google.com/github/mauricef/mauricef.github.io/blob/main/jax-ml/differentiable_finite_state_machines.ipynb\" target=\"_parent\"><img src=\"https://colab.research.google.com/assets/colab-badge.svg\" alt=\"Open In Colab\"/></a>"
      ]
    },
    {
      "cell_type": "markdown",
      "source": [
        "# Differentiable Finite State Machines\n",
        "This notebook is based off of a [blog post](https://google-research.github.io/self-organising-systems/2022/diff-fsm/) by Alexander Mordvintsev with some modifications.\n",
        "\n",
        "- Generate random sparse models instead of hand picked models\n",
        "- Generate random samples from the sparse model for training instead of training\n",
        "on the same input / output sequence\n",
        "- Support for more than two input and output classes\n",
        "- Softmax loss instead of squared error.\n"
      ],
      "metadata": {
        "id": "3vd3z1m7bJ8a"
      }
    },
    {
      "cell_type": "markdown",
      "source": [
        "## Imports"
      ],
      "metadata": {
        "id": "0ifwAfOmcJ__"
      }
    },
    {
      "cell_type": "code",
      "source": [
        "!pip install -q optax"
      ],
      "metadata": {
        "id": "QA8GiwCDcCNT",
        "colab": {
          "base_uri": "https://localhost:8080/"
        },
        "outputId": "a772aad2-2bfb-45b3-a6bb-a6ecf81c33c2"
      },
      "execution_count": null,
      "outputs": [
        {
          "output_type": "stream",
          "name": "stdout",
          "text": [
            "\u001b[?25l\r\u001b[K     |██▎                             | 10 kB 40.7 MB/s eta 0:00:01\r\u001b[K     |████▋                           | 20 kB 34.9 MB/s eta 0:00:01\r\u001b[K     |███████                         | 30 kB 23.4 MB/s eta 0:00:01\r\u001b[K     |█████████▎                      | 40 kB 14.7 MB/s eta 0:00:01\r\u001b[K     |███████████▋                    | 51 kB 12.6 MB/s eta 0:00:01\r\u001b[K     |██████████████                  | 61 kB 14.6 MB/s eta 0:00:01\r\u001b[K     |████████████████▎               | 71 kB 14.6 MB/s eta 0:00:01\r\u001b[K     |██████████████████▋             | 81 kB 12.8 MB/s eta 0:00:01\r\u001b[K     |█████████████████████           | 92 kB 14.1 MB/s eta 0:00:01\r\u001b[K     |███████████████████████▎        | 102 kB 15.4 MB/s eta 0:00:01\r\u001b[K     |█████████████████████████▋      | 112 kB 15.4 MB/s eta 0:00:01\r\u001b[K     |████████████████████████████    | 122 kB 15.4 MB/s eta 0:00:01\r\u001b[K     |██████████████████████████████▎ | 133 kB 15.4 MB/s eta 0:00:01\r\u001b[K     |████████████████████████████████| 140 kB 15.4 MB/s \n",
            "\u001b[?25h\u001b[?25l\r\u001b[K     |████▌                           | 10 kB 48.9 MB/s eta 0:00:01\r\u001b[K     |█████████                       | 20 kB 54.2 MB/s eta 0:00:01\r\u001b[K     |█████████████▋                  | 30 kB 62.6 MB/s eta 0:00:01\r\u001b[K     |██████████████████▏             | 40 kB 67.1 MB/s eta 0:00:01\r\u001b[K     |██████████████████████▊         | 51 kB 68.3 MB/s eta 0:00:01\r\u001b[K     |███████████████████████████▎    | 61 kB 67.7 MB/s eta 0:00:01\r\u001b[K     |███████████████████████████████▉| 71 kB 69.4 MB/s eta 0:00:01\r\u001b[K     |████████████████████████████████| 72 kB 784 kB/s \n",
            "\u001b[?25h"
          ]
        }
      ]
    },
    {
      "cell_type": "code",
      "source": [
        "from collections import namedtuple\n",
        "from functools import partial\n",
        "from typing import NamedTuple, Any\n",
        "import jax\n",
        "import jax.numpy as jp\n",
        "from jax.scipy.special import entr, logit\n",
        "from jax import jit, nn, random, lax, tree_map, grad, vmap\n",
        "import matplotlib.pyplot as plt\n",
        "import numpy as np\n",
        "import pandas as pd\n",
        "import optax\n",
        "from optax import softmax_cross_entropy\n",
        "rng = random.PRNGKey(42)"
      ],
      "metadata": {
        "id": "ELRXMRtDcLZG"
      },
      "execution_count": null,
      "outputs": []
    },
    {
      "cell_type": "markdown",
      "source": [
        "## Utilities"
      ],
      "metadata": {
        "id": "GfnfwzGQg8wz"
      }
    },
    {
      "cell_type": "code",
      "source": [
        "def str_to_onh(s, num_classes):\n",
        "    oh = jp.array(list(map(int, s)))\n",
        "    oh = nn.one_hot(oh, num_classes=num_classes)\n",
        "    return oh\n",
        "\n",
        "def onh_to_str(oh):\n",
        "    s = jp.argmax(oh, axis=1)\n",
        "    s = ''.join(list(map(str, s)))\n",
        "    return s\n",
        "\n",
        "@jit\n",
        "def hardmax(x):\n",
        "    return nn.one_hot(jp.argmax(x, -1), x.shape[-1])"
      ],
      "metadata": {
        "id": "JIKSD8SC40dC"
      },
      "execution_count": null,
      "outputs": []
    },
    {
      "cell_type": "markdown",
      "source": [
        "## Data Generating Process"
      ],
      "metadata": {
        "id": "Iad1OpfWgz4S"
      }
    },
    {
      "cell_type": "code",
      "source": [
        "class FSMShape(NamedTuple):\n",
        "    x_size: int\n",
        "    s_size: int\n",
        "    y_size: int\n",
        "\n",
        "    @property\n",
        "    def s_shape(self):\n",
        "        return (self.s_size,)\n",
        "        \n",
        "    @property\n",
        "    def t_shape(self):\n",
        "        return (self.x_size, self.s_size, self.s_size)\n",
        "\n",
        "    @property\n",
        "    def r_shape(self):\n",
        "        return (self.x_size, self.s_size, self.y_size)"
      ],
      "metadata": {
        "id": "MQK1F47ab_QW"
      },
      "execution_count": null,
      "outputs": []
    },
    {
      "cell_type": "code",
      "source": [
        "class FSM(NamedTuple):\n",
        "    s0: Any\n",
        "    t : Any \n",
        "    r : Any\n",
        "\n",
        "    @property\n",
        "    def s_size(self):\n",
        "        return self.t.shape[1]"
      ],
      "metadata": {
        "id": "WcgaBV8g_Uu1"
      },
      "execution_count": null,
      "outputs": []
    },
    {
      "cell_type": "code",
      "source": [
        "@partial(jit, static_argnums=1)\n",
        "def init_random_sparse_fsm(rng, fsm_shape, temperature=100.):\n",
        "    r1, r2 = random.split(rng)\n",
        "    t = random.randint(\n",
        "        r1, minval=0, maxval=fsm_shape.s_size, \n",
        "        shape=(fsm_shape.x_size, fsm_shape.s_size))\n",
        "    r = random.randint(\n",
        "        r2, minval=0, maxval=fsm_shape.y_size,\n",
        "        shape=(fsm_shape.x_size, fsm_shape.s_size))\n",
        "    fsm = FSM(\n",
        "        s0=nn.one_hot(0, num_classes=fsm_shape.s_size),\n",
        "        t=nn.one_hot(t, num_classes=fsm_shape.s_size),\n",
        "        r=nn.one_hot(r, num_classes=fsm_shape.y_size)\n",
        "    )\n",
        "    # the fsm parameters are logits not probabilities multiply by\n",
        "    # temperature to ensure the resulting softmax probabilities are close to 1. / 0.\n",
        "    return tree_map(lambda a: a * temperature, fsm)"
      ],
      "metadata": {
        "id": "u81oJKoUiUlr"
      },
      "execution_count": null,
      "outputs": []
    },
    {
      "cell_type": "code",
      "source": [
        "@jit\n",
        "def predict(model_state, x):\n",
        "    model_state = tree_map(partial(nn.softmax, axis=-1), model_state)\n",
        "\n",
        "    def step(s, x):\n",
        "        y = jp.einsum('x,s,xsy->y', x, s, model_state.r)\n",
        "        s1 = jp.einsum('x,s,xst->t', x, s, model_state.t)\n",
        "        return s1, (s, y)\n",
        "\n",
        "    s0 = model_state.s0\n",
        "    _, (s, y) = lax.scan(step, s0, x)\n",
        "    return s, y"
      ],
      "metadata": {
        "id": "DmCVepX3tuwk"
      },
      "execution_count": null,
      "outputs": []
    },
    {
      "cell_type": "code",
      "source": [
        "@partial(jit, static_argnums=1)\n",
        "def init_random_dense_fsm(rng, fsm_shape):\n",
        "    r1, r2, r3 = random.split(rng, 3)\n",
        "    s0 = random.normal(r1, fsm_shape.s_shape)\n",
        "    T = random.normal(r2, fsm_shape.t_shape)\n",
        "    R = random.normal(r3, fsm_shape.r_shape)\n",
        "    return FSM(s0, T, R)"
      ],
      "metadata": {
        "id": "ryUu_TLbNP98"
      },
      "execution_count": null,
      "outputs": []
    },
    {
      "cell_type": "markdown",
      "source": [
        "## Learning"
      ],
      "metadata": {
        "id": "9NtRPrraxUH2"
      }
    },
    {
      "cell_type": "code",
      "source": [
        "def prediction_loss(y, yp):\n",
        "    return softmax_cross_entropy(logit(yp), y).mean()\n",
        "\n",
        "def entropy_loss(s):\n",
        "    s = jp.mean(s, axis=0)\n",
        "    return entr(s).mean()\n",
        "\n",
        "def loss_f(model_state, x, y, entropy_loss_weight=.25):\n",
        "    sp, yp = predict(model_state, x)\n",
        "    return prediction_loss(y, yp) + entropy_loss(sp) * entropy_loss_weight"
      ],
      "metadata": {
        "id": "yBU1ZoJTyO3T"
      },
      "execution_count": null,
      "outputs": []
    },
    {
      "cell_type": "code",
      "source": [
        "@partial(jit, static_argnums=1)\n",
        "def train_step(model_state, optimizer, opt_state, xs, ys):\n",
        "    def mean_batch_loss(model_state):\n",
        "        losses = vmap(partial(loss_f, model_state=model_state))(x=xs, y=ys)\n",
        "        return losses.mean()\n",
        "    grads = grad(mean_batch_loss)(model_state)\n",
        "    updates, opt_state = optimizer.update(grads, opt_state)\n",
        "    model_state = optax.apply_updates(model_state, updates)\n",
        "    return (model_state, opt_state)"
      ],
      "metadata": {
        "id": "lUknQivZ3t8a"
      },
      "execution_count": null,
      "outputs": []
    },
    {
      "cell_type": "code",
      "source": [
        "@partial(jit, static_argnums=(4, 5))\n",
        "def train(model_state, opt_state, xs, ys, optimizer, steps):\n",
        "    def step(training_state, _):\n",
        "        model_state, opt_state = training_state\n",
        "        model_state, opt_state = train_step(model_state, optimizer, opt_state, xs, ys)\n",
        "        return (model_state, opt_state), model_state\n",
        "    _, model_states = lax.scan(step, init=(model_state, opt_state), xs=None, length=steps)\n",
        "    return model_states"
      ],
      "metadata": {
        "id": "6e-Oe0xfrRLt"
      },
      "execution_count": null,
      "outputs": []
    },
    {
      "cell_type": "code",
      "source": [
        "@jit\n",
        "def distinct_state_count(s):\n",
        "    s = jp.argmax(s, axis=-1)\n",
        "    s = jp.ravel(s)\n",
        "    values = jp.unique(s, size=s.shape[0], fill_value=-1)\n",
        "    return jp.sum(values != -1)"
      ],
      "metadata": {
        "id": "RBTDVAMx1Ph0"
      },
      "execution_count": null,
      "outputs": []
    },
    {
      "cell_type": "code",
      "source": [
        "@jit\n",
        "def accuracy(y, yp):\n",
        "    return jp.mean(np.argmax(y, axis=-1) == jp.argmax(yp, axis=-1))"
      ],
      "metadata": {
        "id": "vgcgJC9XBHdM"
      },
      "execution_count": null,
      "outputs": []
    },
    {
      "cell_type": "code",
      "source": [
        "@jit\n",
        "def evaluate_model_state(model_state, x, y):\n",
        "    sp, yp = fsm_rollout(model_state, x)\n",
        "    return {\n",
        "        #'prediction_loss': prediction_loss(y, yp),\n",
        "        # 'entropy_loss': entropy_loss(sp),\n",
        "        'accuracy': accuracy(y, yp),\n",
        "        'distinct_state_count': distinct_state_count(sp)\n",
        "    }"
      ],
      "metadata": {
        "id": "vUeHHYNxFtWD"
      },
      "execution_count": null,
      "outputs": []
    },
    {
      "cell_type": "code",
      "source": [
        "@jit\n",
        "def evaluate_trial(model_states, xs, ys):\n",
        "    def evaluate_batch(model_state):\n",
        "        results = vmap(partial(evaluate_model_state, model_state=model_state))(x=xs, y=ys)\n",
        "        results = tree_map(lambda a: a.mean(-1), results)\n",
        "        return results\n",
        "    return vmap(evaluate_batch)(model_states)"
      ],
      "metadata": {
        "id": "1AF5coyPr8A1"
      },
      "execution_count": null,
      "outputs": []
    },
    {
      "cell_type": "code",
      "source": [
        "def plot_results(results, generative_s_size, inference_s_size):\n",
        "    df = pd.DataFrame(data=results)\n",
        "    fig, ax1 = plt.subplots(figsize=(10, 10))\n",
        "    ax1.set_xlabel('step')\n",
        "    ax1.set_ylim(0, 1.1)\n",
        "    ax1.set_ylabel('accuracy %', color='blue')\n",
        "    ax1.plot(df.accuracy, color='blue')\n",
        "    ax2 = ax1.twinx()\n",
        "    ax2.hlines(\n",
        "        y=generative_s_size, \n",
        "        xmin=0, xmax=len(df.index), colors='aqua', label='Generative State Count')\n",
        "    ax2.set_ylim(0, max(generative_s_size, inference_s_size) + 1)\n",
        "    ax2.set_ylabel('state count', color='red')\n",
        "    ax2.plot(df.distinct_state_count, color='red')"
      ],
      "metadata": {
        "id": "YRQk92877Mei"
      },
      "execution_count": null,
      "outputs": []
    },
    {
      "cell_type": "code",
      "source": [
        "@partial(jit, static_argnames=('fsm_shape', 'episode_length'))\n",
        "def sample(rng, fsm, fsm_shape, episode_length):\n",
        "    rng, r = random.split(rng)\n",
        "    x = random.randint(r, minval=0, maxval=2, shape=(episode_length,))\n",
        "    x = nn.one_hot(x, num_classes=fsm_shape.x_size)\n",
        "    s, y = predict(fsm, x)\n",
        "    return x, s, y\n",
        "\n",
        "@partial(jit, static_argnums=(2, 3, 4))\n",
        "def sample_batch(rng, fsm, fsm_shape, episode_length, batch_size):\n",
        "    rngs = random.split(rng, batch_size)\n",
        "    rngs = jp.array(rngs)\n",
        "    _sample = partial(sample, fsm=fsm, fsm_shape=fsm_shape, episode_length=episode_length)\n",
        "    return vmap(_sample)(rng=rngs)"
      ],
      "metadata": {
        "id": "61RVbEOMJbKX"
      },
      "execution_count": null,
      "outputs": []
    },
    {
      "cell_type": "code",
      "source": [
        "x_size = 4\n",
        "y_size = 4\n",
        "generative_s_size = 25\n",
        "inference_s_size = 100\n",
        "trials = 100\n",
        "steps = 400\n",
        "training_batch_size = 256\n",
        "evaluation_batch_size = 256\n",
        "episode_length = 40"
      ],
      "metadata": {
        "id": "nUffJ2V-JVPE"
      },
      "execution_count": null,
      "outputs": []
    },
    {
      "cell_type": "code",
      "source": [
        "generative_fsm_shape = FSMShape(x_size=x_size, s_size=generative_s_size, y_size=y_size)\n",
        "rng, r = random.split(rng)\n",
        "generative_fsm = init_random_sparse_fsm(r, generative_fsm_shape)\n",
        "rng, r = random.split(rng)\n",
        "xs, ss, ys = sample_batch(r, generative_fsm, generative_fsm_shape, episode_length, 1024)\n",
        "distinct_state_count(ss)"
      ],
      "metadata": {
        "id": "xWDlGg88JWnC",
        "colab": {
          "base_uri": "https://localhost:8080/"
        },
        "outputId": "ab9d9b36-c8d6-45dd-d326-f46db86e1fd6"
      },
      "execution_count": null,
      "outputs": [
        {
          "output_type": "execute_result",
          "data": {
            "text/plain": [
              "DeviceArray(19, dtype=int32)"
            ]
          },
          "metadata": {},
          "execution_count": 211
        }
      ]
    },
    {
      "cell_type": "code",
      "source": [
        "rng, r = random.split(rng)\n",
        "inference_fsm_shape = FSMShape(x_size=x_size, s_size=inference_s_size, y_size=y_size)\n",
        "model_state = init_random_dense_fsm(r, inference_fsm_shape)\n",
        "optimizer = optax.adam(learning_rate=.1)\n",
        "opt_state = optimizer.init(model_state)\n",
        "rng, r = random.split(rng)\n",
        "xs, ss, ys = sample_batch(r, generative_fsm, generative_fsm_shape, episode_length, training_batch_size)\n",
        "rng, r = random.split(rng)\n",
        "model_states = train(\n",
        "    model_state = model_state,\n",
        "    opt_state = opt_state,\n",
        "    xs = xs, ys = ys,\n",
        "    optimizer = optimizer,\n",
        "    steps = steps\n",
        ")"
      ],
      "metadata": {
        "id": "LsHAgdwBwQGn"
      },
      "execution_count": null,
      "outputs": []
    },
    {
      "cell_type": "code",
      "source": [
        "rng, r = random.split(rng)\n",
        "xs, ss, ys = sample_batch(r, generative_fsm, generative_fsm_shape, episode_length, evaluation_batch_size)\n",
        "results = evaluate_trial(\n",
        "    model_states = model_states,\n",
        "    xs = xs, ys = ys\n",
        ")\n",
        "print(distinct_state_count(ss))\n",
        "plot_results(\n",
        "    results = results,\n",
        "    generative_s_size = distinct_state_count(ss),\n",
        "    inference_s_size = inference_s_size\n",
        ")"
      ],
      "metadata": {
        "id": "JuMWvTK-61Ns",
        "colab": {
          "base_uri": "https://localhost:8080/",
          "height": 624
        },
        "outputId": "dedfb034-cf58-4f93-cc1d-947de2aea603"
      },
      "execution_count": null,
      "outputs": [
        {
          "output_type": "stream",
          "name": "stdout",
          "text": [
            "19\n"
          ]
        },
        {
          "output_type": "display_data",
          "data": {
            "text/plain": [
              "<Figure size 720x720 with 2 Axes>"
            ],
            "image/png": "[encoded data removed]"
          },
          "metadata": {
            "needs_background": "light"
          }
        }
      ]
    }
  ]
}