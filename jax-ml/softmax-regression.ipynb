{
  "nbformat": 4,
  "nbformat_minor": 5,
  "metadata": {
    "kernelspec": {
      "display_name": "Python 3",
      "language": "python",
      "name": "python3"
    },
    "language_info": {
      "name": "python",
      "version": ""
    },
    "colab": {
      "name": "softmax-regression.ipynb",
      "provenance": []
    },
    "accelerator": "GPU"
  },
  "cells": [
    {
      "cell_type": "markdown",
      "metadata": {
        "id": "irW74cITe-kS"
      },
      "source": [
        "# Softmax Regression"
      ],
      "id": "irW74cITe-kS"
    },
    {
      "cell_type": "code",
      "metadata": {
        "id": "Hz6gmyQdfCEW"
      },
      "source": [
        "%pip install \\\n",
        "    git+https://github.com/deepmind/dm-haiku@v0.0.4 \\\n",
        "    git+https://github.com/deepmind/optax@v0.0.9"
      ],
      "id": "Hz6gmyQdfCEW",
      "execution_count": null,
      "outputs": []
    },
    {
      "cell_type": "code",
      "metadata": {
        "id": "BkdQANg4e-kU"
      },
      "source": [
        "import haiku as hk\n",
        "\n",
        "from jax import jit, partial, vmap, grad\n",
        "from jax import random\n",
        "import jax.lax as lax\n",
        "import jax.nn as nn\n",
        "import jax.numpy as np\n",
        "from jax.scipy.special import logit\n",
        "\n",
        "import optax"
      ],
      "id": "BkdQANg4e-kU",
      "execution_count": 2,
      "outputs": []
    },
    {
      "cell_type": "code",
      "metadata": {
        "id": "cxeTokEpe-kV"
      },
      "source": [
        "y_size = 4"
      ],
      "id": "cxeTokEpe-kV",
      "execution_count": 3,
      "outputs": []
    },
    {
      "cell_type": "code",
      "metadata": {
        "id": "7aJf8MjUe-kV"
      },
      "source": [
        "@hk.without_apply_rng\n",
        "@hk.transform\n",
        "def model(x):\n",
        "    linear = hk.Linear(output_size=y_size)\n",
        "    return linear(x)"
      ],
      "id": "7aJf8MjUe-kV",
      "execution_count": 4,
      "outputs": []
    },
    {
      "cell_type": "code",
      "metadata": {
        "id": "iGxJuEUhe-kW"
      },
      "source": [
        "rng = random.PRNGKey(42)"
      ],
      "id": "iGxJuEUhe-kW",
      "execution_count": 5,
      "outputs": []
    },
    {
      "cell_type": "code",
      "metadata": {
        "id": "GFGb6xHXe-kW"
      },
      "source": [
        "x_shape = (10,)\n",
        "rng, r = random.split(rng)\n",
        "generating_model_state = model.init(r, np.zeros(x_shape))\n",
        "rng, r = random.split(rng)\n",
        "x = random.normal(r, (1000,) + x_shape)\n",
        "y = vmap(partial(model.apply, generating_model_state))(x)\n",
        "y = np.argmax(y, axis=-1)\n",
        "y_one_hot = nn.one_hot(y, y_size)\n",
        "\n",
        "@jit\n",
        "def loss_fn(model_state):\n",
        "    model_predictions_logits = vmap(partial(model.apply, model_state))(x)\n",
        "    loss = optax.softmax_cross_entropy(model_predictions_logits, y_one_hot)\n",
        "    loss = np.mean(loss)\n",
        "    return loss\n",
        "\n",
        "@jit\n",
        "def accuracy(model_state):\n",
        "    model_predictions_logits = vmap(partial(model.apply, model_state))(x)\n",
        "    model_predictions = np.argmax(model_predictions_logits, axis=-1)\n",
        "    return np.mean(y == model_predictions)"
      ],
      "id": "GFGb6xHXe-kW",
      "execution_count": 6,
      "outputs": []
    },
    {
      "cell_type": "code",
      "metadata": {
        "id": "uIMzo5yMe-kX"
      },
      "source": [
        "steps = 50\n",
        "start_learning_rate = 1e-2\n",
        "optimizer = optax.adamw(start_learning_rate, weight_decay=1e-2)\n",
        "\n",
        "@jit\n",
        "def train(model_state, optimizer_state):\n",
        "    def train_step(i, train_state):\n",
        "        model_state, optimizer_state = train_state\n",
        "        loss_grads = grad(loss_fn)(model_state)\n",
        "        model_updates, optimizer_state = optimizer.update(loss_grads, optimizer_state, model_state)\n",
        "        model_state = optax.apply_updates(model_state, model_updates)\n",
        "        return model_state, optimizer_state\n",
        "\n",
        "    initial_train_state = model_state, optimizer_state\n",
        "    return lax.fori_loop(0, steps, train_step, initial_train_state)"
      ],
      "id": "uIMzo5yMe-kX",
      "execution_count": 7,
      "outputs": []
    },
    {
      "cell_type": "code",
      "metadata": {
        "id": "nm1doppue-kY"
      },
      "source": [
        "rng, r = random.split(rng)\n",
        "inferred_model_state = model.init(r, np.zeros(x.shape[1:]))\n",
        "optimizer_state = optimizer.init(inferred_model_state)"
      ],
      "id": "nm1doppue-kY",
      "execution_count": 8,
      "outputs": []
    },
    {
      "cell_type": "code",
      "metadata": {
        "id": "gIQdOVFSe-kY",
        "outputId": "67c3086c-e2fe-497f-9d1c-d64042314f7c",
        "colab": {
          "base_uri": "https://localhost:8080/"
        }
      },
      "source": [
        "for i in range(10):\n",
        "    print(accuracy(inferred_model_state))\n",
        "    inferred_model_state, optimizer_state = train(inferred_model_state, optimizer_state)\n",
        "print(accuracy(inferred_model_state))"
      ],
      "id": "gIQdOVFSe-kY",
      "execution_count": 9,
      "outputs": [
        {
          "output_type": "stream",
          "text": [
            "0.20500001\n",
            "0.74700004\n",
            "0.887\n",
            "0.92100006\n",
            "0.933\n",
            "0.94100004\n",
            "0.952\n",
            "0.957\n",
            "0.96000004\n",
            "0.9620001\n",
            "0.96400005\n"
          ],
          "name": "stdout"
        }
      ]
    }
  ]
}