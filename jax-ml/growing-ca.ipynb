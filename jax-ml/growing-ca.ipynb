{
  "nbformat": 4,
  "nbformat_minor": 0,
  "metadata": {
    "colab": {
      "provenance": [],
      "authorship_tag": "ABX9TyNqMzcRNI6mBG8J4rCU+V+0",
      "include_colab_link": true
    },
    "kernelspec": {
      "name": "python3",
      "display_name": "Python 3"
    },
    "language_info": {
      "name": "python"
    },
    "accelerator": "GPU",
    "gpuClass": "premium"
  },
  "cells": [
    {
      "cell_type": "markdown",
      "metadata": {
        "id": "view-in-github",
        "colab_type": "text"
      },
      "source": [
        "<a href=\"https://colab.research.google.com/github/mauricef/mauricef.github.io/blob/main/jax-ml/growing-ca.ipynb\" target=\"_parent\"><img src=\"https://colab.research.google.com/assets/colab-badge.svg\" alt=\"Open In Colab\"/></a>"
      ]
    },
    {
      "cell_type": "code",
      "source": [
        "!nvidia-smi"
      ],
      "metadata": {
        "colab": {
          "base_uri": "https://localhost:8080/"
        },
        "id": "yUulXIMztL-z",
        "outputId": "cd680487-0c0b-43d0-c017-b491f5141d8e"
      },
      "execution_count": 2,
      "outputs": [
        {
          "output_type": "stream",
          "name": "stdout",
          "text": [
            "Mon Jan  9 18:05:12 2023       \n",
            "+-----------------------------------------------------------------------------+\n",
            "| NVIDIA-SMI 460.32.03    Driver Version: 460.32.03    CUDA Version: 11.2     |\n",
            "|-------------------------------+----------------------+----------------------+\n",
            "| GPU  Name        Persistence-M| Bus-Id        Disp.A | Volatile Uncorr. ECC |\n",
            "| Fan  Temp  Perf  Pwr:Usage/Cap|         Memory-Usage | GPU-Util  Compute M. |\n",
            "|                               |                      |               MIG M. |\n",
            "|===============================+======================+======================|\n",
            "|   0  A100-SXM4-40GB      Off  | 00000000:00:04.0 Off |                    0 |\n",
            "| N/A   34C    P0    55W / 400W |      0MiB / 40536MiB |      0%      Default |\n",
            "|                               |                      |             Disabled |\n",
            "+-------------------------------+----------------------+----------------------+\n",
            "                                                                               \n",
            "+-----------------------------------------------------------------------------+\n",
            "| Processes:                                                                  |\n",
            "|  GPU   GI   CI        PID   Type   Process name                  GPU Memory |\n",
            "|        ID   ID                                                   Usage      |\n",
            "|=============================================================================|\n",
            "|  No running processes found                                                 |\n",
            "+-----------------------------------------------------------------------------+\n"
          ]
        }
      ]
    },
    {
      "cell_type": "code",
      "source": [
        "%pip install -q \\\n",
        "    dm_haiku==0.0.9 \\\n",
        "    moviepy==1.0.3 \\\n",
        "    optax==0.1.4"
      ],
      "metadata": {
        "colab": {
          "base_uri": "https://localhost:8080/"
        },
        "id": "Xg2JO8fYqeip",
        "outputId": "35d70b2f-00de-4aab-c282-3d8bd9f3bce8"
      },
      "execution_count": 3,
      "outputs": [
        {
          "output_type": "stream",
          "name": "stdout",
          "text": [
            "\u001b[?25l     \u001b[90m━━━━━━━━━━━━━━━━━━━━━━━━━━━━━━━━━━━━━━━━\u001b[0m \u001b[32m0.0/352.1 KB\u001b[0m \u001b[31m?\u001b[0m eta \u001b[36m-:--:--\u001b[0m\r\u001b[2K     \u001b[91m━━━━━━━━━━━━━━━━━━━━━━━━━━━━━━━━━━━\u001b[0m\u001b[90m╺\u001b[0m\u001b[90m━━━\u001b[0m \u001b[32m317.4/352.1 KB\u001b[0m \u001b[31m9.3 MB/s\u001b[0m eta \u001b[36m0:00:01\u001b[0m\r\u001b[2K     \u001b[90m━━━━━━━━━━━━━━━━━━━━━━━━━━━━━━━━━━━━━━━\u001b[0m \u001b[32m352.1/352.1 KB\u001b[0m \u001b[31m7.8 MB/s\u001b[0m eta \u001b[36m0:00:00\u001b[0m\n",
            "\u001b[2K     \u001b[90m━━━━━━━━━━━━━━━━━━━━━━━━━━━━━━━━━━━━━━\u001b[0m \u001b[32m388.3/388.3 KB\u001b[0m \u001b[31m24.2 MB/s\u001b[0m eta \u001b[36m0:00:00\u001b[0m\n",
            "\u001b[?25h  Preparing metadata (setup.py) ... \u001b[?25l\u001b[?25hdone\n",
            "\u001b[2K     \u001b[90m━━━━━━━━━━━━━━━━━━━━━━━━━━━━━━━━━━━━━━\u001b[0m \u001b[32m154.9/154.9 KB\u001b[0m \u001b[31m21.2 MB/s\u001b[0m eta \u001b[36m0:00:00\u001b[0m\n",
            "\u001b[2K     \u001b[90m━━━━━━━━━━━━━━━━━━━━━━━━━━━━━━━━━━━━━━━━\u001b[0m \u001b[32m26.9/26.9 MB\u001b[0m \u001b[31m31.9 MB/s\u001b[0m eta \u001b[36m0:00:00\u001b[0m\n",
            "\u001b[2K     \u001b[90m━━━━━━━━━━━━━━━━━━━━━━━━━━━━━━━━━━━━━━━━\u001b[0m \u001b[32m85.3/85.3 KB\u001b[0m \u001b[31m12.8 MB/s\u001b[0m eta \u001b[36m0:00:00\u001b[0m\n",
            "\u001b[?25h  Building wheel for moviepy (setup.py) ... \u001b[?25l\u001b[?25hdone\n"
          ]
        }
      ]
    },
    {
      "cell_type": "code",
      "source": [
        "from functools import partial\n",
        "import hashlib\n",
        "import io\n",
        "import json\n",
        "import os\n",
        "import pickle\n",
        "import sys\n",
        "from tempfile import NamedTemporaryFile\n",
        "import time\n",
        "os.environ['FFMPEG_BINARY'] = 'ffmpeg'\n",
        "\n",
        "import haiku as hk\n",
        "import jax\n",
        "from jax import jit, lax, vmap, nn, grad\n",
        "import jax.numpy as jnp\n",
        "from jax import random\n",
        "from jax.scipy.signal import convolve2d\n",
        "import matplotlib.pyplot as plt\n",
        "import moviepy.editor as mvp\n",
        "from moviepy.video.io.ffmpeg_writer import FFMPEG_VideoWriter\n",
        "import numpy as np\n",
        "import optax\n",
        "import PIL.Image as Image\n",
        "import requests\n",
        "\n",
        "rng = random.PRNGKey(42)"
      ],
      "metadata": {
        "id": "Tuc0k-02qtDe"
      },
      "execution_count": 4,
      "outputs": []
    },
    {
      "cell_type": "markdown",
      "source": [
        "## NCA Model"
      ],
      "metadata": {
        "id": "PwBjoyavqwaE"
      }
    },
    {
      "cell_type": "code",
      "execution_count": 5,
      "metadata": {
        "id": "E7opUvNqoDCr"
      },
      "outputs": [],
      "source": [
        "@jit\n",
        "def convolve_state_grid(state_grid, filter):\n",
        "    def _convolve_channel_grid(channel_grid):\n",
        "        return convolve2d(channel_grid, filter, mode='same')\n",
        "    return vmap(_convolve_channel_grid, in_axes=-1, out_axes=-1)(state_grid)\n",
        "\n",
        "\n",
        "@jit\n",
        "def perceive(state_grid):\n",
        "    sobel_x = jnp.array([\n",
        "        [-1, 0, +1],\n",
        "        [-2, 0, +2],\n",
        "        [-1, 0, +1]\n",
        "    ])\n",
        "    sobel_y = sobel_x.T\n",
        "    dx = convolve_state_grid(state_grid, sobel_x)\n",
        "    dy = convolve_state_grid(state_grid, sobel_y)\n",
        "    perception_grid = jnp.concatenate([state_grid, dx, dy], axis=-1)\n",
        "    return perception_grid\n",
        "\n",
        "@jit\n",
        "def stochastic_update(rng, update_grid, update_pct):\n",
        "    update_mask = random.uniform(rng, update_grid.shape[:-1])\n",
        "    update_mask = update_mask < update_pct\n",
        "    update_mask = jnp.expand_dims(update_mask, -1)\n",
        "    update_grid *= update_mask\n",
        "    return update_grid\n",
        "\n",
        "@jit\n",
        "def alive_mask(state_grid, alive_threshold):\n",
        "    alive_grid = hk.max_pool(state_grid[:, :, 0], window_shape=(3, 3), strides=1, padding='SAME')\n",
        "    alive_grid = alive_grid > alive_threshold\n",
        "    alive_grid = jnp.expand_dims(alive_grid, -1)\n",
        "    return alive_grid\n",
        "\n",
        "def NCA(mlp_hidden, channels, update_pct, alive_threshold, layer1_w_init_zero=True):\n",
        "    @hk.transform\n",
        "    def model(state_grid):\n",
        "        layer1_w_init = hk.initializers.Constant(0.) if layer1_w_init_zero else None\n",
        "        sequential = hk.Sequential([\n",
        "            hk.Linear(output_size=mlp_hidden),\n",
        "            nn.relu,\n",
        "            hk.Linear(output_size=channels, w_init=layer1_w_init)\n",
        "        ])\n",
        "        perception_grid = perceive(state_grid)\n",
        "        update_grid = vmap(vmap(sequential))(perception_grid)\n",
        "        rng = hk.next_rng_key()\n",
        "        update_grid = stochastic_update(rng, update_grid, update_pct) \n",
        "        alive_grid = alive_mask(state_grid, alive_threshold)\n",
        "        state_grid += update_grid\n",
        "        state_grid *= alive_grid\n",
        "        return state_grid\n",
        "    return model"
      ]
    },
    {
      "cell_type": "markdown",
      "source": [
        "## Training"
      ],
      "metadata": {
        "id": "UQlmPrxqqywV"
      }
    },
    {
      "cell_type": "code",
      "source": [
        "@partial(jit, static_argnames=('scale'))\n",
        "def zoom(img, scale=4):\n",
        "    img = jnp.repeat(img, scale, 0)\n",
        "    img = jnp.repeat(img, scale, 1)\n",
        "    return img\n",
        "\n",
        "def render_video(frames, frames_per_second, output_path):\n",
        "    frame_count = frames.shape[0]\n",
        "    frame_size = frames.shape[1]\n",
        "    frame_shape = (frame_size,) * 2\n",
        "    with FFMPEG_VideoWriter(size=frame_shape, fps=frames_per_second, filename=output_path) as writer:\n",
        "        for fr in range(frame_count):\n",
        "            frame = frames[fr]\n",
        "            writer.write_frame(frame)\n",
        "\n",
        "def download_emoji(emoji):\n",
        "    code = hex(ord(emoji))[2:].lower()\n",
        "    response = requests.get(f'https://github.com/googlefonts/noto-emoji/blob/main/png/128/emoji_u{code}.png?raw=true')\n",
        "    response.raise_for_status()\n",
        "    img_bytes = response.content\n",
        "    img = Image.open(io.BytesIO(img_bytes))\n",
        "    img_array = np.array(img)\n",
        "    return img_array\n",
        "\n",
        "@partial(jit, static_argnums=(0, 1, 2))\n",
        "def init_state_grid(height, width, channels):\n",
        "    x = jnp.zeros(shape=(height, width, channels))\n",
        "    x = x.at[height//2, width//2, :].set(1.)\n",
        "    return x\n",
        "\n",
        "@jit\n",
        "def premultiply_alpha(img):\n",
        "    return img[..., :3] * jnp.expand_dims(img[..., 3], -1)\n",
        "\n",
        "@jit\n",
        "def to_rgb(state_grid):\n",
        "    rgb = jnp.clip(state_grid, 0., 1.)\n",
        "    rgb *= 255.\n",
        "    rgb = jnp.uint8(rgb)\n",
        "    return rgb\n",
        "\n",
        "@jit\n",
        "def image_loss(state_grid, target_image):\n",
        "    y = target_image\n",
        "    yp = state_grid[..., 0]\n",
        "    return jnp.mean(optax.l2_loss(y, yp))\n",
        "\n",
        "@partial(jit, static_argnames=('model', 'simulation_steps', 'return_steps'))\n",
        "def simulate(rng, model, state_grid, update_weights, simulation_steps, return_steps):\n",
        "    def step(state_grid, rng):\n",
        "        next_state_grid = model.apply(update_weights, rng, state_grid)\n",
        "        return next_state_grid, state_grid\n",
        "    rngs = jnp.array(random.split(rng, simulation_steps))\n",
        "    final_state_grid, state_grid_steps = lax.scan(step, state_grid, xs=rngs)\n",
        "    if return_steps:\n",
        "        all_state_grid_steps = jnp.append(\n",
        "            state_grid_steps, \n",
        "            jnp.expand_dims(final_state_grid, 0),\n",
        "            axis=0)\n",
        "        return final_state_grid, state_grid_steps\n",
        "    else:\n",
        "        return final_state_grid\n",
        "\n",
        "@jit\n",
        "def normalize(a, eps=1e-9):\n",
        "    norm = jnp.linalg.norm(a)\n",
        "    return a / (norm + eps)\n",
        "\n",
        "@partial(jit, static_argnames=('model', 'simulation_steps'))\n",
        "def batch_simulate(rng, model, state_grid_batch, update_weights, simulation_steps):\n",
        "    rngs = jnp.array(random.split(rng, batch_size))\n",
        "    def _simulate(i):\n",
        "        return simulate(\n",
        "            rng=rngs[i], \n",
        "            model=model,\n",
        "            state_grid=state_grid_batch[i], \n",
        "            update_weights=update_weights, \n",
        "            simulation_steps=simulation_steps,\n",
        "            return_steps=False)\n",
        "    return vmap(_simulate)(jnp.arange(batch_size))\n",
        "\n",
        "@partial(jit, static_argnames=('model', 'simulation_steps'))\n",
        "@partial(grad, has_aux=True)\n",
        "def grads_and_updated_state_grid_batch(update_weights, rng, state_grid_batch, model, simulation_steps, target_image):\n",
        "    print('compile')\n",
        "    updated_state_grid_batch = batch_simulate(\n",
        "        rng=rng, \n",
        "        state_grid_batch=state_grid_batch, \n",
        "        model=nca, \n",
        "        update_weights=update_weights,\n",
        "        simulation_steps=simulation_steps)\n",
        "    def _loss(state_grid):\n",
        "        return image_loss(state_grid, target_image)\n",
        "    losses = vmap(_loss)(updated_state_grid_batch)\n",
        "    loss = jnp.mean(losses)\n",
        "    return loss, (loss, updated_state_grid_batch)\n",
        "\n",
        "def display_simulation(state_grid_steps, target_image):\n",
        "    frames = state_grid_steps[..., 0]\n",
        "    frames = to_rgb(frames)\n",
        "    frames = jnp.expand_dims(frames, -1)\n",
        "    frames = jnp.repeat(frames, repeats=3, axis=-1)\n",
        "    frames = vmap(lambda frame: frame.at[..., 1].set(to_rgb(target_image)))(frames)\n",
        "    frames = vmap(lambda frame: zoom(frame, scale=8))(frames)\n",
        "    video_file = NamedTemporaryFile(suffix='.mp4')\n",
        "    render_video(frames, frames_per_second=4, output_path=video_file.name)\n",
        "    display(mvp.ipython_display(video_file.name))\n",
        "\n",
        "def display_target_image(target_image):\n",
        "    return PIL.Image.fromarray(np.array(zoom(to_rgb(target_image), scale=8)))\n",
        "\n",
        "@jit\n",
        "def manhattan_distance(p1, p2):\n",
        "    return jnp.abs(p1[0] - p2[0]) + jnp.abs(p1[1] - p2[1])\n",
        "\n",
        "@partial(jit, static_argnames=('size'))\n",
        "def manhattan_distance_grid(center, size):\n",
        "    indicies = jnp.moveaxis(jnp.indices((size, size)), source=0, destination=-1).reshape((-1, 2))\n",
        "    distances = vmap(lambda i: manhattan_distance(center, i))(indicies)\n",
        "    distances = jnp.reshape(distances, (size, size))\n",
        "    return distances\n",
        "\n",
        "@partial(jit, static_argnames=('size'))\n",
        "def generate_diamond(size, radius):\n",
        "    x = manhattan_distance_grid(center=(size//2, size//2), size=size)\n",
        "    x = jnp.float32(x < radius)\n",
        "    return x\n",
        "\n",
        "@partial(jit, static_argnames=('batch_size'))\n",
        "def sample_pool(rng, pool, batch_size):\n",
        "    sample_idx = random.choice(rng, pool.shape[0], (batch_size,), replace=False)\n",
        "    batch = pool[sample_idx]\n",
        "    return sample_idx, batch\n",
        "\n",
        "@partial(jit, static_argnames=('pool_reinit_size'))\n",
        "def update_pool(rng, pool, pool_updates, pool_updates_idx, pool_reinit_size, pool_init):\n",
        "    rng, r = random.split(rng)\n",
        "    pool_init_idx = random.choice(r, pool.shape[0], (pool_reinit_size,), replace=False)\n",
        "    pool = pool.at[pool_updates_idx].set(pool_updates)\n",
        "    pool = pool.at[pool_init_idx].set(pool_init)\n",
        "    return pool\n",
        "\n",
        "@partial(jit, static_argnames=('optimizer'))\n",
        "def update(grads, update_weights, optimizer, optimizer_state):\n",
        "    grads = jax.tree_map(normalize, grads)\n",
        "    updates, optimizer_state = optimizer.update(grads, optimizer_state, update_weights)\n",
        "    update_weights = optax.apply_updates(updates, update_weights)\n",
        "    return update_weights, optimizer_state"
      ],
      "metadata": {
        "id": "7EkFPKmeqcdw"
      },
      "execution_count": 6,
      "outputs": []
    },
    {
      "cell_type": "code",
      "source": [
        "emoji = \"♥\"\n",
        "emoji = download_emoji(emoji)\n",
        "target_image = emoji[..., 3]\n",
        "target_image = Image.fromarray(target_image)\n",
        "target_image.thumbnail((32, 32))\n",
        "target_image = np.array(target_image)\n",
        "target_image = np.float32(np.clip(0., 1., target_image/255))\n",
        "height, width = target_image.shape[0], target_image.shape[1]\n",
        "channels = 32\n",
        "hidden_channels = 128\n",
        "batch_size = 8\n",
        "pool_size = 64\n",
        "simulation_steps = 32\n",
        "pool_reinit_size = 1\n",
        "layer1_w_init_zero = True\n",
        "nca = NCA(\n",
        "    layer1_w_init_zero=layer1_w_init_zero,\n",
        "    mlp_hidden=hidden_channels, \n",
        "    update_pct=.5,\n",
        "    channels=channels,\n",
        "    alive_threshold=.1\n",
        ")\n",
        "learning_rate = 1e-3\n",
        "initial_state_grid = init_state_grid(height, width, channels)\n",
        "rng, r = random.split(rng)\n",
        "update_weights = nca.init(r, initial_state_grid)\n",
        "optimizer = optax.adam(learning_rate=learning_rate)\n",
        "optimizer_state = optimizer.init(update_weights)\n",
        "state_grid_pool = jnp.repeat(jnp.expand_dims(initial_state_grid, 0), pool_size, axis=0)\n",
        "losses = []"
      ],
      "metadata": {
        "id": "FbNH6coxrfBT"
      },
      "execution_count": 7,
      "outputs": []
    },
    {
      "cell_type": "code",
      "source": [
        "start = time.time()\n",
        "for i in range(1, 10_000):\n",
        "    if i % 500 == 0:\n",
        "        rng, r = random.split(rng)\n",
        "        final_state_grid = simulate(\n",
        "            rng=r, \n",
        "            model=nca, \n",
        "            state_grid=initial_state_grid, \n",
        "            update_weights=update_weights, \n",
        "            simulation_steps=128,\n",
        "            return_steps=False)\n",
        "        loss = image_loss(final_state_grid, target_image)\n",
        "        print(i, loss, time.time() - start)\n",
        "        start = time.time()\n",
        "    \n",
        "    rng, r = random.split(rng)\n",
        "    state_grid_batch_i, state_grid_batch = sample_pool(r, state_grid_pool, batch_size=batch_size)\n",
        "    rng, r = random.split(rng)\n",
        "    grads, (loss, updated_state_grid_batch) = grads_and_updated_state_grid_batch(\n",
        "        update_weights, \n",
        "        rng=r, \n",
        "        state_grid_batch=state_grid_batch, \n",
        "        model=nca, \n",
        "        simulation_steps=simulation_steps, \n",
        "        target_image=target_image)\n",
        "    losses.append(loss)\n",
        "    rng, r = random.split(rng)\n",
        "    state_grid_pool = update_pool(\n",
        "        rng=r,\n",
        "        pool=state_grid_pool,\n",
        "        pool_updates=updated_state_grid_batch,\n",
        "        pool_updates_idx=state_grid_batch_i,\n",
        "        pool_reinit_size=pool_reinit_size,\n",
        "        pool_init=initial_state_grid\n",
        "    )\n",
        "    update_weights, optimizer_state = update(\n",
        "        grads=grads, \n",
        "        update_weights=update_weights, \n",
        "        optimizer=optimizer, \n",
        "        optimizer_state=optimizer_state)"
      ],
      "metadata": {
        "colab": {
          "base_uri": "https://localhost:8080/"
        },
        "id": "n6Ag7KlJr0Xq",
        "outputId": "19aefca7-384b-4523-c9a3-7f0bab15f1b8"
      },
      "execution_count": 12,
      "outputs": [
        {
          "output_type": "stream",
          "name": "stdout",
          "text": [
            "500 0.032287084 4.956733465194702\n",
            "1000 0.012848981 4.902171611785889\n",
            "1500 0.006026519 4.881453037261963\n",
            "2000 0.004757544 4.887971639633179\n",
            "2500 0.008419915 4.876449823379517\n",
            "3000 0.0071788277 4.884044408798218\n",
            "3500 0.0020591908 4.888613224029541\n",
            "4000 0.003043303 4.897636890411377\n",
            "4500 0.0056821513 4.886888027191162\n",
            "5000 0.01145497 4.893040418624878\n",
            "5500 0.008810077 4.897293567657471\n",
            "6000 0.0072599957 4.894414901733398\n",
            "6500 0.004113801 4.884939670562744\n",
            "7000 0.0043856725 4.897599458694458\n",
            "7500 0.0043638153 4.898814916610718\n",
            "8000 0.0012567558 4.888339519500732\n",
            "8500 0.0065689376 4.8916404247283936\n",
            "9000 0.001998934 4.890454530715942\n",
            "9500 0.008861136 4.878925085067749\n"
          ]
        }
      ]
    },
    {
      "cell_type": "code",
      "source": [
        " plt.yscale('log') \n",
        "plt.plot(losses)"
      ],
      "metadata": {
        "colab": {
          "base_uri": "https://localhost:8080/",
          "height": 283
        },
        "id": "rNc2uZL5r2MN",
        "outputId": "3986889a-c1fb-48eb-93ff-f0bda7cfda28"
      },
      "execution_count": 9,
      "outputs": [
        {
          "output_type": "execute_result",
          "data": {
            "text/plain": [
              "[<matplotlib.lines.Line2D at 0x7f00305412e0>]"
            ]
          },
          "metadata": {},
          "execution_count": 9
        },
        {
          "output_type": "display_data",
          "data": {
            "text/plain": [
              "<Figure size 432x288 with 1 Axes>"
            ],
            "image/png": "[encoded data removed]"
          },
          "metadata": {
            "needs_background": "light"
          }
        }
      ]
    },
    {
      "cell_type": "code",
      "source": [
        "rng, r = random.split(rng)\n",
        "final_state_grid, state_grid_steps = simulate(\n",
        "            rng=r, \n",
        "            model=nca, \n",
        "            state_grid=initial_state_grid,\n",
        "            update_weights=update_weights, \n",
        "            simulation_steps=128,\n",
        "            return_steps=True)\n",
        "display_simulation(state_grid_steps, target_image)"
      ],
      "metadata": {
        "colab": {
          "base_uri": "https://localhost:8080/",
          "height": 277
        },
        "id": "DsNQvmh9sRux",
        "outputId": "63ea13d7-8d5d-4f52-c77b-c0238cdb17cb"
      },
      "execution_count": 11,
      "outputs": [
        {
          "output_type": "display_data",
          "data": {
            "text/plain": [
              "<moviepy.video.io.html_tools.HTML2 object>"
            ],
            "text/html": [
              "<div align=middle><video src='data:video/mp4;base64,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' controls>Sorry, seems like your browser doesn't support HTML5 audio/video</video></div>"
            ]
          },
          "metadata": {}
        }
      ]
    }
  ]
}