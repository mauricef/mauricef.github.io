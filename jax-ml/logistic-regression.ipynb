{
  "nbformat": 4,
  "nbformat_minor": 5,
  "metadata": {
    "kernelspec": {
      "display_name": "Python 3",
      "language": "python",
      "name": "python3"
    },
    "language_info": {
      "name": "python",
      "version": ""
    },
    "colab": {
      "name": "logistic-regression.ipynb",
      "provenance": []
    }
  },
  "cells": [
    {
      "cell_type": "markdown",
      "metadata": {
        "id": "Lp6O4mMIdv-c"
      },
      "source": [
        "# Logistic Regression"
      ],
      "id": "Lp6O4mMIdv-c"
    },
    {
      "cell_type": "code",
      "metadata": {
        "id": "Ss2nq2DQdzEd"
      },
      "source": [
        "%pip install \\\n",
        "    git+https://github.com/deepmind/dm-haiku@v0.0.4 \\\n",
        "    git+https://github.com/deepmind/optax@v0.0.9"
      ],
      "id": "Ss2nq2DQdzEd",
      "execution_count": null,
      "outputs": []
    },
    {
      "cell_type": "code",
      "metadata": {
        "id": "AnMJ6DBMdv-e"
      },
      "source": [
        "import haiku as hk\n",
        "\n",
        "from jax import jit, partial, vmap, grad\n",
        "from jax import random\n",
        "import jax.lax as lax\n",
        "import jax.nn as nn\n",
        "import jax.numpy as np\n",
        "from jax.scipy.special import logit\n",
        "\n",
        "import optax"
      ],
      "id": "AnMJ6DBMdv-e",
      "execution_count": 2,
      "outputs": []
    },
    {
      "cell_type": "code",
      "metadata": {
        "id": "vvdI8itfdv-f"
      },
      "source": [
        "@hk.without_apply_rng\n",
        "@hk.transform\n",
        "def model(x):\n",
        "    linear = hk.Linear(output_size=1)\n",
        "    return linear(x)"
      ],
      "id": "vvdI8itfdv-f",
      "execution_count": 3,
      "outputs": []
    },
    {
      "cell_type": "code",
      "metadata": {
        "id": "I_zEKtYQdv-g",
        "outputId": "04f90ee2-2042-4a78-fff4-1c6cba5bac3b",
        "colab": {
          "base_uri": "https://localhost:8080/"
        }
      },
      "source": [
        "rng = random.PRNGKey(42)"
      ],
      "id": "I_zEKtYQdv-g",
      "execution_count": 4,
      "outputs": [
        {
          "output_type": "stream",
          "text": [
            "WARNING:absl:No GPU/TPU found, falling back to CPU. (Set TF_CPP_MIN_LOG_LEVEL=0 and rerun for more info.)\n"
          ],
          "name": "stderr"
        }
      ]
    },
    {
      "cell_type": "code",
      "metadata": {
        "id": "aYgnQ6-Bdv-h"
      },
      "source": [
        "x_shape = (10,)\n",
        "rng, r = random.split(rng)\n",
        "generating_model_state = model.init(r, np.zeros(x_shape))\n",
        "rng, r = random.split(rng)\n",
        "x = random.normal(r, (1000,) + x_shape)\n",
        "y = vmap(partial(model.apply, generating_model_state))(x)\n",
        "y = np.array(y >= 0., float)\n",
        "\n",
        "@jit\n",
        "def loss_fn(model_state):\n",
        "    model_predictions_logits = vmap(partial(model.apply, model_state))(x)\n",
        "    loss = optax.sigmoid_binary_cross_entropy(model_predictions_logits, y)\n",
        "    loss = np.mean(loss)\n",
        "    return loss\n",
        "\n",
        "@jit\n",
        "def accuracy(model_state):\n",
        "    model_predictions_logits = vmap(partial(model.apply, model_state))(x)\n",
        "    yp = np.array(model_predictions_logits >= 0., float)\n",
        "    return np.mean(y == yp)"
      ],
      "id": "aYgnQ6-Bdv-h",
      "execution_count": 5,
      "outputs": []
    },
    {
      "cell_type": "code",
      "metadata": {
        "id": "U-F7zPusdv-i"
      },
      "source": [
        "steps = 50\n",
        "start_learning_rate = 1e-2\n",
        "optimizer = optax.adamw(start_learning_rate, weight_decay=1e-2)\n",
        "\n",
        "@jit\n",
        "def train(model_state, optimizer_state):\n",
        "    def train_step(i, train_state):\n",
        "        model_state, optimizer_state = train_state\n",
        "        loss_grads = grad(loss_fn)(model_state)\n",
        "        model_updates, optimizer_state = optimizer.update(loss_grads, optimizer_state, model_state)\n",
        "        model_state = optax.apply_updates(model_state, model_updates)\n",
        "        return model_state, optimizer_state\n",
        "\n",
        "    initial_train_state = model_state, optimizer_state\n",
        "    return lax.fori_loop(0, steps, train_step, initial_train_state)"
      ],
      "id": "U-F7zPusdv-i",
      "execution_count": 6,
      "outputs": []
    },
    {
      "cell_type": "code",
      "metadata": {
        "id": "V85NwVKGdv-i"
      },
      "source": [
        "rng, r = random.split(rng)\n",
        "inferred_model_state = model.init(r, np.zeros(x.shape[1:]))\n",
        "optimizer_state = optimizer.init(inferred_model_state)"
      ],
      "id": "V85NwVKGdv-i",
      "execution_count": 7,
      "outputs": []
    },
    {
      "cell_type": "code",
      "metadata": {
        "id": "XYFTjPENdv-j",
        "outputId": "e7fa67f7-5328-4bef-900b-83f176bc9005",
        "colab": {
          "base_uri": "https://localhost:8080/"
        }
      },
      "source": [
        "for i in range(10):\n",
        "    print(accuracy(inferred_model_state))\n",
        "    inferred_model_state, optimizer_state = train(inferred_model_state, optimizer_state)\n",
        "print(accuracy(inferred_model_state))"
      ],
      "id": "XYFTjPENdv-j",
      "execution_count": 8,
      "outputs": [
        {
          "output_type": "stream",
          "text": [
            "0.518\n",
            "0.77900004\n",
            "0.87700003\n",
            "0.91700006\n",
            "0.94200003\n",
            "0.95500004\n",
            "0.961\n",
            "0.97\n",
            "0.97200006\n",
            "0.9760001\n",
            "0.97800004\n"
          ],
          "name": "stdout"
        }
      ]
    }
  ]
}