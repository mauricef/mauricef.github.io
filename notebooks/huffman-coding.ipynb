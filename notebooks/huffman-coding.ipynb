{
 "cells": [
  {
   "cell_type": "code",
   "execution_count": 1,
   "metadata": {},
   "outputs": [],
   "source": [
    "from collections import Counter\n",
    "from itertools import product\n",
    "import math\n",
    "\n",
    "import heapq\n",
    "import matplotlib.pyplot as plt\n",
    "import graphviz as gv\n",
    "import numpy as np\n",
    "import pandas as pd\n",
    "import ipywidgets as widgets\n",
    "from IPython.display import HTML\n",
    "\n",
    "from matplotlib import rcParams\n",
    "rcParams['font.family'] = 'monospace'\n",
    "np.random.seed(1)"
   ]
  },
  {
   "cell_type": "markdown",
   "metadata": {},
   "source": [
    "# Huffman Coding\n",
    "This notebook implements Huffman Coding and measures the compression rate versus information entropy."
   ]
  },
  {
   "cell_type": "markdown",
   "metadata": {},
   "source": [
    "## Generate our string of `h` and `t` from an unfair coin."
   ]
  },
  {
   "cell_type": "code",
   "execution_count": 2,
   "metadata": {},
   "outputs": [],
   "source": [
    "PHEADS = .8\n",
    "NUMFLIPS = 2048\n",
    "BLOCK_SIZE = 4"
   ]
  },
  {
   "cell_type": "code",
   "execution_count": 3,
   "metadata": {},
   "outputs": [
    {
     "data": {
      "text/plain": [
       "'hhthttthhhhhhhthhhtthhhhhhttththhhhhhhthhhhhthhhhtthhhhththhthhhthhhhhhtthhthhhhhhhhhhhhhhthhhhhhhthhhhhhhthhhtthhthhhhtttthhhhhthhhhthhhhhhhttttthhhtthhhhhthhhhhhhttthhhhhhhhhhhthhhhthhthhhhthhhhthhhhhhhhhhhhhhhttththhtththhhhhhhhhhhhhthhhhhhthhthhhthhhhhhhhhhhhhhhhhhhhhhhhhthhhhhhhhhhhhhhhhhhthththhhhthhhhhhhhtthhhhhhhhthhthhhthhhhthhhhhhhhthhhhthhhhhhhhhhhthhhhhhhthtththhhhthhhhhhhhthhhhthhhhhhhhthhhhhththhhhhhhhhtttthtthhhhhhhhhhththththhhhttthhhhhhhhtththhhhhhhhhhhhthhthhhhhhhhthhhhhhhhhhhhthhthhhthhhhthhhhthhhhhhhttthhhthhhhhhthhhhhtthhhhhhhhthhhhtthhthhhhhthhhhhhhhhhhthhhhhhhhhhhhhtthtthhthhhhhhhhhhhththhhththhhhhhhhhhhhththhthhhhththhhthththththhthhhhththhhhhhhthhhhhhhhhhhhthhhthhhhhthhhhhhhhhhhhhhhhhhthhhhhhhthhhthhhhhhhththhthhhhhhthhhhhhhhthhttthhhhhhhhhththhhhhhhhhhhhhhhhhhhhhhhthhhhhhhhthhhhththhhhhhhhhthhhhtthhthhhthhhhhhthhhhhthhhhthhhhhhhhhthtththththhhthhhhhthhhhhhhhhhhhhhthhhhthththhhhhhhhththhhhhhhththhhthhhtthhthhhthhhtttthhhhhhhhtthhhhhhhhhhhhhhtthhhhhthhhhhhhhhhhhhhhhhhththhhhhttththhhhhhthhhhththhththhthhhhhhhhhhhhthhhhhhhtthhhhhhhthhhhhhhhhhhhthhhtthhhhhhhthhhththhhhhhhhthhththhththhhhhhhhhhhhhthhhhthhhhhhhhthhhhthhhhhhtththhhhthhtthhhhhhhhhhhhhhhhhththhhthhhhhhthhhhhhtththhhhthhhhhhhhththhhtthhhththhhhhhhhhhhhhhhhhtthhhhhhhthhhhhhhththhhhthhhtthhhhhhhhhhthhhhhhhhhhhthhhhhhhhhhhththhhthhthhhhhhhhhhhhhhhhhthhthhhthhhhthhhhhhhhtttththhhhhhhhthhthhhhhhhhhhhhhhhhhhhtthhhhthhhttththhhhhhhthhhhhhthhhhhhthhhhthttthhhhhthhhthhtththhhhhhhhhhhthhhthhhhhththhhhhhthhhthhhhhhhhthhtthhhhhhhhtththhhhthhtththtthhhhthhhhhhhhhhhhhhhhthhhhhtthhhhhtthhthhthhhhhhhhhhhhhhthhhthhhtthhhththhhhhhhhhhthhhhhthhhthhhhthhhhhhhhhhhhhthhhhhhhhhhhhhhhhhhhhhhhhttttththhhhhthhhhhhhhhhhthhhhhhhhhthhhhhhthhhhhthhhhhhhhhhhthhhhhthhhhhhhhhhtttthhthhhththhhhthhhhhhhhhhhhhhhhhhhhhthhhhhhhhhhthhhhhhhhhhhhhhhhththhhhhhhththhhhhhhhhhhhhthhthhhtththhththhhhhhhhhhhhthhhhhhhhhhhhhhthththhhthhhhhhhtttthhhthhhhhhhhhththhhhhhhhhhhhhthhhhthhhthhhhhhhhhhhhhhhhhhhttthththhhthhhhhhhhthhhhhhththhhhhhhhthhhhhhtthhhthhhhhhhhhthhhhhhhhthhhhhtthh'"
      ]
     },
     "execution_count": 3,
     "metadata": {},
     "output_type": "execute_result"
    }
   ],
   "source": [
    "message = np.random.choice(['t', 'h'], NUMFLIPS, p=[1-PHEADS, PHEADS])\n",
    "message = ''.join(map(str, message))\n",
    "message"
   ]
  },
  {
   "cell_type": "markdown",
   "metadata": {},
   "source": [
    "## Generate symbols for given block size\n",
    "Create a distribution for different symbols given our BLOCK_SIZE"
   ]
  },
  {
   "cell_type": "code",
   "execution_count": 4,
   "metadata": {},
   "outputs": [
    {
     "data": {
      "image/png": "[encoded data removed]",
      "text/plain": [
       "<Figure size 432x288 with 1 Axes>"
      ]
     },
     "metadata": {
      "needs_background": "light"
     },
     "output_type": "display_data"
    }
   ],
   "source": [
    "def symbol_probability(symbol):\n",
    "    frequencies = Counter(symbol)\n",
    "    num_heads = frequencies.get('h', 0)\n",
    "    num_tails = frequencies.get('t', 0)\n",
    "    return PHEADS ** num_heads * (1-PHEADS) ** num_tails\n",
    "\n",
    "symbols = [''.join(symbols) for symbols in product(*[['h', 't']]*BLOCK_SIZE)]\n",
    "distribution = {symbol: symbol_probability(symbol) for symbol in symbols}\n",
    "\n",
    "symbols, probabilities = list(zip(*sorted(distribution.items(), key=lambda item:item[1])))\n",
    "plt.barh(range(0, len(symbols)), probabilities, tick_label=symbols)\n",
    "plt.title('Symbol Probability Distribution')\n",
    "plt.xlabel('Probability')\n",
    "plt.ylabel('Symbols')\n",
    "plt.show()"
   ]
  },
  {
   "cell_type": "markdown",
   "metadata": {},
   "source": [
    "## Huffman Coding\n",
    "Implement Huffman Coding to map symbols to binary encoding given their probability."
   ]
  },
  {
   "cell_type": "code",
   "execution_count": 5,
   "metadata": {},
   "outputs": [],
   "source": [
    "heap = [(probability, [[symbol, '']]) for symbol, probability in distribution.items()]\n",
    "heapq.heapify(heap)\n",
    "while len(heap) > 1:\n",
    "    (lprob, lnode) = heapq.heappop(heap)\n",
    "    (rprob, rnode) = heapq.heappop(heap)\n",
    "    lnode = [[symbol, '0'+path] for symbol, path in lnode]\n",
    "    rnode = [[symbol, '1'+path] for symbol, path in rnode]\n",
    "    combined = (lprob + rprob, lnode + rnode)\n",
    "    heapq.heappush(heap, combined)\n",
    "encoding = dict(heap[0][1])"
   ]
  },
  {
   "cell_type": "code",
   "execution_count": 6,
   "metadata": {
    "scrolled": false
   },
   "outputs": [
    {
     "data": {
      "text/html": [
       "<style  type=\"text/css\" >\n",
       "</style><table id=\"T_54596d82_3088_11e9_abe8_6a000398e210\" ><thead>    <tr>        <th class=\"blank level0\" ></th>        <th class=\"col_heading level0 col0\" >Probability</th>        <th class=\"col_heading level0 col1\" >Encoding</th>    </tr>    <tr>        <th class=\"index_name level0\" >Symbol</th>        <th class=\"blank\" ></th>        <th class=\"blank\" ></th>    </tr></thead><tbody>\n",
       "                <tr>\n",
       "                        <th id=\"T_54596d82_3088_11e9_abe8_6a000398e210level0_row0\" class=\"row_heading level0 row0\" >hhhh</th>\n",
       "                        <td id=\"T_54596d82_3088_11e9_abe8_6a000398e210row0_col0\" class=\"data row0 col0\" >40.96%</td>\n",
       "                        <td id=\"T_54596d82_3088_11e9_abe8_6a000398e210row0_col1\" class=\"data row0 col1\" >0</td>\n",
       "            </tr>\n",
       "            <tr>\n",
       "                        <th id=\"T_54596d82_3088_11e9_abe8_6a000398e210level0_row1\" class=\"row_heading level0 row1\" >hthh</th>\n",
       "                        <td id=\"T_54596d82_3088_11e9_abe8_6a000398e210row1_col0\" class=\"data row1 col0\" >10.24%</td>\n",
       "                        <td id=\"T_54596d82_3088_11e9_abe8_6a000398e210row1_col1\" class=\"data row1 col1\" >100</td>\n",
       "            </tr>\n",
       "            <tr>\n",
       "                        <th id=\"T_54596d82_3088_11e9_abe8_6a000398e210level0_row2\" class=\"row_heading level0 row2\" >thhh</th>\n",
       "                        <td id=\"T_54596d82_3088_11e9_abe8_6a000398e210row2_col0\" class=\"data row2 col0\" >10.24%</td>\n",
       "                        <td id=\"T_54596d82_3088_11e9_abe8_6a000398e210row2_col1\" class=\"data row2 col1\" >101</td>\n",
       "            </tr>\n",
       "            <tr>\n",
       "                        <th id=\"T_54596d82_3088_11e9_abe8_6a000398e210level0_row3\" class=\"row_heading level0 row3\" >hhht</th>\n",
       "                        <td id=\"T_54596d82_3088_11e9_abe8_6a000398e210row3_col0\" class=\"data row3 col0\" >10.24%</td>\n",
       "                        <td id=\"T_54596d82_3088_11e9_abe8_6a000398e210row3_col1\" class=\"data row3 col1\" >1110</td>\n",
       "            </tr>\n",
       "            <tr>\n",
       "                        <th id=\"T_54596d82_3088_11e9_abe8_6a000398e210level0_row4\" class=\"row_heading level0 row4\" >hhth</th>\n",
       "                        <td id=\"T_54596d82_3088_11e9_abe8_6a000398e210row4_col0\" class=\"data row4 col0\" >10.24%</td>\n",
       "                        <td id=\"T_54596d82_3088_11e9_abe8_6a000398e210row4_col1\" class=\"data row4 col1\" >1111</td>\n",
       "            </tr>\n",
       "            <tr>\n",
       "                        <th id=\"T_54596d82_3088_11e9_abe8_6a000398e210level0_row5\" class=\"row_heading level0 row5\" >hhtt</th>\n",
       "                        <td id=\"T_54596d82_3088_11e9_abe8_6a000398e210row5_col0\" class=\"data row5 col0\" >2.56%</td>\n",
       "                        <td id=\"T_54596d82_3088_11e9_abe8_6a000398e210row5_col1\" class=\"data row5 col1\" >110010</td>\n",
       "            </tr>\n",
       "            <tr>\n",
       "                        <th id=\"T_54596d82_3088_11e9_abe8_6a000398e210level0_row6\" class=\"row_heading level0 row6\" >htht</th>\n",
       "                        <td id=\"T_54596d82_3088_11e9_abe8_6a000398e210row6_col0\" class=\"data row6 col0\" >2.56%</td>\n",
       "                        <td id=\"T_54596d82_3088_11e9_abe8_6a000398e210row6_col1\" class=\"data row6 col1\" >110011</td>\n",
       "            </tr>\n",
       "            <tr>\n",
       "                        <th id=\"T_54596d82_3088_11e9_abe8_6a000398e210level0_row7\" class=\"row_heading level0 row7\" >htth</th>\n",
       "                        <td id=\"T_54596d82_3088_11e9_abe8_6a000398e210row7_col0\" class=\"data row7 col0\" >2.56%</td>\n",
       "                        <td id=\"T_54596d82_3088_11e9_abe8_6a000398e210row7_col1\" class=\"data row7 col1\" >110100</td>\n",
       "            </tr>\n",
       "            <tr>\n",
       "                        <th id=\"T_54596d82_3088_11e9_abe8_6a000398e210level0_row8\" class=\"row_heading level0 row8\" >thht</th>\n",
       "                        <td id=\"T_54596d82_3088_11e9_abe8_6a000398e210row8_col0\" class=\"data row8 col0\" >2.56%</td>\n",
       "                        <td id=\"T_54596d82_3088_11e9_abe8_6a000398e210row8_col1\" class=\"data row8 col1\" >110101</td>\n",
       "            </tr>\n",
       "            <tr>\n",
       "                        <th id=\"T_54596d82_3088_11e9_abe8_6a000398e210level0_row9\" class=\"row_heading level0 row9\" >thth</th>\n",
       "                        <td id=\"T_54596d82_3088_11e9_abe8_6a000398e210row9_col0\" class=\"data row9 col0\" >2.56%</td>\n",
       "                        <td id=\"T_54596d82_3088_11e9_abe8_6a000398e210row9_col1\" class=\"data row9 col1\" >110110</td>\n",
       "            </tr>\n",
       "            <tr>\n",
       "                        <th id=\"T_54596d82_3088_11e9_abe8_6a000398e210level0_row10\" class=\"row_heading level0 row10\" >tthh</th>\n",
       "                        <td id=\"T_54596d82_3088_11e9_abe8_6a000398e210row10_col0\" class=\"data row10 col0\" >2.56%</td>\n",
       "                        <td id=\"T_54596d82_3088_11e9_abe8_6a000398e210row10_col1\" class=\"data row10 col1\" >110111</td>\n",
       "            </tr>\n",
       "            <tr>\n",
       "                        <th id=\"T_54596d82_3088_11e9_abe8_6a000398e210level0_row11\" class=\"row_heading level0 row11\" >thtt</th>\n",
       "                        <td id=\"T_54596d82_3088_11e9_abe8_6a000398e210row11_col0\" class=\"data row11 col0\" >0.64%</td>\n",
       "                        <td id=\"T_54596d82_3088_11e9_abe8_6a000398e210row11_col1\" class=\"data row11 col1\" >1100000</td>\n",
       "            </tr>\n",
       "            <tr>\n",
       "                        <th id=\"T_54596d82_3088_11e9_abe8_6a000398e210level0_row12\" class=\"row_heading level0 row12\" >ttht</th>\n",
       "                        <td id=\"T_54596d82_3088_11e9_abe8_6a000398e210row12_col0\" class=\"data row12 col0\" >0.64%</td>\n",
       "                        <td id=\"T_54596d82_3088_11e9_abe8_6a000398e210row12_col1\" class=\"data row12 col1\" >1100001</td>\n",
       "            </tr>\n",
       "            <tr>\n",
       "                        <th id=\"T_54596d82_3088_11e9_abe8_6a000398e210level0_row13\" class=\"row_heading level0 row13\" >ttth</th>\n",
       "                        <td id=\"T_54596d82_3088_11e9_abe8_6a000398e210row13_col0\" class=\"data row13 col0\" >0.64%</td>\n",
       "                        <td id=\"T_54596d82_3088_11e9_abe8_6a000398e210row13_col1\" class=\"data row13 col1\" >1100010</td>\n",
       "            </tr>\n",
       "            <tr>\n",
       "                        <th id=\"T_54596d82_3088_11e9_abe8_6a000398e210level0_row14\" class=\"row_heading level0 row14\" >httt</th>\n",
       "                        <td id=\"T_54596d82_3088_11e9_abe8_6a000398e210row14_col0\" class=\"data row14 col0\" >0.64%</td>\n",
       "                        <td id=\"T_54596d82_3088_11e9_abe8_6a000398e210row14_col1\" class=\"data row14 col1\" >11000111</td>\n",
       "            </tr>\n",
       "            <tr>\n",
       "                        <th id=\"T_54596d82_3088_11e9_abe8_6a000398e210level0_row15\" class=\"row_heading level0 row15\" >tttt</th>\n",
       "                        <td id=\"T_54596d82_3088_11e9_abe8_6a000398e210row15_col0\" class=\"data row15 col0\" >0.16%</td>\n",
       "                        <td id=\"T_54596d82_3088_11e9_abe8_6a000398e210row15_col1\" class=\"data row15 col1\" >11000110</td>\n",
       "            </tr>\n",
       "    </tbody></table>"
      ],
      "text/plain": [
       "<pandas.io.formats.style.Styler at 0x11ab68940>"
      ]
     },
     "execution_count": 6,
     "metadata": {},
     "output_type": "execute_result"
    }
   ],
   "source": [
    "symbols = list(encoding.keys())\n",
    "encodings = [encoding[symbol] for symbol in symbols]\n",
    "probabilities = [distribution[symbol] for symbol in symbols]\n",
    "df = pd.DataFrame({\n",
    "    'Probability': probabilities, \n",
    "    'Encoding': encodings,\n",
    "}, index=pd.Series(symbols, name='Symbol'))\n",
    "df = df.sort_values('Probability', ascending=False)\n",
    "df.style.format({'Probability': '{:.2%}'.format})"
   ]
  },
  {
   "cell_type": "markdown",
   "metadata": {},
   "source": [
    "## Encode our message\n",
    "Use the encoding to compress our message"
   ]
  },
  {
   "cell_type": "code",
   "execution_count": 7,
   "metadata": {},
   "outputs": [
    {
     "data": {
      "text/plain": [
       "'11111100010011111100100110010110110011110101110100111010010110111101101010001111011110111111001011111110110001001011000110001111101111101000101011000100011111110111111100101000110001011010111011000010111101111111100000010100011101100110101011010001110111111111110001011000010001100111101101110001011000111101101100011000110110100001100111100110110001001110110110001110111101110000110101111001011000110001111110011110110111011111110110101010000100001110110000011110011111011101100011101001011100111110110011110011111111101000100001111111101010001110011101110011101001011110001101011101110111010000000100011111110100011100110111101101111001001111001100000110011100100111000011111110110011001101100111110110111011110110111000110001101110001101111110000011111011100101101100100111111010110010100100011010001111001110111010101011101100111011111101011000011100101010011110110100101100110111000111010010001011110110110111000110110110010111010000011101010101011011011101110101011100011100011101001001010001111100100111101110110001010101001010000110111111111001011011001111010001011100111101111110111011001010000100100111010001011010100110111011001010011111101001100000010100010011101011100101111100000101101110111110011001111010110110000111000000011000110110110010100101011110100111000111001000011000110111111111011000000111000111100011101000110011000100101110000111111010010000011011010110101100011011100011001100010011111111000011001011011010110101000110110011100110010111000100011110110111'"
      ]
     },
     "execution_count": 7,
     "metadata": {},
     "output_type": "execute_result"
    }
   ],
   "source": [
    "blocks = [message[offset:offset+BLOCK_SIZE] for offset in range(0, len(message), BLOCK_SIZE)]\n",
    "encoded_blocks = [encoding[block] for block in blocks]\n",
    "''.join(encoded_blocks)"
   ]
  },
  {
   "cell_type": "markdown",
   "metadata": {},
   "source": [
    "## Measure the compression efficiency\n",
    "Calculate how well Huffman Encoding compressed the message versus the theoretical maximum compressed length\n",
    "calculated using information entropy"
   ]
  },
  {
   "cell_type": "code",
   "execution_count": 8,
   "metadata": {},
   "outputs": [
    {
     "data": {
      "text/plain": [
       "0.9959568733153639"
      ]
     },
     "execution_count": 8,
     "metadata": {},
     "output_type": "execute_result"
    }
   ],
   "source": [
    "entropy = PHEADS * np.log2(1/PHEADS) + (1-PHEADS) * np.log2(1/(1-PHEADS))\n",
    "compressed_entropy = int(len(message) * entropy)\n",
    "compressed_actual = len(''.join(encoded_blocks))\n",
    "efficiency = compressed_entropy / compressed_actual\n",
    "efficiency"
   ]
  }
 ],
 "metadata": {
  "kernelspec": {
   "display_name": "Python 3",
   "language": "python",
   "name": "python3"
  },
  "language_info": {
   "codemirror_mode": {
    "name": "ipython",
    "version": 3
   },
   "file_extension": ".py",
   "mimetype": "text/x-python",
   "name": "python",
   "nbconvert_exporter": "python",
   "pygments_lexer": "ipython3",
   "version": "3.6.8"
  }
 },
 "nbformat": 4,
 "nbformat_minor": 2
}
