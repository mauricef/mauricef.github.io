{
  "nbformat": 4,
  "nbformat_minor": 0,
  "metadata": {
    "colab": {
      "name": "2022-08-10.ipynb",
      "provenance": [],
      "collapsed_sections": [],
      "toc_visible": true,
      "authorship_tag": "ABX9TyOvRA/yJvDh0oYzhBwx8WFP",
      "include_colab_link": true
    },
    "kernelspec": {
      "name": "python3",
      "display_name": "Python 3"
    },
    "language_info": {
      "name": "python"
    },
    "gpuClass": "standard"
  },
  "cells": [
    {
      "cell_type": "markdown",
      "metadata": {
        "id": "view-in-github",
        "colab_type": "text"
      },
      "source": [
        "<a href=\"https://colab.research.google.com/github/mauricef/mauricef.github.io/blob/main/notebooks/2022-08-10.ipynb\" target=\"_parent\"><img src=\"https://colab.research.google.com/assets/colab-badge.svg\" alt=\"Open In Colab\"/></a>"
      ]
    },
    {
      "cell_type": "markdown",
      "source": [
        "#### imports"
      ],
      "metadata": {
        "id": "acZn97S29nXR"
      }
    },
    {
      "cell_type": "code",
      "source": [
        "from collections import namedtuple\n",
        "from functools import partial\n",
        "from itertools import permutations\n",
        "from tqdm import trange\n",
        "\n",
        "import jax\n",
        "from jax import nn\n",
        "from jax import lax\n",
        "from jax import random\n",
        "from jax import vmap\n",
        "import jax.numpy as jp\n",
        "\n",
        "import matplotlib.pyplot as plt\n",
        "from matplotlib.animation import FuncAnimation\n",
        "from matplotlib.collections import LineCollection\n",
        "from IPython import display\n",
        "\n",
        "rng = random.PRNGKey(42)"
      ],
      "metadata": {
        "id": "lJCfqlh-9jel"
      },
      "execution_count": null,
      "outputs": []
    },
    {
      "cell_type": "markdown",
      "source": [
        "# Sliced Optimal Transport\n",
        "\n",
        "In this post, I work through an implemplementation of [Sliced Optimal Transport](https://colab.research.google.com/github/znah/notebooks/blob/master/sliced_optimal_transport.ipynb#scrollTo=gjj4DpXUbuSk). I came across this in Alexander Mordvintsev's talk on [Fixing Neural CA Colors with Sliced Optimal Transport](https://www.youtube.com/watch?v=ZFYZFlY7lgI)."
      ],
      "metadata": {
        "id": "sv_zwlBsrRTp"
      }
    },
    {
      "cell_type": "markdown",
      "source": [
        "## Optimal Transport in 1D\n",
        "Let's start off with the case of optimal transport in one dimension and implement it as an optimization problem. The goal is to move the `points` to match the `targets` by moving each point by some amount. We are looking at the 1D case so each point is just a float value, I rendered the points on the left and the targets on the right to make the graph more readable. The `optimal` part of optimal transport is that we want the total amount of movement to be minimum. "
      ],
      "metadata": {
        "id": "yb6QU2Kj9Ej4"
      }
    },
    {
      "cell_type": "code",
      "source": [
        "npoints = 8\n",
        "rng, r = random.split(rng)\n",
        "points = random.normal(r, (npoints,))\n",
        "rng, r = random.split(rng)\n",
        "targets = random.normal(r, (npoints,)) * 2.\n",
        "plt.figure(figsize=(8,8))\n",
        "plt.plot(jp.zeros_like(points), points, '.', color='red')\n",
        "plt.plot(jp.ones_like(points), targets, '.', color='blue')\n",
        "plt.show()"
      ],
      "metadata": {
        "colab": {
          "base_uri": "https://localhost:8080/",
          "height": 483
        },
        "id": "2Y-5K6F79h4n",
        "outputId": "d7f24a0a-8281-4b19-bbbe-1fad3dacdfd6"
      },
      "execution_count": null,
      "outputs": [
        {
          "output_type": "display_data",
          "data": {
            "text/plain": [
              "<Figure size 576x576 with 1 Axes>"
            ],
            "image/png": "[encoded data removed]"
          },
          "metadata": {
            "needs_background": "light"
          }
        }
      ]
    },
    {
      "cell_type": "markdown",
      "source": [
        "What if we just take each point value and shift it to the corresponding target, pairing them in the random order they appear in our input vectors?"
      ],
      "metadata": {
        "id": "dUI7mJJRI6Rs"
      }
    },
    {
      "cell_type": "code",
      "source": [
        "delta = points - targets\n",
        "plt.figure(figsize=(8,8))\n",
        "plt.plot(jp.zeros_like(points), points, '.', color='red')\n",
        "plt.plot(jp.ones_like(points), targets, '.', color='blue')\n",
        "for i in range(npoints):\n",
        "    plt.plot([0, 1], [points[i], points[i] - delta[i]], color='grey', alpha=.25)\n",
        "plt.show()"
      ],
      "metadata": {
        "colab": {
          "base_uri": "https://localhost:8080/",
          "height": 483
        },
        "id": "RvW0lVQxKLgi",
        "outputId": "10623748-c1fe-4c82-c2ae-858a3d3d8d71"
      },
      "execution_count": null,
      "outputs": [
        {
          "output_type": "display_data",
          "data": {
            "text/plain": [
              "<Figure size 576x576 with 1 Axes>"
            ],
            "image/png": "[encoded data removed]"
          },
          "metadata": {
            "needs_background": "light"
          }
        }
      ]
    },
    {
      "cell_type": "markdown",
      "source": [
        "We can calculate the total transport cost by adding up the absolute value of the `delta`s."
      ],
      "metadata": {
        "id": "CT0d7hgtPW7t"
      }
    },
    {
      "cell_type": "code",
      "source": [
        "float(jp.sum(jp.abs(delta)))"
      ],
      "metadata": {
        "colab": {
          "base_uri": "https://localhost:8080/"
        },
        "id": "0qQEJmevPNgC",
        "outputId": "04025600-fa72-406c-b526-a65de7c750ed"
      },
      "execution_count": null,
      "outputs": [
        {
          "output_type": "execute_result",
          "data": {
            "text/plain": [
              "12.98681354522705"
            ]
          },
          "metadata": {},
          "execution_count": 296
        }
      ]
    },
    {
      "cell_type": "markdown",
      "source": [
        "Is this optimal? Does this achieve the minimum transport cost, the smallest number of delta offsets needed to turn `points` into `targets`? We just picked the arbitrary mapping between the `npoints` generated in the `points` and `targets` arrays, let's try all of the permutations of the points - note this is `factorial(npoints)` operations which is fine for small `npoints` but quickly explodes in computational cost."
      ],
      "metadata": {
        "id": "tLjdlr2dPZm2"
      }
    },
    {
      "cell_type": "code",
      "source": [
        "@jax.jit\n",
        "def comput_cost(index):\n",
        "    points_p = points[index]\n",
        "    delta = points_p - targets\n",
        "    cost = jp.sum(jp.abs(delta))\n",
        "    return cost"
      ],
      "metadata": {
        "id": "1p-x1GsIRQQ8"
      },
      "execution_count": null,
      "outputs": []
    },
    {
      "cell_type": "code",
      "source": [
        "costs = []\n",
        "indexes = []\n",
        "for index in permutations(range(npoints), npoints):\n",
        "    index = jp.array(index)\n",
        "    indexes.append(index)\n",
        "    cost = comput_cost(index)\n",
        "    costs.append(float(cost))"
      ],
      "metadata": {
        "id": "gNRhGMvLP-SN"
      },
      "execution_count": null,
      "outputs": []
    },
    {
      "cell_type": "code",
      "source": [
        "print(min(costs), max(costs))\n",
        "plt.hist(costs)\n",
        "plt.show()"
      ],
      "metadata": {
        "colab": {
          "base_uri": "https://localhost:8080/",
          "height": 283
        },
        "id": "LTTtMXRsRnrd",
        "outputId": "0e274beb-74b9-461e-8648-7d0703375295"
      },
      "execution_count": null,
      "outputs": [
        {
          "output_type": "stream",
          "name": "stdout",
          "text": [
            "7.37250280380249 19.60373878479004\n"
          ]
        },
        {
          "output_type": "display_data",
          "data": {
            "text/plain": [
              "<Figure size 432x288 with 1 Axes>"
            ],
            "image/png": "[encoded data removed]"
          },
          "metadata": {
            "needs_background": "light"
          }
        }
      ]
    },
    {
      "cell_type": "markdown",
      "source": [
        "We can see that our transport cost is somewhere in the middle, let's take a look at the strategy that results in an optimal transport in the 1d case."
      ],
      "metadata": {
        "id": "jmRoulwSSCsu"
      }
    },
    {
      "cell_type": "code",
      "source": [
        "argmin = jp.array(costs).argmin()\n",
        "strategy = jp.array(indexes[argmin])\n",
        "plt.figure(figsize=(8,8))\n",
        "plt.plot(jp.zeros_like(points), points, '.', color='red')\n",
        "plt.plot(jp.ones_like(points), targets, '.', color='blue')\n",
        "for i in range(npoints):\n",
        "    point = points[strategy[i]]\n",
        "    delta = point - targets[i]\n",
        "    plt.plot([0, 1], [point, point - delta], color='grey', alpha=.25)\n",
        "plt.show()"
      ],
      "metadata": {
        "colab": {
          "base_uri": "https://localhost:8080/",
          "height": 483
        },
        "id": "sH3-ysHLSeZi",
        "outputId": "ecc6015a-d563-48ec-a9d7-d0b18de82e6e"
      },
      "execution_count": null,
      "outputs": [
        {
          "output_type": "display_data",
          "data": {
            "text/plain": [
              "<Figure size 576x576 with 1 Axes>"
            ],
            "image/png": "[encoded data removed]"
          },
          "metadata": {
            "needs_background": "light"
          }
        }
      ]
    },
    {
      "cell_type": "markdown",
      "source": [
        "It turns out that if you sort the points and sort the targets and perform the transport using that mapping you will always get the lowest (or one of multiple equal lowest) transport costs. This is really nice because searching for the optimal transport using permutations is computationally intractible where as sorting is a relatively cheap operation."
      ],
      "metadata": {
        "id": "HL1P5ci-YOW3"
      }
    },
    {
      "cell_type": "code",
      "source": [
        "plt.figure(figsize=(8,8))\n",
        "plt.plot(jp.zeros_like(points), points, '.', color='red')\n",
        "plt.plot(jp.ones_like(points), targets, '.', color='blue')\n",
        "points_sorted = points.sort()\n",
        "targets_sorted = targets.sort()\n",
        "for i in range(npoints):\n",
        "    point = points_sorted[i]\n",
        "    delta = point - targets_sorted[i]\n",
        "    plt.plot([0, 1], [point, point - delta], color='grey', alpha=.25)\n",
        "plt.show()"
      ],
      "metadata": {
        "colab": {
          "base_uri": "https://localhost:8080/",
          "height": 483
        },
        "id": "7w4iGn9fU5hg",
        "outputId": "08926ad4-bb7c-4e5e-f78a-d2ac337b5719"
      },
      "execution_count": null,
      "outputs": [
        {
          "output_type": "display_data",
          "data": {
            "text/plain": [
              "<Figure size 576x576 with 1 Axes>"
            ],
            "image/png": "[encoded data removed]"
          },
          "metadata": {
            "needs_background": "light"
          }
        }
      ]
    },
    {
      "cell_type": "code",
      "source": [
        "float(jp.sum(jp.abs(points.sort() - targets.sort()))), costs[argmin]"
      ],
      "metadata": {
        "colab": {
          "base_uri": "https://localhost:8080/"
        },
        "id": "nuOWG8sbZQ8M",
        "outputId": "c174de16-cb1c-46d1-f58f-831d15de7e1f"
      },
      "execution_count": null,
      "outputs": [
        {
          "output_type": "execute_result",
          "data": {
            "text/plain": [
              "(7.37250280380249, 7.37250280380249)"
            ]
          },
          "metadata": {},
          "execution_count": 320
        }
      ]
    }
  ]
}