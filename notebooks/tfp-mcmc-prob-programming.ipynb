{
 "cells": [
  {
   "cell_type": "code",
   "execution_count": 1,
   "metadata": {},
   "outputs": [],
   "source": [
    "from ipywidgets import interact\n",
    "import matplotlib.pyplot as plt\n",
    "import numpy as np\n",
    "import tensorflow as tf\n",
    "import tensorflow_probability as tfp\n",
    "tfb = tfp.bijectors\n",
    "tfd = tfp.distributions\n",
    "\n",
    "import warnings\n",
    "warnings.filterwarnings(\"ignore\", category=DeprecationWarning) "
   ]
  },
  {
   "cell_type": "markdown",
   "metadata": {},
   "source": [
    "# Inferring a transition point in a timeseries\n",
    "This notebook is inspired by an example from Ch1 of [probabilistic programming for hackers](https://github.com/CamDavidsonPilon/Probabilistic-Programming-and-Bayesian-Methods-for-Hackers/blob/master/Chapter1_Introduction/Ch1_Introduction_TFP.ipynb)\n",
    "\n",
    "We generate a sequence of integers representing some count (for example, number of text messages sent per day). The count is modeled as a Poisson distribution. The rate (mean) of the distribution jumps from one value to another at a specific point in time `tswitch = 25`. We will use TensorFlow probability to learn the two rate's and the switch time."
   ]
  },
  {
   "cell_type": "code",
   "execution_count": 2,
   "metadata": {},
   "outputs": [],
   "source": [
    "TSTART, TEND = 0, 100\n",
    "RATE1, RATE2, TSWITCH = 20., 30., 25\n",
    "t = np.arange(TSTART, TEND)"
   ]
  },
  {
   "cell_type": "code",
   "execution_count": 3,
   "metadata": {},
   "outputs": [],
   "source": [
    "def generate(rate1, rate2, tswitch):\n",
    "    rate = tf.gather([rate1, rate2], tf.to_int32(t > tswitch))\n",
    "    return tfd.Poisson(rate=rate)"
   ]
  },
  {
   "cell_type": "code",
   "execution_count": 4,
   "metadata": {},
   "outputs": [],
   "source": [
    "with tf.Session() as sess:\n",
    "    y = sess.run(generate(RATE1, RATE2, TSWITCH).sample(5))"
   ]
  },
  {
   "cell_type": "code",
   "execution_count": 5,
   "metadata": {},
   "outputs": [
    {
     "data": {
      "image/png": "[encoded data removed]",
      "text/plain": [
       "<Figure size 1080x360 with 1 Axes>"
      ]
     },
     "metadata": {
      "needs_background": "light"
     },
     "output_type": "display_data"
    }
   ],
   "source": [
    "plt.figure(figsize=(15, 5))\n",
    "plt.bar(t, y[0], alpha=.4)\n",
    "plt.vlines(TSWITCH, ymin=0, ymax=max(y[0]), color='green')\n",
    "plt.hlines(RATE1, xmin=TSTART, xmax=TSWITCH, color='green')\n",
    "plt.hlines(RATE2, xmin=TSWITCH, xmax=TEND, color='green')\n",
    "plt.show()"
   ]
  },
  {
   "cell_type": "markdown",
   "metadata": {},
   "source": [
    "We will sample the distribution and learn the two rates and the switch time. We will make the following assumptions (priors):\n",
    "- tswitch is uniformly distributed between 0 and 100\n",
    "- rate1 and rate2 are exponentially distributed with rate equal to the mean value of y"
   ]
  },
  {
   "cell_type": "code",
   "execution_count": 6,
   "metadata": {},
   "outputs": [],
   "source": [
    "RATE_INIT = y.mean()\n",
    "TSWITCH_INIT = (TEND - TSTART) / 2.\n",
    "\n",
    "def log_prob_prior(rate1, rate2, tswitch):\n",
    "    rv_rate1 = tfd.Exponential(rate=RATE_INIT)\n",
    "    rv_rate2 = tfd.Exponential(rate=RATE_INIT)    \n",
    "    rv_tswitch = tfd.Uniform(low=TSTART, high=TEND)\n",
    "    return (\n",
    "        rv_rate1.log_prob(rate1) + \n",
    "        rv_rate2.log_prob(rate2) + \n",
    "        rv_tswitch.log_prob(tswitch)\n",
    "    )\n",
    "    \n",
    "def log_prob_data(rate1, rate2, tswitch):\n",
    "    rv_y = generate(rate1, rate2, tswitch)\n",
    "    return tf.reduce_sum(rv_y.log_prob(y))\n",
    "\n",
    "def log_prob(*args):\n",
    "    return log_prob_prior(*args) + log_prob_data(*args)"
   ]
  },
  {
   "cell_type": "markdown",
   "metadata": {},
   "source": [
    "Now we run MCMC to sample the posterior distribution. `log_prob_prior` can be thought of as a regularizer while `log_prob_data` is our training signal based on observations."
   ]
  },
  {
   "cell_type": "code",
   "execution_count": 7,
   "metadata": {
    "scrolled": false
   },
   "outputs": [],
   "source": [
    "with tf.variable_scope(tf.get_variable_scope(), reuse=tf.AUTO_REUSE):\n",
    "    step_size = tf.get_variable(\n",
    "        name='step_size',\n",
    "        initializer=tf.constant(.5),\n",
    "        trainable=False,\n",
    "        use_resource=True\n",
    "    )\n",
    "\n",
    "kernel = tfp.mcmc.HamiltonianMonteCarlo(\n",
    "    target_log_prob_fn=log_prob,\n",
    "    num_leapfrog_steps=2,\n",
    "    step_size=step_size,\n",
    "    step_size_update_fn=tfp.mcmc.make_simple_step_size_update_policy(),\n",
    "    state_gradients_are_stopped=True)\n",
    "\n",
    "kernel = tfp.mcmc.TransformedTransitionKernel(\n",
    "    inner_kernel=kernel,\n",
    "    bijector=[tfb.Exp(), tfb.Exp(), tfb.Exp()])\n",
    "\n",
    "results = tfp.mcmc.sample_chain(\n",
    "    num_burnin_steps=1000,\n",
    "    num_results=1000,\n",
    "    current_state=[RATE_INIT, RATE_INIT, TSWITCH_INIT],\n",
    "    kernel=kernel)\n",
    "\n",
    "with tf.Session() as sess:\n",
    "    sess.run(tf.global_variables_initializer())\n",
    "    sess.run(tf.local_variables_initializer())\n",
    "    [rate1_samples, rate2_samples, tswitch_samples], kernel_results = sess.run(results)"
   ]
  },
  {
   "cell_type": "markdown",
   "metadata": {},
   "source": [
    "Now we have samples over the posterior distribution, we can plot confidence intervals in addition to the means (if we just minimized the negative log probability, all we would have are the means). The red rectangles reflect the 95 percent confidence intervales for rate1, rate2 and tswitch while the green lines are the true values used to generate the data."
   ]
  },
  {
   "cell_type": "code",
   "execution_count": 8,
   "metadata": {},
   "outputs": [],
   "source": [
    "pct = [.05, .5, .95]\n",
    "rate1_inferred = np.percentile(rate1_samples, pct)\n",
    "rate2_inferred = np.percentile(rate2_samples, pct)\n",
    "tswitch_inferred = np.percentile(tswitch_samples, pct)"
   ]
  },
  {
   "cell_type": "code",
   "execution_count": 9,
   "metadata": {},
   "outputs": [
    {
     "data": {
      "image/png": "[encoded data removed]",
      "text/plain": [
       "<Figure size 1080x360 with 1 Axes>"
      ]
     },
     "metadata": {
      "needs_background": "light"
     },
     "output_type": "display_data"
    }
   ],
   "source": [
    "plt.figure(figsize=(15, 5))\n",
    "plt.bar(t, y[0], alpha=.4)\n",
    "plt.vlines(TSWITCH, ymin=0, ymax=max(y[0]), color='green')\n",
    "plt.fill_between(x=[tswitch_inferred[0], tswitch_inferred[2]], y1=0, y2=max(y[0]), color='red')\n",
    "plt.hlines(RATE1, xmin=TSTART, xmax=TSWITCH, color='green')\n",
    "plt.fill_betweenx(y=[rate1_inferred[0], rate1_inferred[2]], x1=0, x2=TSWITCH, color='red')\n",
    "plt.hlines(RATE2, xmin=TSWITCH, xmax=TEND, color='green')\n",
    "plt.fill_betweenx(y=[rate2_inferred[0], rate2_inferred[2]], x1=TSWITCH, x2=TEND, color='red')\n",
    "plt.show()"
   ]
  }
 ],
 "metadata": {
  "kernelspec": {
   "display_name": "Python 3",
   "language": "python",
   "name": "python3"
  },
  "language_info": {
   "codemirror_mode": {
    "name": "ipython",
    "version": 3
   },
   "file_extension": ".py",
   "mimetype": "text/x-python",
   "name": "python",
   "nbconvert_exporter": "python",
   "pygments_lexer": "ipython3",
   "version": "3.6.8"
  }
 },
 "nbformat": 4,
 "nbformat_minor": 2
}
