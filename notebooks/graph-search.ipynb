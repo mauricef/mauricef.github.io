{
 "cells": [
  {
   "cell_type": "code",
   "execution_count": 1,
   "metadata": {},
   "outputs": [],
   "source": [
    "from collections import deque, defaultdict\n",
    "import heapq\n",
    "\n",
    "import networkx as nx\n",
    "import nxpd\n",
    "nxpd.nxpdParams['show'] = 'ipynb'"
   ]
  },
  {
   "cell_type": "markdown",
   "metadata": {},
   "source": [
    "# Graph Search Algorithms\n",
    "This notebook demonstrates some simple graph search algorithms, the goal is to find a path from node \"a\" to node \"e\". We walk through a couple of approaches to this starting with simple breadth first and depth first search then Dijkstra's algorithm and finally A*."
   ]
  },
  {
   "cell_type": "code",
   "execution_count": 2,
   "metadata": {},
   "outputs": [
    {
     "data": {
      "image/png": "[encoded data removed]",
      "text/plain": [
       "<IPython.core.display.Image object>"
      ]
     },
     "execution_count": 2,
     "metadata": {},
     "output_type": "execute_result"
    }
   ],
   "source": [
    "weighted_edges = [\n",
    "    ('a', 'b', 1),\n",
    "    ('b', 'c', 1),\n",
    "    ('c', 'd', 1),\n",
    "    ('d', 'e', 1),\n",
    "    ('a', 'c', 1),\n",
    "    ('a', 'd', 4)\n",
    "]\n",
    "g = nx.DiGraph()\n",
    "for v1, v2, weight in weighted_edges:\n",
    "    g.add_edge(v1, v2, weight=weight, label=str(weight))\n",
    "nxpd.draw(g)"
   ]
  },
  {
   "cell_type": "markdown",
   "metadata": {},
   "source": [
    "## Depth First\n",
    "The depth first algorithm explores the graph recursively and discovers the path $A->B->C->D->E$"
   ]
  },
  {
   "cell_type": "code",
   "execution_count": 3,
   "metadata": {},
   "outputs": [],
   "source": [
    "def depth_first(g, vs, ve, path=None):\n",
    "    path = [vs] if path is None else path + [vs]\n",
    "    if vs == ve:\n",
    "        return path\n",
    "    for child in g.adj[vs]:\n",
    "        child_path = depth_first(g, child, ve, path)\n",
    "        if child_path is not None:\n",
    "            return child_path"
   ]
  },
  {
   "cell_type": "code",
   "execution_count": 4,
   "metadata": {},
   "outputs": [
    {
     "data": {
      "text/plain": [
       "['a', 'b', 'c', 'd', 'e']"
      ]
     },
     "execution_count": 4,
     "metadata": {},
     "output_type": "execute_result"
    }
   ],
   "source": [
    "list(depth_first(g, 'a', 'e'))"
   ]
  },
  {
   "cell_type": "markdown",
   "metadata": {},
   "source": [
    "## Breadth First\n",
    "The breadth first algorithm explores the graph using level-order traversal via a deque, it finds the path $A->D->E$ which is the shortest path in terms of number of edges traversed."
   ]
  },
  {
   "cell_type": "code",
   "execution_count": 5,
   "metadata": {},
   "outputs": [],
   "source": [
    "def breadth_first(g, vs, ve):\n",
    "    visited = set()\n",
    "    q = deque([(vs, (vs,))])\n",
    "    while q:\n",
    "        v1, p1 = q.popleft()\n",
    "        if v1 not in visited:\n",
    "            if v1 == ve:\n",
    "                return p1\n",
    "            visited.add(v1)\n",
    "            q.extend([(v2, p1+(v2,)) for v2 in g.adj[v1]])"
   ]
  },
  {
   "cell_type": "code",
   "execution_count": 6,
   "metadata": {},
   "outputs": [
    {
     "data": {
      "text/plain": [
       "['a', 'd', 'e']"
      ]
     },
     "execution_count": 6,
     "metadata": {},
     "output_type": "execute_result"
    }
   ],
   "source": [
    "list(breadth_first(g, 'a', 'e'))"
   ]
  },
  {
   "cell_type": "markdown",
   "metadata": {},
   "source": [
    "## Dijkstra's\n",
    "Dijkstra's algorithm takes into account the edge weights and explores the minimum frontier of the graph at each step, finding the path with the minimum weight cost which is neither the longest (depth first) or shortest(breadth first) path. Dijkstra's algorithm requires six steps to find this path."
   ]
  },
  {
   "cell_type": "code",
   "execution_count": 7,
   "metadata": {},
   "outputs": [],
   "source": [
    "def dijkstra(g, vs, ve):\n",
    "    steps = 0\n",
    "    visited = set()\n",
    "    heap = [(0, vs, (vs,))]\n",
    "    while heap:\n",
    "        steps += 1\n",
    "        d1, v1, p1 = heapq.heappop(heap)\n",
    "        if v1 not in visited:\n",
    "            if v1 == ve:\n",
    "                return p1, steps\n",
    "            visited.add(v1)\n",
    "            for v2 in g.adj[v1]:\n",
    "                p2 = p1 + (v2,)\n",
    "                d2 = d1 + g.get_edge_data(v1, v2)['weight']\n",
    "                heapq.heappush(heap, (d2, v2, p2))"
   ]
  },
  {
   "cell_type": "code",
   "execution_count": 8,
   "metadata": {},
   "outputs": [
    {
     "name": "stdout",
     "output_type": "stream",
     "text": [
      "Found ('a', 'c', 'd', 'e') in 6 steps.\n"
     ]
    }
   ],
   "source": [
    "path, steps = dijkstra(g, 'a', 'e')\n",
    "print(f'Found {path} in {steps} steps.')"
   ]
  },
  {
   "cell_type": "markdown",
   "metadata": {},
   "source": [
    "## A*\n",
    "The A* algorithm finds the same path as Dijkstra's algorithm, the minimum weighted path, but finds it in fewer steps (four instead of six) by taking into account a heuristic which is the minimum path length from each node to the goal node \"E\". Note that this minimum path always underestimates the weighted path length which is a requirement for the heuristic when using A*."
   ]
  },
  {
   "cell_type": "code",
   "execution_count": 9,
   "metadata": {},
   "outputs": [],
   "source": [
    "def astar(g, vs, ve, h):\n",
    "    steps = 0\n",
    "    visited = set()\n",
    "    heap = [(0+h[vs], 0, vs, (vs,))]\n",
    "    while heap:\n",
    "        steps += 1\n",
    "        f1, d1, v1, p1 = heapq.heappop(heap)\n",
    "        if v1 not in visited:\n",
    "            if v1 == ve:\n",
    "                return p1, steps\n",
    "            visited.add(v1)\n",
    "            for v2 in g.adj[v1]:\n",
    "                p2 = p1 + (v2,)\n",
    "                d2 = d1 + g.get_edge_data(v1, v2)['weight']\n",
    "                f2 = d2 + h[v2]\n",
    "                heapq.heappush(heap, (f2, d2, v2, p2))"
   ]
  },
  {
   "cell_type": "code",
   "execution_count": 10,
   "metadata": {},
   "outputs": [],
   "source": [
    "min_path_length_to_e = {\n",
    "    'a': 2,\n",
    "    'b': 4,\n",
    "    'c': 3,\n",
    "    'd': 1,\n",
    "    'e': 0\n",
    "}"
   ]
  },
  {
   "cell_type": "code",
   "execution_count": 11,
   "metadata": {},
   "outputs": [
    {
     "name": "stdout",
     "output_type": "stream",
     "text": [
      "Found ('a', 'c', 'd', 'e') in 4 steps.\n"
     ]
    }
   ],
   "source": [
    "path, steps = astar(g, 'a', 'e', min_path_length_to_e)\n",
    "print(f'Found {path} in {steps} steps.')"
   ]
  }
 ],
 "metadata": {
  "kernelspec": {
   "display_name": "Python 3",
   "language": "python",
   "name": "python3"
  },
  "language_info": {
   "codemirror_mode": {
    "name": "ipython",
    "version": 3
   },
   "file_extension": ".py",
   "mimetype": "text/x-python",
   "name": "python",
   "nbconvert_exporter": "python",
   "pygments_lexer": "ipython3",
   "version": "3.6.8"
  }
 },
 "nbformat": 4,
 "nbformat_minor": 2
}
